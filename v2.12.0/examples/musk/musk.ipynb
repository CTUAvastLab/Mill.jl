{
 "cells": [
  {
   "cell_type": "markdown",
   "source": [
    "# Musk"
   ],
   "metadata": {}
  },
  {
   "cell_type": "markdown",
   "source": [
    "[`Musk dataset`](https://archive.ics.uci.edu/ml/datasets/Musk+\\(Version+2\\)) is a classic MIL problem of the field, introduced in [Thomas G. Dietterich, Richard H. Lathrop, Tomás Lozano-Pérez (1997)](http://www.sciencedirect.com/science/article/pii/S0004370296000343). Below we demonstrate how to solve this problem using [`Mill.jl`](https://github.com/CTUAvastLab/Mill.jl).\n",
    "The full environment and the script is accessible [here](https://github.com/CTUAvastLab/Mill.jl/tree/master/docs/src/examples/musk)."
   ],
   "metadata": {}
  },
  {
   "cell_type": "markdown",
   "source": [
    "We start by activating the environment and installing required packages"
   ],
   "metadata": {}
  },
  {
   "outputs": [
    {
     "name": "stdout",
     "output_type": "stream",
     "text": [
      "  Activating project at `~/work/Mill.jl/Mill.jl/docs/src/examples/musk`\n",
      "Status `~/work/Mill.jl/Mill.jl/docs/src/examples/musk/Project.toml`\n",
      "  [5789e2e9] FileIO v1.16.6\n",
      "  [587475ba] Flux v0.16.0\n",
      "  [033835bb] JLD2 v0.5.10\n",
      "  [1d0525e4] Mill v2.12.0 `../../../..`\n",
      "  [0b1bfda6] OneHotArrays v0.2.6\n",
      "  [10745b16] Statistics v1.11.1\n",
      "  [e88e6eb3] Zygote v0.6.74\n"
     ]
    }
   ],
   "cell_type": "code",
   "source": [
    "using Pkg\n",
    "Pkg.activate(pwd())\n",
    "Pkg.instantiate()\n",
    "Pkg.status()"
   ],
   "metadata": {},
   "execution_count": 1
  },
  {
   "cell_type": "markdown",
   "source": [
    "We load all dependencies and fix the seed:"
   ],
   "metadata": {}
  },
  {
   "outputs": [],
   "cell_type": "code",
   "source": [
    "using FileIO, JLD2, Statistics, Mill, Flux, OneHotArrays\n",
    "\n",
    "using Random; Random.seed!(42);"
   ],
   "metadata": {},
   "execution_count": 2
  },
  {
   "cell_type": "markdown",
   "source": [
    "### Loading the data"
   ],
   "metadata": {}
  },
  {
   "cell_type": "markdown",
   "source": [
    "Now we load the dataset and transform it into a [`Mill.jl`](https://github.com/CTUAvastLab/Mill.jl) structure. The `musk.jld2` file contains...\n",
    "* a matrix with features, each column is one instance:"
   ],
   "metadata": {}
  },
  {
   "outputs": [
    {
     "output_type": "execute_result",
     "data": {
      "text/plain": "166×476 Matrix{Float32}:\n   42.0    42.0    42.0    42.0    42.0  …    38.0    43.0    39.0    52.0\n -198.0  -191.0  -191.0  -198.0  -198.0     -123.0  -102.0   -58.0  -121.0\n -109.0  -142.0  -142.0  -110.0  -102.0     -139.0   -20.0    27.0   -24.0\n  -75.0   -65.0   -75.0   -65.0   -75.0       30.0  -101.0    31.0  -104.0\n -117.0  -117.0  -117.0  -117.0  -117.0     -117.0  -116.0  -117.0  -116.0\n   11.0    55.0    11.0    55.0    10.0  …   -88.0   200.0   -92.0   195.0\n   23.0    49.0    49.0    23.0    24.0      214.0  -166.0    85.0  -162.0\n  -88.0  -170.0  -161.0   -95.0   -87.0      -13.0    66.0    21.0    76.0\n  -28.0   -45.0   -45.0   -28.0   -28.0      -74.0  -222.0   -73.0  -226.0\n  -27.0     5.0   -28.0     5.0   -28.0     -129.0   -49.0   -68.0   -56.0\n    ⋮                                    ⋱                             ⋮\n  -74.0  -302.0   -73.0  -302.0   -73.0     -226.0    32.0  -232.0    34.0\n -129.0    60.0  -127.0    60.0  -127.0     -210.0   136.0  -206.0   133.0\n -120.0  -120.0  -120.0  -120.0    51.0       20.0   -15.0    13.0   -20.0\n  -38.0   -39.0   -38.0   -39.0   128.0  …    55.0   143.0    45.0   -46.0\n   30.0    31.0    30.0    30.0   144.0      119.0   121.0   116.0    95.0\n   48.0    48.0    48.0    48.0    43.0       79.0    55.0    79.0    98.0\n  -37.0   -37.0   -37.0   -37.0   -30.0      -28.0   -37.0   -28.0   -14.0\n    6.0     5.0     5.0     6.0    14.0        4.0   -19.0     3.0    12.0\n   30.0    30.0    31.0    30.0    26.0  …    74.0   -36.0    74.0    96.0"
     },
     "metadata": {},
     "execution_count": 3
    }
   ],
   "cell_type": "code",
   "source": [
    "fMat = load(\"musk.jld2\", \"fMat\")"
   ],
   "metadata": {},
   "execution_count": 3
  },
  {
   "cell_type": "markdown",
   "source": [
    "* the ids of samples (*bags* in MIL terminology) specifying to which each instance (column in `fMat`) belongs to:"
   ],
   "metadata": {}
  },
  {
   "outputs": [
    {
     "output_type": "execute_result",
     "data": {
      "text/plain": "476-element Vector{Int64}:\n  1\n  1\n  1\n  1\n  2\n  2\n  2\n  2\n  3\n  3\n  ⋮\n 91\n 92\n 92\n 92\n 92\n 92\n 92\n 92\n 92"
     },
     "metadata": {},
     "execution_count": 4
    }
   ],
   "cell_type": "code",
   "source": [
    "bagids = load(\"musk.jld2\", \"bagids\")"
   ],
   "metadata": {},
   "execution_count": 4
  },
  {
   "cell_type": "markdown",
   "source": [
    "* and labels defined on the level of instances:"
   ],
   "metadata": {}
  },
  {
   "outputs": [
    {
     "output_type": "execute_result",
     "data": {
      "text/plain": "476-element Vector{Int64}:\n 1\n 1\n 1\n 1\n 1\n 1\n 1\n 1\n 1\n 1\n ⋮\n 0\n 0\n 0\n 0\n 0\n 0\n 0\n 0\n 0"
     },
     "metadata": {},
     "execution_count": 5
    }
   ],
   "cell_type": "code",
   "source": [
    "y = load(\"musk.jld2\", \"y\")"
   ],
   "metadata": {},
   "execution_count": 5
  },
  {
   "cell_type": "markdown",
   "source": [
    "We create a `BagNode` structure which holds:\n",
    "1. feature matrix and\n",
    "2. ranges identifying which columns in the feature matrix each bag spans."
   ],
   "metadata": {}
  },
  {
   "outputs": [
    {
     "output_type": "execute_result",
     "data": {
      "text/plain": "\u001b[34mBagNode\u001b[39m\u001b[90m\u001b[3m  92 obs\u001b[23m\u001b[39m\n\u001b[34m  ╰── \u001b[39m\u001b[39mArrayNode(166×476 Array with Float32 elements)\u001b[90m\u001b[3m  476 obs\u001b[23m\u001b[39m"
     },
     "metadata": {},
     "execution_count": 6
    }
   ],
   "cell_type": "code",
   "source": [
    "ds = BagNode(ArrayNode(fMat), bagids)"
   ],
   "metadata": {},
   "execution_count": 6
  },
  {
   "cell_type": "markdown",
   "source": [
    "This representation ensures that feed-forward networks do not need to deal with bag boundaries and always process full continuous matrices:"
   ],
   "metadata": {}
  },
  {
   "cell_type": "markdown",
   "source": [
    "We also compute labels on the level of bags. In the `Musk` problem, bag label is defined as a maximum of instance labels (i.e. a bag is positive if at least one of its instances is positive):"
   ],
   "metadata": {}
  },
  {
   "outputs": [
    {
     "output_type": "execute_result",
     "data": {
      "text/plain": "2×92 OneHotMatrix(::Vector{UInt32}) with eltype Bool:\n ⋅  ⋅  ⋅  ⋅  ⋅  ⋅  ⋅  ⋅  ⋅  ⋅  ⋅  ⋅  ⋅  …  1  1  1  1  1  1  1  1  1  1  1  1\n 1  1  1  1  1  1  1  1  1  1  1  1  1     ⋅  ⋅  ⋅  ⋅  ⋅  ⋅  ⋅  ⋅  ⋅  ⋅  ⋅  ⋅"
     },
     "metadata": {},
     "execution_count": 7
    }
   ],
   "cell_type": "code",
   "source": [
    "y = map(i -> maximum(y[i]) + 1, ds.bags)\n",
    "y_oh = onehotbatch(y, 1:2)"
   ],
   "metadata": {},
   "execution_count": 7
  },
  {
   "cell_type": "markdown",
   "source": [
    "### Model construction"
   ],
   "metadata": {}
  },
  {
   "cell_type": "markdown",
   "source": [
    "Once the data are in [`Mill.jl`](https://github.com/CTUAvastLab/Mill.jl) internal format, we will manually create a model. `BagModel` is designed to implement a basic multi-instance learning model utilizing two feed-forward networks with an aggregaton operator in between:"
   ],
   "metadata": {}
  },
  {
   "outputs": [
    {
     "output_type": "execute_result",
     "data": {
      "text/plain": "\u001b[34mBagModel ↦ [SegmentedMean(50); SegmentedMax(50)] ↦ Chain(Dense(100 => 50, tanh \u001b[39m\u001b[90m⋯\u001b[39m\n\u001b[34m  ╰── \u001b[39m\u001b[39mArrayModel(Dense(166 => 50, tanh))\u001b[90m\u001b[3m  2 arrays, 8_350 params, 32.703 KiB\u001b[23m\u001b[39m"
     },
     "metadata": {},
     "execution_count": 8
    }
   ],
   "cell_type": "code",
   "source": [
    "model = BagModel(\n",
    "    Dense(166, 50, Flux.tanh),\n",
    "    SegmentedMeanMax(50),\n",
    "    Chain(Dense(100, 50, Flux.tanh), Dense(50, 2)))"
   ],
   "metadata": {},
   "execution_count": 8
  },
  {
   "cell_type": "markdown",
   "source": [
    "Instances are first passed through a single layer with 50 neurons (input dimension is 166) with `tanh` non-linearity, then we use `mean` and `max` aggregation functions simultaneously (for some problems, max is better then mean, therefore we use both), and then we use one layer with 50 neurons and `tanh` nonlinearity followed by linear layer with 2 neurons (output dimension). We check that forward pass works"
   ],
   "metadata": {}
  },
  {
   "outputs": [
    {
     "output_type": "execute_result",
     "data": {
      "text/plain": "2×92 Matrix{Float32}:\n  0.890284  1.01132    0.88188   0.917716  …   1.46193  -0.254     -1.00311\n -0.864341  0.303749  -0.324059  0.144588     -0.71427   0.569848  -0.302701"
     },
     "metadata": {},
     "execution_count": 9
    }
   ],
   "cell_type": "code",
   "source": [
    "model(ds)"
   ],
   "metadata": {},
   "execution_count": 9
  },
  {
   "cell_type": "markdown",
   "source": [
    "### Training"
   ],
   "metadata": {}
  },
  {
   "cell_type": "markdown",
   "source": [
    "Since [`Mill.jl`](https://github.com/CTUAvastLab/Mill.jl) is entirely compatible with [`Flux.jl`](https://fluxml.ai), we can use its `Adam` optimizer:"
   ],
   "metadata": {}
  },
  {
   "outputs": [],
   "cell_type": "code",
   "source": [
    "opt_state = Flux.setup(Adam(), model);"
   ],
   "metadata": {},
   "execution_count": 10
  },
  {
   "cell_type": "markdown",
   "source": [
    "...define a loss function as `Flux.logitcrossentropy`:"
   ],
   "metadata": {}
  },
  {
   "outputs": [],
   "cell_type": "code",
   "source": [
    "loss(m, x, y) = Flux.Losses.logitcrossentropy(m(x), y);"
   ],
   "metadata": {},
   "execution_count": 11
  },
  {
   "cell_type": "markdown",
   "source": [
    "...and run a simple training procedure using the `Flux.train!` procedure:"
   ],
   "metadata": {}
  },
  {
   "outputs": [
    {
     "name": "stdout",
     "output_type": "stream",
     "text": [
      "┌ Info: Epoch 1\n",
      "└   training_loss = 0.79128915f0\n",
      "┌ Info: Epoch 11\n",
      "└   training_loss = 0.39437693f0\n",
      "┌ Info: Epoch 21\n",
      "└   training_loss = 0.26019752f0\n",
      "┌ Info: Epoch 31\n",
      "└   training_loss = 0.17811286f0\n",
      "┌ Info: Epoch 41\n",
      "└   training_loss = 0.12101426f0\n",
      "┌ Info: Epoch 51\n",
      "└   training_loss = 0.08384432f0\n",
      "┌ Info: Epoch 61\n",
      "└   training_loss = 0.056013018f0\n",
      "┌ Info: Epoch 71\n",
      "└   training_loss = 0.04046665f0\n",
      "┌ Info: Epoch 81\n",
      "└   training_loss = 0.028798176f0\n",
      "┌ Info: Epoch 91\n",
      "└   training_loss = 0.021703953f0\n"
     ]
    }
   ],
   "cell_type": "code",
   "source": [
    "for e in 1:100\n",
    "    if e % 10 == 1\n",
    "        @info \"Epoch $e\" training_loss=loss(model, ds, y_oh)\n",
    "    end\n",
    "    Flux.train!(loss, model, [(ds, y_oh)], opt_state)\n",
    "end"
   ],
   "metadata": {},
   "execution_count": 12
  },
  {
   "cell_type": "markdown",
   "source": [
    "Finally, we calculate the (training) accuracy:"
   ],
   "metadata": {}
  },
  {
   "outputs": [
    {
     "output_type": "execute_result",
     "data": {
      "text/plain": "1.0"
     },
     "metadata": {},
     "execution_count": 13
    }
   ],
   "cell_type": "code",
   "source": [
    "mean(Flux.onecold(model(ds), 1:2) .== y)"
   ],
   "metadata": {},
   "execution_count": 13
  },
  {
   "cell_type": "markdown",
   "source": [
    "---\n",
    "\n",
    "*This notebook was generated using [Literate.jl](https://github.com/fredrikekre/Literate.jl).*"
   ],
   "metadata": {}
  }
 ],
 "nbformat_minor": 3,
 "metadata": {
  "language_info": {
   "file_extension": ".jl",
   "mimetype": "application/julia",
   "name": "julia",
   "version": "1.11.2"
  },
  "kernelspec": {
   "name": "julia-1.11",
   "display_name": "Julia 1.11.2",
   "language": "julia"
  }
 },
 "nbformat": 4
}

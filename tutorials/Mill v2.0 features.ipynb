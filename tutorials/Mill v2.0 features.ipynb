{
 "cells": [
  {
   "cell_type": "markdown",
   "metadata": {},
   "source": [
    "# Mill v2.0 features"
   ]
  },
  {
   "cell_type": "code",
   "execution_count": 1,
   "metadata": {},
   "outputs": [
    {
     "name": "stderr",
     "output_type": "stream",
     "text": [
      "┌ Info: Precompiling Mill [1d0525e4-8992-11e8-313c-e310e1f6ddea]\n",
      "└ @ Base loading.jl:1278\n"
     ]
    }
   ],
   "source": [
    "using Mill, Flux, FileIO, JLD2, SparseArrays, BenchmarkTools, Setfield"
   ]
  },
  {
   "cell_type": "markdown",
   "metadata": {},
   "source": [
    "## Bag count\n",
    "\n",
    "- `AggregationFunction` changed to `AggregationOperator` for clarity and are not meant to be used by the user.\n",
    "- Reduced number of exported `Segmented*` methods\n",
    "- `Segmented*` calls now return `Aggregation` type even for aggregations using only one operator.\n",
    "- All `Aggregation{T}` types now append `log(length(bag) + one(T))` unless a global flag is not set\n",
    "- slightly more strict type checking\n",
    "- `Aggregation` is now flattened upon construction\n",
    "- smart `vcat` implemented"
   ]
  },
  {
   "cell_type": "code",
   "execution_count": 98,
   "metadata": {},
   "outputs": [
    {
     "data": {
      "text/plain": [
       "Aggregation{Float32,2}:\n",
       " SegmentedMean(ψ = Float32[0.0, 0.0, 0.0])\n",
       " SegmentedMax(ψ = Float32[0.0, 0.0, 0.0])"
      ]
     },
     "execution_count": 98,
     "metadata": {},
     "output_type": "execute_result"
    }
   ],
   "source": [
    "a = SegmentedMeanMax(3)"
   ]
  },
  {
   "cell_type": "code",
   "execution_count": 3,
   "metadata": {},
   "outputs": [
    {
     "data": {
      "text/plain": [
       "Aggregation{Float32,1}"
      ]
     },
     "execution_count": 3,
     "metadata": {},
     "output_type": "execute_result"
    }
   ],
   "source": [
    "SegmentedMean(3) |> typeof"
   ]
  },
  {
   "cell_type": "code",
   "execution_count": 4,
   "metadata": {},
   "outputs": [
    {
     "data": {
      "text/plain": [
       "SegmentedMean{Float64,Array{Float64,1}}"
      ]
     },
     "execution_count": 4,
     "metadata": {},
     "output_type": "execute_result"
    }
   ],
   "source": [
    "SegmentedMean(zeros(3)) |> typeof"
   ]
  },
  {
   "cell_type": "code",
   "execution_count": 99,
   "metadata": {},
   "outputs": [
    {
     "data": {
      "text/plain": [
       "3×3 Array{Float32,2}:\n",
       " 1.0  4.0  7.0\n",
       " 2.0  5.0  8.0\n",
       " 3.0  6.0  9.0"
      ]
     },
     "execution_count": 99,
     "metadata": {},
     "output_type": "execute_result"
    }
   ],
   "source": [
    "x = reshape(1:9, 3, 3) |> f32"
   ]
  },
  {
   "cell_type": "code",
   "execution_count": 6,
   "metadata": {},
   "outputs": [
    {
     "data": {
      "text/plain": [
       "7×2 Array{Float32,2}:\n",
       " 2.5      7.0\n",
       " 3.5      8.0\n",
       " 4.5      9.0\n",
       " 4.0      7.0\n",
       " 5.0      8.0\n",
       " 6.0      9.0\n",
       " 1.09861  0.693147"
      ]
     },
     "execution_count": 6,
     "metadata": {},
     "output_type": "execute_result"
    }
   ],
   "source": [
    "a(x, Mill.bags([1:2, 3:3]))"
   ]
  },
  {
   "cell_type": "code",
   "execution_count": 100,
   "metadata": {},
   "outputs": [
    {
     "data": {
      "text/plain": [
       "6×2 Array{Float32,2}:\n",
       " 2.5  0.0\n",
       " 3.5  0.0\n",
       " 4.5  0.0\n",
       " 4.0  0.0\n",
       " 5.0  0.0\n",
       " 6.0  0.0"
      ]
     },
     "execution_count": 100,
     "metadata": {},
     "output_type": "execute_result"
    }
   ],
   "source": [
    "a(x[:, 1:2], Mill.bags([1:2, 0:-1]))"
   ]
  },
  {
   "cell_type": "code",
   "execution_count": 7,
   "metadata": {},
   "outputs": [
    {
     "data": {
      "text/plain": [
       "true"
      ]
     },
     "execution_count": 7,
     "metadata": {},
     "output_type": "execute_result"
    }
   ],
   "source": [
    "Mill.bagcount()"
   ]
  },
  {
   "cell_type": "code",
   "execution_count": 8,
   "metadata": {},
   "outputs": [
    {
     "data": {
      "text/plain": [
       "false"
      ]
     },
     "execution_count": 8,
     "metadata": {},
     "output_type": "execute_result"
    }
   ],
   "source": [
    "Mill.bagcount!(false)\n",
    "Mill.bagcount()"
   ]
  },
  {
   "cell_type": "code",
   "execution_count": 9,
   "metadata": {},
   "outputs": [
    {
     "data": {
      "text/plain": [
       "6×2 Array{Float32,2}:\n",
       " 2.5  7.0\n",
       " 3.5  8.0\n",
       " 4.5  9.0\n",
       " 4.0  7.0\n",
       " 5.0  8.0\n",
       " 6.0  9.0"
      ]
     },
     "execution_count": 9,
     "metadata": {},
     "output_type": "execute_result"
    }
   ],
   "source": [
    "a(x, Mill.bags([1:2, 3:3]))"
   ]
  },
  {
   "cell_type": "code",
   "execution_count": 10,
   "metadata": {},
   "outputs": [
    {
     "data": {
      "text/plain": [
       "Aggregation{Float32,4}:\n",
       " SegmentedPNorm(ψ = Float32[-3.06445, 2.75515, -0.276394], ρ = Float32[-0.384319, 0.15008, 0.489879], c = Float32[0.0, 0.0, 0.0])\n",
       " SegmentedLSE(ψ = Float32[-1.15335, -1.46075, -0.611554], ρ = Float32[0.0, 0.0, 0.0])\n",
       " SegmentedMean(ψ = Float32[0.0, 0.0, 0.0])\n",
       " SegmentedMax(ψ = Float32[0.0, 0.0, 0.0])"
      ]
     },
     "execution_count": 10,
     "metadata": {},
     "output_type": "execute_result"
    }
   ],
   "source": [
    "a = Aggregation(SegmentedPNormLSE(3), Aggregation(SegmentedMean(3)), SegmentedMax(3))"
   ]
  },
  {
   "cell_type": "code",
   "execution_count": 11,
   "metadata": {},
   "outputs": [
    {
     "data": {
      "text/plain": [
       "Aggregation{Float32,3}:\n",
       " SegmentedMean(ψ = Float32[0.0, 0.0])\n",
       " SegmentedMean(ψ = Float32[0.0, 0.0])\n",
       " SegmentedMax(ψ = Float32[0.0, 0.0])"
      ]
     },
     "execution_count": 11,
     "metadata": {},
     "output_type": "execute_result"
    }
   ],
   "source": [
    "vcat(SegmentedMean(2), SegmentedMeanMax(2))"
   ]
  },
  {
   "cell_type": "markdown",
   "metadata": {},
   "source": [
    "## Row imputing"
   ]
  },
  {
   "cell_type": "code",
   "execution_count": 12,
   "metadata": {},
   "outputs": [
    {
     "data": {
      "text/plain": [
       "3×3 RowImputingMatrix{Float64,Array{Float64,1},Array{Float64,2}}:\n",
       "W:\n",
       " 0.155935  0.723339  0.580908\n",
       " 0.155259  0.180053  0.212448\n",
       " 0.162214  0.737055  0.739456\n",
       "\n",
       "ψ:\n",
       " 0.0  0.0  0.0"
      ]
     },
     "execution_count": 12,
     "metadata": {},
     "output_type": "execute_result"
    }
   ],
   "source": [
    "A = RowImputingMatrix(rand(3,3))\n",
    "A::AbstractMatrix{Float64}"
   ]
  },
  {
   "cell_type": "code",
   "execution_count": 13,
   "metadata": {},
   "outputs": [
    {
     "data": {
      "text/plain": [
       "3×6 RowImputingMatrix{Float64,Array{Float64,1},Array{Float64,2}}:\n",
       "W:\n",
       " 0.155935  0.723339  0.580908  0.155935  0.723339  0.580908\n",
       " 0.155259  0.180053  0.212448  0.155259  0.180053  0.212448\n",
       " 0.162214  0.737055  0.739456  0.162214  0.737055  0.739456\n",
       "\n",
       "ψ:\n",
       " 0.0  0.0  0.0  0.0  0.0  0.0"
      ]
     },
     "execution_count": 13,
     "metadata": {},
     "output_type": "execute_result"
    }
   ],
   "source": [
    "hcat(A, A)"
   ]
  },
  {
   "cell_type": "code",
   "execution_count": 14,
   "metadata": {},
   "outputs": [
    {
     "data": {
      "text/plain": [
       "3×2 Array{Float64,2}:\n",
       " 0.0891233  0.648923\n",
       " 0.799927   0.681042\n",
       " 0.0731798  0.519837"
      ]
     },
     "execution_count": 14,
     "metadata": {},
     "output_type": "execute_result"
    }
   ],
   "source": [
    "X = rand(3, 2)"
   ]
  },
  {
   "cell_type": "code",
   "execution_count": 15,
   "metadata": {},
   "outputs": [
    {
     "data": {
      "text/plain": [
       "3×2 Array{Float64,2}:\n",
       " 0.635026  0.895792\n",
       " 0.173413  0.333813\n",
       " 0.658161  0.991626"
      ]
     },
     "execution_count": 15,
     "metadata": {},
     "output_type": "execute_result"
    }
   ],
   "source": [
    "A * X"
   ]
  },
  {
   "cell_type": "code",
   "execution_count": 16,
   "metadata": {},
   "outputs": [
    {
     "data": {
      "text/plain": [
       "3×2 Array{Union{Missing, Float64},2}:\n",
       " 1.0        missing\n",
       "  missing  2.0\n",
       " 3.0       4.0"
      ]
     },
     "execution_count": 16,
     "metadata": {},
     "output_type": "execute_result"
    }
   ],
   "source": [
    "Y = [1.0 missing; missing 2.0; 3.0 4.0]"
   ]
  },
  {
   "cell_type": "code",
   "execution_count": 17,
   "metadata": {},
   "outputs": [
    {
     "data": {
      "text/plain": [
       "3×2 Array{Float64,2}:\n",
       " 1.89866   3.77031\n",
       " 0.792604  1.2099\n",
       " 2.38058   4.43194"
      ]
     },
     "execution_count": 17,
     "metadata": {},
     "output_type": "execute_result"
    }
   ],
   "source": [
    "A * Y"
   ]
  },
  {
   "cell_type": "code",
   "execution_count": 18,
   "metadata": {},
   "outputs": [
    {
     "data": {
      "text/plain": [
       "3-element Array{Missing,1}:\n",
       " missing\n",
       " missing\n",
       " missing"
      ]
     },
     "execution_count": 18,
     "metadata": {},
     "output_type": "execute_result"
    }
   ],
   "source": [
    "Z = [missing, missing, missing]"
   ]
  },
  {
   "cell_type": "code",
   "execution_count": 19,
   "metadata": {},
   "outputs": [
    {
     "data": {
      "text/plain": [
       "3-element Array{Float64,1}:\n",
       " 0.0\n",
       " 0.0\n",
       " 0.0"
      ]
     },
     "execution_count": 19,
     "metadata": {},
     "output_type": "execute_result"
    }
   ],
   "source": [
    "A * Z"
   ]
  },
  {
   "cell_type": "code",
   "execution_count": 20,
   "metadata": {},
   "outputs": [
    {
     "data": {
      "text/plain": [
       "((W = [0.7380466677961675 1.4809689890984554 0.5930163827685073; 0.7380466677961675 1.4809689890984554 0.5930163827685073; 0.7380466677961675 1.4809689890984554 0.5930163827685073], ψ = nothing), [0.47340833531452753 0.47340833531452753; 1.6404463299186878 1.6404463299186878; 1.5328131540709018 1.5328131540709018])"
      ]
     },
     "execution_count": 20,
     "metadata": {},
     "output_type": "execute_result"
    }
   ],
   "source": [
    "gradient((x, y) -> x * y |> sum, A, X)"
   ]
  },
  {
   "cell_type": "code",
   "execution_count": 21,
   "metadata": {},
   "outputs": [
    {
     "data": {
      "text/plain": [
       "((W = [1.0 2.0 7.0; 1.0 2.0 7.0; 1.0 2.0 7.0], ψ = [0.47340833531452753; 1.6404463299186878; 0.0]), [0.47340833531452753 0.0; 0.0 1.6404463299186878; 1.5328131540709018 1.5328131540709018])"
      ]
     },
     "execution_count": 21,
     "metadata": {},
     "output_type": "execute_result"
    }
   ],
   "source": [
    "gradient((x, y) -> x * y |> sum, A, Y)"
   ]
  },
  {
   "cell_type": "code",
   "execution_count": 22,
   "metadata": {},
   "outputs": [
    {
     "data": {
      "text/plain": [
       "((W = [0.0 0.0 0.0; 0.0 0.0 0.0; 0.0 0.0 0.0], ψ = [0.47340833531452753, 1.6404463299186878, 1.5328131540709018]), nothing)"
      ]
     },
     "execution_count": 22,
     "metadata": {},
     "output_type": "execute_result"
    }
   ],
   "source": [
    "gradient((x, y) -> x * y |> sum, A, Z)"
   ]
  },
  {
   "cell_type": "markdown",
   "metadata": {},
   "source": [
    "## Maybe hot"
   ]
  },
  {
   "cell_type": "code",
   "execution_count": 23,
   "metadata": {},
   "outputs": [
    {
     "data": {
      "text/plain": [
       "3-element Flux.OneHotVector:\n",
       " 1\n",
       " 0\n",
       " 0"
      ]
     },
     "execution_count": 23,
     "metadata": {},
     "output_type": "execute_result"
    }
   ],
   "source": [
    "oh1 = Flux.onehot(1, 1:3)"
   ]
  },
  {
   "cell_type": "code",
   "execution_count": 24,
   "metadata": {},
   "outputs": [
    {
     "data": {
      "text/plain": [
       "3-element MaybeHotVector{Int64,Int64,Bool}:\n",
       " 1\n",
       " 0\n",
       " 0"
      ]
     },
     "execution_count": 24,
     "metadata": {},
     "output_type": "execute_result"
    }
   ],
   "source": [
    "mh1 = maybehot(1, 1:3)\n",
    "mh1::AbstractVector{Bool}"
   ]
  },
  {
   "cell_type": "code",
   "execution_count": 25,
   "metadata": {},
   "outputs": [
    {
     "data": {
      "text/plain": [
       "3-element Flux.OneHotVector:\n",
       " 1\n",
       " 0\n",
       " 0"
      ]
     },
     "execution_count": 25,
     "metadata": {},
     "output_type": "execute_result"
    }
   ],
   "source": [
    "Flux.onehot(mh1)"
   ]
  },
  {
   "cell_type": "code",
   "execution_count": 26,
   "metadata": {},
   "outputs": [
    {
     "data": {
      "text/plain": [
       "3-element MaybeHotVector{Missing,Int64,Missing}:\n",
       " missing\n",
       " missing\n",
       " missing"
      ]
     },
     "execution_count": 26,
     "metadata": {},
     "output_type": "execute_result"
    }
   ],
   "source": [
    "mh2 = Mill.maybehot(missing, 1:3)\n",
    "mh2::AbstractVector{Missing}"
   ]
  },
  {
   "cell_type": "code",
   "execution_count": 27,
   "metadata": {},
   "outputs": [
    {
     "data": {
      "text/plain": [
       "3×2 Flux.OneHotMatrix{Array{Flux.OneHotVector,1}}:\n",
       " 1  0\n",
       " 0  0\n",
       " 0  1"
      ]
     },
     "execution_count": 27,
     "metadata": {},
     "output_type": "execute_result"
    }
   ],
   "source": [
    "ohb1 = Flux.onehotbatch([1, 3], 1:3)"
   ]
  },
  {
   "cell_type": "code",
   "execution_count": 28,
   "metadata": {},
   "outputs": [
    {
     "data": {
      "text/plain": [
       "3×2 MaybeHotMatrix{Int64,Array{Int64,1},Int64,Bool}:\n",
       " 1  0\n",
       " 0  0\n",
       " 0  1"
      ]
     },
     "execution_count": 28,
     "metadata": {},
     "output_type": "execute_result"
    }
   ],
   "source": [
    "mhb1 = Mill.maybehotbatch([1, 3], 1:3)\n",
    "mhb1::AbstractMatrix{Bool}"
   ]
  },
  {
   "cell_type": "code",
   "execution_count": 29,
   "metadata": {},
   "outputs": [
    {
     "data": {
      "text/plain": [
       "3×2 Flux.OneHotMatrix{Array{Flux.OneHotVector,1}}:\n",
       " 1  0\n",
       " 0  0\n",
       " 0  1"
      ]
     },
     "execution_count": 29,
     "metadata": {},
     "output_type": "execute_result"
    }
   ],
   "source": [
    "Flux.onehotbatch(mhb1)"
   ]
  },
  {
   "cell_type": "code",
   "execution_count": 30,
   "metadata": {},
   "outputs": [
    {
     "data": {
      "text/plain": [
       "3×3 MaybeHotMatrix{Union{Missing, Int64},Array{Union{Missing, Int64},1},Int64,Union{Missing, Bool}}:\n",
       "  true  missing  false\n",
       " false  missing  false\n",
       " false  missing   true"
      ]
     },
     "execution_count": 30,
     "metadata": {},
     "output_type": "execute_result"
    }
   ],
   "source": [
    "mhb2 = Mill.maybehotbatch([1, missing, 3], 1:3)\n",
    "mhb2::AbstractMatrix{Union{Bool, Missing}}"
   ]
  },
  {
   "cell_type": "code",
   "execution_count": 31,
   "metadata": {},
   "outputs": [
    {
     "data": {
      "text/plain": [
       "3×3 Array{Float64,2}:\n",
       " 0.183704  0.0606907  0.962855\n",
       " 0.456992  0.331529   0.612568\n",
       " 0.17048   0.449118   0.654352"
      ]
     },
     "execution_count": 31,
     "metadata": {},
     "output_type": "execute_result"
    }
   ],
   "source": [
    "x = rand(3,3)"
   ]
  },
  {
   "cell_type": "code",
   "execution_count": 32,
   "metadata": {},
   "outputs": [
    {
     "data": {
      "text/plain": [
       "3-element Array{Float64,1}:\n",
       " 0.18370432477484222\n",
       " 0.456992456780293\n",
       " 0.17048007252034814"
      ]
     },
     "execution_count": 32,
     "metadata": {},
     "output_type": "execute_result"
    }
   ],
   "source": [
    "x * oh1"
   ]
  },
  {
   "cell_type": "code",
   "execution_count": 33,
   "metadata": {},
   "outputs": [
    {
     "data": {
      "text/plain": [
       "3-element Array{Float64,1}:\n",
       " 0.18370432477484222\n",
       " 0.456992456780293\n",
       " 0.17048007252034814"
      ]
     },
     "execution_count": 33,
     "metadata": {},
     "output_type": "execute_result"
    }
   ],
   "source": [
    "x * mh1"
   ]
  },
  {
   "cell_type": "code",
   "execution_count": 34,
   "metadata": {},
   "outputs": [
    {
     "data": {
      "text/plain": [
       "3-element Array{Missing,1}:\n",
       " missing\n",
       " missing\n",
       " missing"
      ]
     },
     "execution_count": 34,
     "metadata": {},
     "output_type": "execute_result"
    }
   ],
   "source": [
    "x * mh2"
   ]
  },
  {
   "cell_type": "code",
   "execution_count": 35,
   "metadata": {},
   "outputs": [
    {
     "data": {
      "text/plain": [
       "3×2 Array{Float64,2}:\n",
       " 0.183704  0.962855\n",
       " 0.456992  0.612568\n",
       " 0.17048   0.654352"
      ]
     },
     "execution_count": 35,
     "metadata": {},
     "output_type": "execute_result"
    }
   ],
   "source": [
    "x * ohb1"
   ]
  },
  {
   "cell_type": "code",
   "execution_count": 36,
   "metadata": {},
   "outputs": [
    {
     "data": {
      "text/plain": [
       "3×2 Array{Float64,2}:\n",
       " 0.183704  0.962855\n",
       " 0.456992  0.612568\n",
       " 0.17048   0.654352"
      ]
     },
     "execution_count": 36,
     "metadata": {},
     "output_type": "execute_result"
    }
   ],
   "source": [
    "x * mhb1"
   ]
  },
  {
   "cell_type": "code",
   "execution_count": 37,
   "metadata": {},
   "outputs": [
    {
     "data": {
      "text/plain": [
       "3×3 Array{Union{Missing, Float64},2}:\n",
       " 0.183704  missing  0.962855\n",
       " 0.456992  missing  0.612568\n",
       " 0.17048   missing  0.654352"
      ]
     },
     "execution_count": 37,
     "metadata": {},
     "output_type": "execute_result"
    }
   ],
   "source": [
    "x * mhb2"
   ]
  },
  {
   "cell_type": "code",
   "execution_count": 38,
   "metadata": {},
   "outputs": [
    {
     "data": {
      "text/plain": [
       "([1.0 0.0 0.0; 1.0 0.0 0.0; 1.0 0.0 0.0], nothing)"
      ]
     },
     "execution_count": 38,
     "metadata": {},
     "output_type": "execute_result"
    }
   ],
   "source": [
    "gradient((x, y) -> x * y |> sum, x, mh1)"
   ]
  },
  {
   "cell_type": "code",
   "execution_count": 39,
   "metadata": {},
   "outputs": [
    {
     "ename": "LoadError",
     "evalue": "Output should be scalar; gradients are not defined for output missing",
     "output_type": "error",
     "traceback": [
      "Output should be scalar; gradients are not defined for output missing",
      "",
      "Stacktrace:",
      " [1] error(::String) at ./error.jl:33",
      " [2] sensitivity(::Missing) at /Users/simon.mandlik/.julia/packages/Zygote/c0awc/src/compiler/interface.jl:50",
      " [3] gradient(::Function, ::Array{Float64,2}, ::Vararg{Any,N} where N) at /Users/simon.mandlik/.julia/packages/Zygote/c0awc/src/compiler/interface.jl:54",
      " [4] top-level scope at In[39]:1",
      " [5] include_string(::Function, ::Module, ::String, ::String) at ./loading.jl:1091",
      " [6] execute_code(::String, ::String) at /Users/simon.mandlik/.julia/packages/IJulia/rWZ9e/src/execute_request.jl:27",
      " [7] execute_request(::ZMQ.Socket, ::IJulia.Msg) at /Users/simon.mandlik/.julia/packages/IJulia/rWZ9e/src/execute_request.jl:86",
      " [8] #invokelatest#1 at ./essentials.jl:710 [inlined]",
      " [9] invokelatest at ./essentials.jl:709 [inlined]",
      " [10] eventloop(::ZMQ.Socket) at /Users/simon.mandlik/.julia/packages/IJulia/rWZ9e/src/eventloop.jl:8",
      " [11] (::IJulia.var\"#15#18\")() at ./task.jl:356"
     ]
    }
   ],
   "source": [
    "gradient((x, y) -> x * y |> sum, x, mh2)"
   ]
  },
  {
   "cell_type": "code",
   "execution_count": 40,
   "metadata": {},
   "outputs": [
    {
     "data": {
      "text/plain": [
       "([1.0 0.0 1.0; 1.0 0.0 1.0; 1.0 0.0 1.0], nothing)"
      ]
     },
     "execution_count": 40,
     "metadata": {},
     "output_type": "execute_result"
    }
   ],
   "source": [
    "gradient((x, y) -> x * y |> sum, x, mhb1)"
   ]
  },
  {
   "cell_type": "code",
   "execution_count": 41,
   "metadata": {},
   "outputs": [
    {
     "ename": "LoadError",
     "evalue": "Output should be scalar; gradients are not defined for output missing",
     "output_type": "error",
     "traceback": [
      "Output should be scalar; gradients are not defined for output missing",
      "",
      "Stacktrace:",
      " [1] error(::String) at ./error.jl:33",
      " [2] sensitivity(::Missing) at /Users/simon.mandlik/.julia/packages/Zygote/c0awc/src/compiler/interface.jl:50",
      " [3] gradient(::Function, ::Array{Float64,2}, ::Vararg{Any,N} where N) at /Users/simon.mandlik/.julia/packages/Zygote/c0awc/src/compiler/interface.jl:54",
      " [4] top-level scope at In[41]:1",
      " [5] include_string(::Function, ::Module, ::String, ::String) at ./loading.jl:1091",
      " [6] execute_code(::String, ::String) at /Users/simon.mandlik/.julia/packages/IJulia/rWZ9e/src/execute_request.jl:27",
      " [7] execute_request(::ZMQ.Socket, ::IJulia.Msg) at /Users/simon.mandlik/.julia/packages/IJulia/rWZ9e/src/execute_request.jl:86",
      " [8] #invokelatest#1 at ./essentials.jl:710 [inlined]",
      " [9] invokelatest at ./essentials.jl:709 [inlined]",
      " [10] eventloop(::ZMQ.Socket) at /Users/simon.mandlik/.julia/packages/IJulia/rWZ9e/src/eventloop.jl:8",
      " [11] (::IJulia.var\"#15#18\")() at ./task.jl:356"
     ]
    }
   ],
   "source": [
    "gradient((x, y) -> x * y |> sum, x, mhb2)"
   ]
  },
  {
   "cell_type": "markdown",
   "metadata": {},
   "source": [
    "## NGramMatrix with Missing"
   ]
  },
  {
   "cell_type": "code",
   "execution_count": 106,
   "metadata": {},
   "outputs": [
    {
     "data": {
      "text/plain": [
       "6-element Array{Any,1}:\n",
       "   3\n",
       "  32\n",
       " 321\n",
       " 321\n",
       "  21\n",
       "   1"
      ]
     },
     "execution_count": 106,
     "metadata": {},
     "output_type": "execute_result"
    }
   ],
   "source": [
    "NGramIterator([3,2,1] |> collect, 4, 10) |> collect"
   ]
  },
  {
   "cell_type": "code",
   "execution_count": 43,
   "metadata": {},
   "outputs": [
    {
     "data": {
      "text/plain": [
       "2053×2 NGramMatrix{String,Array{String,1},Int64}:\n",
       " \"hello\"\n",
       " \"world\""
      ]
     },
     "execution_count": 43,
     "metadata": {},
     "output_type": "execute_result"
    }
   ],
   "source": [
    "Y1 = NGramMatrix([\"hello\", \"world\"])"
   ]
  },
  {
   "cell_type": "code",
   "execution_count": 44,
   "metadata": {},
   "outputs": [
    {
     "data": {
      "text/plain": [
       "2053×2 SparseMatrixCSC{Float32,UInt64} with 14 stored entries:\n",
       "  [37  , 1]  =  1.0\n",
       "  [105 , 1]  =  1.0\n",
       "  [112 , 1]  =  1.0\n",
       "  [215 , 1]  =  1.0\n",
       "  [1071, 1]  =  1.0\n",
       "  [1113, 1]  =  1.0\n",
       "  [1332, 1]  =  1.0\n",
       "  [101 , 2]  =  1.0\n",
       "  [120 , 2]  =  1.0\n",
       "  [1060, 2]  =  1.0\n",
       "  [1268, 2]  =  1.0\n",
       "  [1279, 2]  =  1.0\n",
       "  [1297, 2]  =  1.0\n",
       "  [1834, 2]  =  1.0"
      ]
     },
     "execution_count": 44,
     "metadata": {},
     "output_type": "execute_result"
    }
   ],
   "source": [
    "Y1S = SparseMatrixCSC(Y1)"
   ]
  },
  {
   "cell_type": "code",
   "execution_count": 45,
   "metadata": {},
   "outputs": [
    {
     "data": {
      "text/plain": [
       "10×2 Array{Float64,2}:\n",
       " 2.5996    2.72308\n",
       " 2.09448   1.88689\n",
       " 3.92957   3.48553\n",
       " 4.78446   4.94053\n",
       " 2.66736   3.02912\n",
       " 3.39244   3.9153\n",
       " 0.737915  1.86471\n",
       " 1.12539   2.77622\n",
       " 3.19073   4.0037\n",
       " 3.44317   2.76024"
      ]
     },
     "execution_count": 45,
     "metadata": {},
     "output_type": "execute_result"
    }
   ],
   "source": [
    "A1 = rand(10, 2053);\n",
    "A1 * Y1"
   ]
  },
  {
   "cell_type": "code",
   "execution_count": 46,
   "metadata": {},
   "outputs": [
    {
     "data": {
      "text/plain": [
       "([0.0 0.0 … 0.0 0.0; 0.0 0.0 … 0.0 0.0; … ; 0.0 0.0 … 0.0 0.0; 0.0 0.0 … 0.0 0.0], nothing)"
      ]
     },
     "execution_count": 46,
     "metadata": {},
     "output_type": "execute_result"
    }
   ],
   "source": [
    "gradient((x, y) -> x * y |> sum, A1, Y1)"
   ]
  },
  {
   "cell_type": "code",
   "execution_count": 47,
   "metadata": {},
   "outputs": [
    {
     "data": {
      "text/plain": [
       "2053×2 NGramMatrix{Missing,Array{Missing,1},Missing}:\n",
       " missing\n",
       " missing"
      ]
     },
     "execution_count": 47,
     "metadata": {},
     "output_type": "execute_result"
    }
   ],
   "source": [
    "Y2 = NGramMatrix([missing, missing])\n",
    "Y2::AbstractMatrix{Missing}"
   ]
  },
  {
   "cell_type": "code",
   "execution_count": 48,
   "metadata": {},
   "outputs": [
    {
     "data": {
      "text/plain": [
       "2053×2 NGramMatrix{Array{Int64,1},Array{Array{Int64,1},1},Int64}:\n",
       " [1, 2, 3]\n",
       " [4, 5, 6]"
      ]
     },
     "execution_count": 48,
     "metadata": {},
     "output_type": "execute_result"
    }
   ],
   "source": [
    "Y3 = NGramMatrix([[1,2,3], [4,5,6]])\n",
    "Y3::AbstractMatrix{Int}"
   ]
  },
  {
   "cell_type": "code",
   "execution_count": 49,
   "metadata": {},
   "outputs": [
    {
     "data": {
      "text/plain": [
       "2053×2 NGramMatrix{Union{Missing, String},Array{Union{Missing, String},1},Union{Missing, Int64}}:\n",
       " missing\n",
       " \"a\""
      ]
     },
     "execution_count": 49,
     "metadata": {},
     "output_type": "execute_result"
    }
   ],
   "source": [
    "Y4 = NGramMatrix([missing, \"a\"])\n",
    "Y4::AbstractMatrix{Union{Missing,Int}}"
   ]
  },
  {
   "cell_type": "code",
   "execution_count": 50,
   "metadata": {},
   "outputs": [
    {
     "data": {
      "text/plain": [
       "Union{AbstractString, Base.CodeUnits, AbstractArray{var\"#s49\",1} where var\"#s49\"<:Integer}"
      ]
     },
     "execution_count": 50,
     "metadata": {},
     "output_type": "execute_result"
    }
   ],
   "source": [
    "Mill.Sequence"
   ]
  },
  {
   "cell_type": "code",
   "execution_count": 51,
   "metadata": {},
   "outputs": [
    {
     "data": {
      "text/plain": [
       "10×2053 ColImputingMatrix{Float64,Array{Float64,1},Array{Float64,2}}:\n",
       "W:\n",
       " 0.371371  0.433111  0.0900573  0.911569   …  0.683739  0.163985    0.112132\n",
       " 0.299212  0.195413  0.737097   0.133165      0.305439  0.916603    0.252151\n",
       " 0.561368  0.339347  0.29878    0.516022      0.241723  0.00308394  0.199264\n",
       " 0.683495  0.76153   0.264764   0.49617       0.051125  0.358108    0.170918\n",
       " 0.381051  0.561935  0.0876429  0.297594      0.581506  0.684473    0.283201\n",
       " 0.484634  0.746067  0.745403   0.494892   …  0.343896  0.925658    0.0668124\n",
       " 0.105416  0.668816  0.587261   0.60605       0.790473  0.248388    0.179196\n",
       " 0.16077   0.986188  0.748311   0.702658      0.23601   0.197103    0.881278\n",
       " 0.455819  0.862303  0.901519   0.0671007     0.546569  0.760512    0.625165\n",
       " 0.491881  0.150416  0.300263   0.621804      0.939945  0.790308    0.305915\n",
       "\n",
       "ψ:\n",
       " 0.0\n",
       " 0.0\n",
       " 0.0\n",
       " 0.0\n",
       " 0.0\n",
       " 0.0\n",
       " 0.0\n",
       " 0.0\n",
       " 0.0\n",
       " 0.0"
      ]
     },
     "execution_count": 51,
     "metadata": {},
     "output_type": "execute_result"
    }
   ],
   "source": [
    "A2 = ColImputingMatrix(A1)"
   ]
  },
  {
   "cell_type": "code",
   "execution_count": 52,
   "metadata": {},
   "outputs": [
    {
     "data": {
      "text/plain": [
       "((W = [0.0 0.0 … 0.0 0.0; 0.0 0.0 … 0.0 0.0; … ; 0.0 0.0 … 0.0 0.0; 0.0 0.0 … 0.0 0.0], ψ = nothing), nothing)"
      ]
     },
     "execution_count": 52,
     "metadata": {},
     "output_type": "execute_result"
    }
   ],
   "source": [
    "gradient((x, y) -> x * y |> sum, A2, Y1)"
   ]
  },
  {
   "cell_type": "code",
   "execution_count": 53,
   "metadata": {},
   "outputs": [
    {
     "data": {
      "text/plain": [
       "((W = nothing, ψ = [2.0, 2.0, 2.0, 2.0, 2.0, 2.0, 2.0, 2.0, 2.0, 2.0]), nothing)"
      ]
     },
     "execution_count": 53,
     "metadata": {},
     "output_type": "execute_result"
    }
   ],
   "source": [
    "gradient((x, y) -> x * y |> sum, A2, Y2)"
   ]
  },
  {
   "cell_type": "code",
   "execution_count": 54,
   "metadata": {},
   "outputs": [
    {
     "data": {
      "text/plain": [
       "((W = [0.0 1.0 … 0.0 0.0; 0.0 1.0 … 0.0 0.0; … ; 0.0 1.0 … 0.0 0.0; 0.0 1.0 … 0.0 0.0], ψ = nothing), nothing)"
      ]
     },
     "execution_count": 54,
     "metadata": {},
     "output_type": "execute_result"
    }
   ],
   "source": [
    "gradient((x, y) -> x * y |> sum, A2, Y3)"
   ]
  },
  {
   "cell_type": "code",
   "execution_count": 55,
   "metadata": {},
   "outputs": [
    {
     "data": {
      "text/plain": [
       "((W = [0.0 0.0 … 0.0 0.0; 0.0 0.0 … 0.0 0.0; … ; 0.0 0.0 … 0.0 0.0; 0.0 0.0 … 0.0 0.0], ψ = [1.0; 1.0; … ; 1.0; 1.0]), nothing)"
      ]
     },
     "execution_count": 55,
     "metadata": {},
     "output_type": "execute_result"
    }
   ],
   "source": [
    "gradient((x, y) -> x * y |> sum, A2, Y4)"
   ]
  },
  {
   "cell_type": "markdown",
   "metadata": {},
   "source": [
    "## Column imputing"
   ]
  },
  {
   "cell_type": "code",
   "execution_count": 56,
   "metadata": {},
   "outputs": [
    {
     "data": {
      "text/plain": [
       "3×3 ColImputingMatrix{Float64,Array{Float64,1},Array{Float64,2}}:\n",
       "W:\n",
       " 0.29483   0.0104799  0.422587\n",
       " 0.760895  0.598869   0.188454\n",
       " 0.735848  0.849712   0.349429\n",
       "\n",
       "ψ:\n",
       " 0.0\n",
       " 0.0\n",
       " 0.0"
      ]
     },
     "execution_count": 56,
     "metadata": {},
     "output_type": "execute_result"
    }
   ],
   "source": [
    "A = ColImputingMatrix(rand(3,3))\n",
    "A::AbstractMatrix{Float64}"
   ]
  },
  {
   "cell_type": "code",
   "execution_count": 57,
   "metadata": {},
   "outputs": [
    {
     "data": {
      "text/plain": [
       "3-element Array{Float64,1}:\n",
       " 0.05507061817246606\n",
       " 0.6645043380807911\n",
       " 0.4211639292287035"
      ]
     },
     "execution_count": 57,
     "metadata": {},
     "output_type": "execute_result"
    }
   ],
   "source": [
    "X = rand(3)"
   ]
  },
  {
   "cell_type": "code",
   "execution_count": 58,
   "metadata": {},
   "outputs": [
    {
     "data": {
      "text/plain": [
       "3-element Array{Float64,1}:\n",
       " 0.20117878573668493\n",
       " 0.5192239956138598\n",
       " 0.752328099117545"
      ]
     },
     "execution_count": 58,
     "metadata": {},
     "output_type": "execute_result"
    }
   ],
   "source": [
    "A * X"
   ]
  },
  {
   "cell_type": "code",
   "execution_count": 59,
   "metadata": {},
   "outputs": [
    {
     "data": {
      "text/plain": [
       "3×3 MaybeHotMatrix{Union{Missing, Int64},Array{Union{Missing, Int64},1},Int64,Union{Missing, Bool}}:\n",
       "  true  missing  false\n",
       " false  missing  false\n",
       " false  missing   true"
      ]
     },
     "execution_count": 59,
     "metadata": {},
     "output_type": "execute_result"
    }
   ],
   "source": [
    "Y = maybehotbatch([1, missing, 3], 1:3)"
   ]
  },
  {
   "cell_type": "code",
   "execution_count": 60,
   "metadata": {},
   "outputs": [
    {
     "data": {
      "text/plain": [
       "3×3 Array{Float64,2}:\n",
       " 0.29483   0.0  0.422587\n",
       " 0.760895  0.0  0.188454\n",
       " 0.735848  0.0  0.349429"
      ]
     },
     "execution_count": 60,
     "metadata": {},
     "output_type": "execute_result"
    }
   ],
   "source": [
    "A * Y"
   ]
  },
  {
   "cell_type": "code",
   "execution_count": 61,
   "metadata": {},
   "outputs": [
    {
     "data": {
      "text/plain": [
       "3-element MaybeHotVector{Int64,Int64,Bool}:\n",
       " 1\n",
       " 0\n",
       " 0"
      ]
     },
     "execution_count": 61,
     "metadata": {},
     "output_type": "execute_result"
    }
   ],
   "source": [
    "Z = maybehot(1, 1:3)"
   ]
  },
  {
   "cell_type": "code",
   "execution_count": 62,
   "metadata": {},
   "outputs": [
    {
     "data": {
      "text/plain": [
       "3-element Array{Float64,1}:\n",
       " 0.2948302541126848\n",
       " 0.7608953514114609\n",
       " 0.7358481588433874"
      ]
     },
     "execution_count": 62,
     "metadata": {},
     "output_type": "execute_result"
    }
   ],
   "source": [
    "A * Z"
   ]
  },
  {
   "cell_type": "code",
   "execution_count": 63,
   "metadata": {},
   "outputs": [
    {
     "data": {
      "text/plain": [
       "((W = [0.05507061817246606 0.6645043380807911 0.4211639292287035; 0.05507061817246606 0.6645043380807911 0.4211639292287035; 0.05507061817246606 0.6645043380807911 0.4211639292287035], ψ = nothing), [1.7915737643675331, 1.4590615820491695, 0.9604693728280791])"
      ]
     },
     "execution_count": 63,
     "metadata": {},
     "output_type": "execute_result"
    }
   ],
   "source": [
    "gradient((x, y) -> x * y |> sum, A, X)"
   ]
  },
  {
   "cell_type": "code",
   "execution_count": 64,
   "metadata": {},
   "outputs": [
    {
     "data": {
      "text/plain": [
       "((W = [1.0 0.0 1.0; 1.0 0.0 1.0; 1.0 0.0 1.0], ψ = [1.0; 1.0; 1.0]), nothing)"
      ]
     },
     "execution_count": 64,
     "metadata": {},
     "output_type": "execute_result"
    }
   ],
   "source": [
    "gradient((x, y) -> x * y |> sum, A, Y)"
   ]
  },
  {
   "cell_type": "code",
   "execution_count": 65,
   "metadata": {},
   "outputs": [
    {
     "data": {
      "text/plain": [
       "((W = [1.0 0.0 0.0; 1.0 0.0 0.0; 1.0 0.0 0.0], ψ = nothing), nothing)"
      ]
     },
     "execution_count": 65,
     "metadata": {},
     "output_type": "execute_result"
    }
   ],
   "source": [
    "gradient((x, y) -> x * y |> sum, A, Z)"
   ]
  },
  {
   "cell_type": "markdown",
   "metadata": {},
   "source": [
    "## Reflect in model and integration\n",
    "\n",
    "- better IO for all types and trees\n",
    "- single_key_identity\n",
    "- single_scalar_identity"
   ]
  },
  {
   "cell_type": "code",
   "execution_count": 66,
   "metadata": {},
   "outputs": [
    {
     "data": {
      "text/plain": [
       "RowImputingDense(5, 5)"
      ]
     },
     "execution_count": 66,
     "metadata": {},
     "output_type": "execute_result"
    }
   ],
   "source": [
    "m = RowImputingDense(5, 5)"
   ]
  },
  {
   "cell_type": "code",
   "execution_count": 67,
   "metadata": {},
   "outputs": [
    {
     "data": {
      "text/plain": [
       "Dense{typeof(identity),RowImputingMatrix{Float32,Array{Float32,1},Array{Float32,2}},Array{Float32,1}}"
      ]
     },
     "execution_count": 67,
     "metadata": {},
     "output_type": "execute_result"
    }
   ],
   "source": [
    "typeof(m)"
   ]
  },
  {
   "cell_type": "code",
   "execution_count": 68,
   "metadata": {},
   "outputs": [
    {
     "data": {
      "text/plain": [
       "5×5 RowImputingMatrix{Float32,Array{Float32,1},Array{Float32,2}}:\n",
       "W:\n",
       " -0.372289    0.605197    0.446778     -0.0499073  -0.652797\n",
       " -0.0474058   0.291017   -0.0245484     0.452029   -0.3542\n",
       "  0.291981   -0.392264    0.0248956    -0.250354   -0.467441\n",
       "  0.121865    0.0668249   0.290167      0.371941    0.0992193\n",
       "  0.664294   -0.0982265  -0.000151436   0.129793   -0.0363971\n",
       "\n",
       "ψ:\n",
       " 0.0  0.0  0.0  0.0  0.0"
      ]
     },
     "execution_count": 68,
     "metadata": {},
     "output_type": "execute_result"
    }
   ],
   "source": [
    "m.W"
   ]
  },
  {
   "cell_type": "code",
   "execution_count": 69,
   "metadata": {},
   "outputs": [
    {
     "data": {
      "text/plain": [
       "5-element Array{Float32,1}:\n",
       " 0.0\n",
       " 0.0\n",
       " 0.0\n",
       " 0.0\n",
       " 0.0"
      ]
     },
     "execution_count": 69,
     "metadata": {},
     "output_type": "execute_result"
    }
   ],
   "source": [
    "m.b"
   ]
  },
  {
   "cell_type": "code",
   "execution_count": 70,
   "metadata": {},
   "outputs": [
    {
     "data": {
      "text/plain": [
       "identity (generic function with 1 method)"
      ]
     },
     "execution_count": 70,
     "metadata": {},
     "output_type": "execute_result"
    }
   ],
   "source": [
    "m.σ"
   ]
  },
  {
   "cell_type": "code",
   "execution_count": 71,
   "metadata": {},
   "outputs": [
    {
     "data": {
      "text/plain": [
       "ColImputingDense(5, 5)"
      ]
     },
     "execution_count": 71,
     "metadata": {},
     "output_type": "execute_result"
    }
   ],
   "source": [
    "m = ColImputingDense(5, 5)"
   ]
  },
  {
   "cell_type": "code",
   "execution_count": 72,
   "metadata": {},
   "outputs": [
    {
     "data": {
      "text/plain": [
       "Dense{typeof(identity),ColImputingMatrix{Float32,Array{Float32,1},Array{Float32,2}},Array{Float32,1}}"
      ]
     },
     "execution_count": 72,
     "metadata": {},
     "output_type": "execute_result"
    }
   ],
   "source": [
    "typeof(m)"
   ]
  },
  {
   "cell_type": "code",
   "execution_count": 73,
   "metadata": {},
   "outputs": [
    {
     "data": {
      "text/plain": [
       "5×5 ColImputingMatrix{Float32,Array{Float32,1},Array{Float32,2}}:\n",
       "W:\n",
       " -0.757606  -0.604557   0.437204  -0.725591   -0.0154609\n",
       " -0.214702  -0.1378     0.142801  -0.0645493  -0.445341\n",
       " -0.7349     0.352808  -0.426866  -0.424481    0.29268\n",
       "  0.131789  -0.387726   0.27454    0.320751   -0.295696\n",
       "  0.13635    0.565318   0.42899   -0.172284   -0.641756\n",
       "\n",
       "ψ:\n",
       " 0.0\n",
       " 0.0\n",
       " 0.0\n",
       " 0.0\n",
       " 0.0"
      ]
     },
     "execution_count": 73,
     "metadata": {},
     "output_type": "execute_result"
    }
   ],
   "source": [
    "m.W"
   ]
  },
  {
   "cell_type": "code",
   "execution_count": 74,
   "metadata": {},
   "outputs": [
    {
     "data": {
      "text/plain": [
       "5-element Array{Float32,1}:\n",
       " 0.0\n",
       " 0.0\n",
       " 0.0\n",
       " 0.0\n",
       " 0.0"
      ]
     },
     "execution_count": 74,
     "metadata": {},
     "output_type": "execute_result"
    }
   ],
   "source": [
    "m.b"
   ]
  },
  {
   "cell_type": "code",
   "execution_count": 75,
   "metadata": {},
   "outputs": [
    {
     "data": {
      "text/plain": [
       "identity (generic function with 1 method)"
      ]
     },
     "execution_count": 75,
     "metadata": {},
     "output_type": "execute_result"
    }
   ],
   "source": [
    "m.σ"
   ]
  },
  {
   "cell_type": "code",
   "execution_count": 76,
   "metadata": {},
   "outputs": [
    {
     "name": "stdout",
     "output_type": "stream",
     "text": [
      "\u001b[34mProductNode with 4 obs\u001b[39m\n",
      "\u001b[34m  ├── a: \u001b[39m\u001b[31mProductNode with 4 obs\u001b[39m\n",
      "\u001b[34m  │      \u001b[39m\u001b[31m  └── aa: \u001b[39m\u001b[32mBagNode with 4 obs\u001b[39m\n",
      "\u001b[34m  │      \u001b[39m\u001b[31m          \u001b[39m\u001b[32m  └── \u001b[39m\u001b[37mArrayNode(1x10 Array, Union{Missing, Int64}) with 10 obs\u001b[39m\n",
      "\u001b[34m  ├── b: \u001b[39m\u001b[31mProductNode with 4 obs\u001b[39m\n",
      "\u001b[34m  │      \u001b[39m\u001b[31m  ├── ba: \u001b[39m\u001b[37mArrayNode(2053x4 NGramMatrix, Union{Missing, Int64}) with 4 obs\u001b[39m\n",
      "\u001b[34m  │      \u001b[39m\u001b[31m  └── bb: \u001b[39m\u001b[37mArrayNode(2053x4 NGramMatrix, Int64) with 4 obs\u001b[39m\n",
      "\u001b[34m  └── c: \u001b[39m\u001b[31mProductNode with 4 obs\u001b[39m\n",
      "\u001b[34m         \u001b[39m\u001b[31m  ├── ca: \u001b[39m\u001b[37mArrayNode(10x4 MaybeHotMatrix, Union{Missing, Bool}) with 4 obs\u001b[39m\n",
      "\u001b[34m         \u001b[39m\u001b[31m  └── cb: \u001b[39m\u001b[37mArrayNode(10x4 MaybeHotMatrix, Bool) with 4 obs\u001b[39m"
     ]
    }
   ],
   "source": [
    "x1 = reshape([i%3 == 0 ? missing : i for i in 1:10], 1, 10) |> collect\n",
    "aa = BagNode(ArrayNode(x1), bags([1:2, 3:7, 0:-1, 8:10]))\n",
    "a = ProductNode((; aa))\n",
    "\n",
    "ba = ArrayNode(NGramMatrix([\"a\", missing, missing, \"b\"]))\n",
    "bb = ArrayNode(NGramMatrix([[1,2], [3,4], [5], [6, 7, 8]]))\n",
    "b = ProductNode((; ba, bb))\n",
    "\n",
    "ca = ArrayNode(maybehotbatch([1,missing,9,missing], 1:10))\n",
    "cb = ArrayNode(maybehotbatch([1,2,3,4], 1:10))\n",
    "c = ProductNode((; ca, cb))\n",
    "\n",
    "ds = ProductNode((; a, b, c))\n",
    "printtree(ds)"
   ]
  },
  {
   "cell_type": "code",
   "execution_count": 77,
   "metadata": {},
   "outputs": [
    {
     "name": "stdout",
     "output_type": "stream",
     "text": [
      "\u001b[34mProductModel ↦ ArrayModel(Dense(21, 10)) [\"\"]\u001b[39m\n",
      "\u001b[34m  ├── a: \u001b[39m\u001b[31mProductModel ↦ ArrayModel(identity) [\"E\"]\u001b[39m\n",
      "\u001b[34m  │      \u001b[39m\u001b[31m  └── aa: \u001b[39m\u001b[32mBagModel ↦ ⟨SegmentedMean(1)⟩ ↦ ArrayModel(identity) [\"M\"]\u001b[39m\n",
      "\u001b[34m  │      \u001b[39m\u001b[31m          \u001b[39m\u001b[32m  └── \u001b[39m\u001b[37mArrayModel(RowImputingDense(1, 1)) [\"Q\"]\u001b[39m\n",
      "\u001b[34m  ├── b: \u001b[39m\u001b[31mProductModel ↦ ArrayModel(Dense(20, 10)) [\"U\"]\u001b[39m\n",
      "\u001b[34m  │      \u001b[39m\u001b[31m  ├── ba: \u001b[39m\u001b[37mArrayModel(ColImputingDense(2053, 10)) [\"Y\"]\u001b[39m\n",
      "\u001b[34m  │      \u001b[39m\u001b[31m  └── bb: \u001b[39m\u001b[37mArrayModel(Dense(2053, 10)) [\"c\"]\u001b[39m\n",
      "\u001b[34m  └── c: \u001b[39m\u001b[31mProductModel ↦ ArrayModel(Dense(20, 10)) [\"k\"]\u001b[39m\n",
      "\u001b[34m         \u001b[39m\u001b[31m  ├── ca: \u001b[39m\u001b[37mArrayModel(ColImputingDense(10, 10)) [\"o\"]\u001b[39m\n",
      "\u001b[34m         \u001b[39m\u001b[31m  └── cb: \u001b[39m\u001b[37mArrayModel(Dense(10, 10)) [\"s\"]\u001b[39m"
     ]
    }
   ],
   "source": [
    "m = reflectinmodel(ds)\n",
    "printtree(m; trav=true)"
   ]
  },
  {
   "cell_type": "code",
   "execution_count": 78,
   "metadata": {},
   "outputs": [
    {
     "data": {
      "text/plain": [
       "\u001b[37mArrayModel(identity)\u001b[39m"
      ]
     },
     "execution_count": 78,
     "metadata": {},
     "output_type": "execute_result"
    }
   ],
   "source": [
    "m[\"E\"].m"
   ]
  },
  {
   "cell_type": "code",
   "execution_count": 79,
   "metadata": {},
   "outputs": [
    {
     "data": {
      "text/plain": [
       "1×1 RowImputingMatrix{Float32,Array{Float32,1},Array{Float32,2}}:\n",
       "W:\n",
       " 1.0\n",
       "\n",
       "ψ:\n",
       " 0.0"
      ]
     },
     "execution_count": 79,
     "metadata": {},
     "output_type": "execute_result"
    }
   ],
   "source": [
    "m[\"Q\"].m.W"
   ]
  },
  {
   "cell_type": "code",
   "execution_count": 80,
   "metadata": {},
   "outputs": [
    {
     "name": "stdout",
     "output_type": "stream",
     "text": [
      "\u001b[34mProductModel ↦ ArrayModel(Dense(30, 10))\u001b[39m\n",
      "\u001b[34m  ├── a: \u001b[39m\u001b[31mProductModel ↦ ArrayModel(Dense(10, 10))\u001b[39m\n",
      "\u001b[34m  │      \u001b[39m\u001b[31m  └── aa: \u001b[39m\u001b[32mBagModel ↦ ⟨SegmentedMean(10)⟩ ↦ ArrayModel(Dense(10, 10))\u001b[39m\n",
      "\u001b[34m  │      \u001b[39m\u001b[31m          \u001b[39m\u001b[32m  └── \u001b[39m\u001b[37mArrayModel(RowImputingDense(1, 10))\u001b[39m\n",
      "\u001b[34m  ├── b: \u001b[39m\u001b[31mProductModel ↦ ArrayModel(Dense(20, 10))\u001b[39m\n",
      "\u001b[34m  │      \u001b[39m\u001b[31m  ├── ba: \u001b[39m\u001b[37mArrayModel(ColImputingDense(2053, 10))\u001b[39m\n",
      "\u001b[34m  │      \u001b[39m\u001b[31m  └── bb: \u001b[39m\u001b[37mArrayModel(Dense(2053, 10))\u001b[39m\n",
      "\u001b[34m  └── c: \u001b[39m\u001b[31mProductModel ↦ ArrayModel(Dense(20, 10))\u001b[39m\n",
      "\u001b[34m         \u001b[39m\u001b[31m  ├── ca: \u001b[39m\u001b[37mArrayModel(ColImputingDense(10, 10))\u001b[39m\n",
      "\u001b[34m         \u001b[39m\u001b[31m  └── cb: \u001b[39m\u001b[37mArrayModel(Dense(10, 10))\u001b[39m"
     ]
    }
   ],
   "source": [
    "m = reflectinmodel(ds; single_key_identity=false, single_scalar_identity=false)\n",
    "printtree(m)"
   ]
  },
  {
   "cell_type": "code",
   "execution_count": 81,
   "metadata": {},
   "outputs": [
    {
     "data": {
      "text/plain": [
       "ArrayNode{Array{Float32,2},Nothing}:\n",
       " -0.67199457f0   -1.1701161f0   -0.044900842f0  -1.9943943f0\n",
       " -0.45965022f0   -0.33575702f0  -0.20677046f0   -0.696443f0\n",
       "  0.22884655f0    0.25142282f0  -0.030810641f0   0.3107742f0\n",
       "  0.050240092f0   0.3117562f0    0.07796707f0    0.51512957f0\n",
       " -0.2282879f0     0.1307442f0    0.051295295f0  -0.06423733f0\n",
       "  0.2772269f0    -0.06357747f0   0.015852883f0   0.24160242f0\n",
       "  0.16687497f0    0.16743556f0  -0.045151904f0   0.20538574f0\n",
       "  0.31265113f0    0.48242566f0  -0.08425555f0    0.705531f0\n",
       " -0.70362395f0   -0.6313346f0   -0.006941357f0  -0.95065695f0\n",
       "  0.18386018f0    0.06354078f0  -0.02975182f0    0.3103891f0"
      ]
     },
     "execution_count": 81,
     "metadata": {},
     "output_type": "execute_result"
    }
   ],
   "source": [
    "m(ds)"
   ]
  },
  {
   "cell_type": "code",
   "execution_count": 82,
   "metadata": {},
   "outputs": [
    {
     "data": {
      "text/plain": [
       "((ms = (a = (ms = (aa = (im = (m = (W = (W = Float32[0.57542586; 10.136815; … ; -3.6215904; -6.633128], ψ = Float32[-0.11896703]), b = Float32[0.16133434, 2.8420978, -1.9447837, -1.6839157, -1.1364326, 1.5087241, 0.46518844, 1.9201753, -1.0153992, -1.8597556], σ = nothing),), a = (fs = ((ψ = Float32[0.05377812, 0.9473659, -0.64826113, -0.5613053, -0.37881088, 0.502908, 0.15506282, 0.6400584, -0.3384664, -0.6199185],),),), bm = (m = (W = Float32[-1.0884475 -3.1780763 … -2.7260938 -0.58055586; 2.668156 7.7905483 … 6.6825852 1.4231403; … ; 0.7188727 2.0989828 … 1.8004676 0.38343215; -0.49809363 -1.4543463 … -1.2475107 -0.26567304], b = Float32[1.942512, -4.7617593, 0.7608926, -1.307604, 1.198051, -1.3519645, -3.0714536, -0.8468269, -1.2829456, 0.8889293], σ = nothing),)),), m = (m = (W = Float32[2.9960237 -0.21085687 … -2.1349876 -1.0979007; -1.9759058 0.13906208 … 1.4080443 0.72407585; … ; -7.8498507 0.5524639 … 5.593859 2.8765984; -1.6288086 0.114633776 … 1.1607006 0.5968812], b = Float32[-1.4516307, 0.9573641, -1.1994253, 2.2434177, -3.6492743, -1.7091383, -2.6315484, -3.366139, 3.8034027, 0.7891889], σ = nothing),)), b = (ms = (ba = (m = (W = (W = Float32[0.0 0.0 … 0.0 0.0; 0.0 0.0 … 0.0 0.0; … ; 0.0 0.0 … 0.0 0.0; 0.0 0.0 … 0.0 0.0], ψ = Float32[-1.047504; -0.7180224; … ; 1.070657; 1.643908]), b = Float32[-2.095008, -1.4360448, -0.58615285, -1.3255358, -0.24315149, 1.8958137, 1.8934615, -2.0090842, 2.141314, 3.287816], σ = nothing),), bb = (m = (W = Float32[0.0 -0.86336076 … 0.0 0.0; 0.0 0.23302715 … 0.0 0.0; … ; 0.0 0.41918287 … 0.0 0.0; 0.0 -0.41557777 … 0.0 0.0], b = Float32[-3.453443, 0.9321086, -1.5975769, -2.3209271, 0.61822176, 0.38638443, 2.8588493, 0.043561686, 1.6767315, -1.6623111], σ = nothing),)), m = (m = (W = Float32[0.00037958892 0.0026422369 … 0.0067263176 -0.010813894; 0.020197572 0.14059097 … 0.35790113 -0.5753972; … ; -0.0020996174 -0.014614983 … -0.037205227 0.059814803; 0.0060584494 0.04217156 … 0.10735575 -0.17259571], b = Float32[-0.0858058, -4.565647, 4.006068, 1.3882707, 1.5203158, -0.8709421, 0.9017719, -1.4593676, 0.47461694, -1.369508], σ = nothing),)), c = (ms = (ca = (m = (W = (W = Float32[0.93784016 0.0 … 0.93784016 0.0; -0.14912534 0.0 … -0.14912534 0.0; … ; 0.4965924 0.0 … 0.4965924 0.0; -0.32344225 0.0 … -0.32344225 0.0], ψ = Float32[1.8756803; -0.29825068; … ; 0.9931848; -0.6468845]), b = Float32[3.7513607, -0.59650135, -3.009276, -4.879038, 0.46662882, -0.58492464, -0.90147173, -2.4722679, 1.9863696, -1.293769], σ = nothing),), cb = (m = (W = Float32[-0.23593707 -0.23593707 … 0.0 0.0; 0.0516156 0.0516156 … 0.0 0.0; … ; 0.286672 0.286672 … 0.0 0.0; 0.4112085 0.4112085 … 0.0 0.0], b = Float32[-0.9437483, 0.2064624, 1.1286991, 0.11641234, 1.6057112, -0.45895028, 1.7406688, 2.3753505, 1.146688, 1.644834], σ = nothing),)), m = (m = (W = Float32[-0.0807294 0.8192389 … 2.0036304 -1.2571373; 0.025746297 -0.26127246 … -0.6389997 0.40092742; … ; -0.037140675 0.37690216 … 0.92179775 -0.57836336; 0.0053849 -0.054645773 … -0.13364835 0.08385495], b = Float32[4.994055, -1.5927087, -3.0963924, -1.2336322, -2.5621996, 1.1049601, -3.256282, 1.7842941, 2.2975838, -0.33311892], σ = nothing),))), m = (m = (W = Float32[-2.2504272 2.0702639 … 0.7610559 -0.59656024; -2.2504272 2.0702639 … 0.7610559 -0.59656024; … ; -2.2504272 2.0702639 … 0.7610559 -0.59656024; -2.2504272 2.0702639 … 0.7610559 -0.59656024], b = Float32[4.0, 4.0, 4.0, 4.0, 4.0, 4.0, 4.0, 4.0, 4.0, 4.0], σ = nothing),)),)"
      ]
     },
     "execution_count": 82,
     "metadata": {},
     "output_type": "execute_result"
    }
   ],
   "source": [
    "g = gradient(m -> sum(m(ds).data), m)"
   ]
  },
  {
   "cell_type": "markdown",
   "metadata": {},
   "source": [
    "## Lens utilities\n",
    "- ModelLens\n",
    "- findnonempty\n",
    "- findin\n",
    "- replacein"
   ]
  },
  {
   "cell_type": "code",
   "execution_count": 83,
   "metadata": {},
   "outputs": [
    {
     "name": "stdout",
     "output_type": "stream",
     "text": [
      "\u001b[34mProductNode with 4 obs [\"\"]\u001b[39m\n",
      "\u001b[34m  ├── a: \u001b[39m\u001b[31mProductNode with 4 obs [\"E\"]\u001b[39m\n",
      "\u001b[34m  │      \u001b[39m\u001b[31m  └── aa: \u001b[39m\u001b[32mBagNode with 4 obs [\"M\"]\u001b[39m\n",
      "\u001b[34m  │      \u001b[39m\u001b[31m          \u001b[39m\u001b[32m  └── \u001b[39m\u001b[37mArrayNode(1x10 Array, Union{Missing, Int64}) with 10 obs [\"Q\"]\u001b[39m\n",
      "\u001b[34m  ├── b: \u001b[39m\u001b[31mProductNode with 4 obs [\"U\"]\u001b[39m\n",
      "\u001b[34m  │      \u001b[39m\u001b[31m  ├── ba: \u001b[39m\u001b[37mArrayNode(2053x4 NGramMatrix, Union{Missing, Int64}) with 4 obs [\"Y\"]\u001b[39m\n",
      "\u001b[34m  │      \u001b[39m\u001b[31m  └── bb: \u001b[39m\u001b[37mArrayNode(2053x4 NGramMatrix, Int64) with 4 obs [\"c\"]\u001b[39m\n",
      "\u001b[34m  └── c: \u001b[39m\u001b[31mProductNode with 4 obs [\"k\"]\u001b[39m\n",
      "\u001b[34m         \u001b[39m\u001b[31m  ├── ca: \u001b[39m\u001b[37mArrayNode(10x4 MaybeHotMatrix, Union{Missing, Bool}) with 4 obs [\"o\"]\u001b[39m\n",
      "\u001b[34m         \u001b[39m\u001b[31m  └── cb: \u001b[39m\u001b[37mArrayNode(10x4 MaybeHotMatrix, Bool) with 4 obs [\"s\"]\u001b[39m"
     ]
    }
   ],
   "source": [
    "printtree(ds; trav=true)"
   ]
  },
  {
   "cell_type": "code",
   "execution_count": 84,
   "metadata": {},
   "outputs": [
    {
     "name": "stdout",
     "output_type": "stream",
     "text": [
      "\u001b[34mProductModel ↦ ArrayModel(Dense(30, 10)) [\"\"]\u001b[39m\n",
      "\u001b[34m  ├── a: \u001b[39m\u001b[31mProductModel ↦ ArrayModel(Dense(10, 10)) [\"E\"]\u001b[39m\n",
      "\u001b[34m  │      \u001b[39m\u001b[31m  └── aa: \u001b[39m\u001b[32mBagModel ↦ ⟨SegmentedMean(10)⟩ ↦ ArrayModel(Dense(10, 10)) [\"M\"]\u001b[39m\n",
      "\u001b[34m  │      \u001b[39m\u001b[31m          \u001b[39m\u001b[32m  └── \u001b[39m\u001b[37mArrayModel(RowImputingDense(1, 10)) [\"Q\"]\u001b[39m\n",
      "\u001b[34m  ├── b: \u001b[39m\u001b[31mProductModel ↦ ArrayModel(Dense(20, 10)) [\"U\"]\u001b[39m\n",
      "\u001b[34m  │      \u001b[39m\u001b[31m  ├── ba: \u001b[39m\u001b[37mArrayModel(ColImputingDense(2053, 10)) [\"Y\"]\u001b[39m\n",
      "\u001b[34m  │      \u001b[39m\u001b[31m  └── bb: \u001b[39m\u001b[37mArrayModel(Dense(2053, 10)) [\"c\"]\u001b[39m\n",
      "\u001b[34m  └── c: \u001b[39m\u001b[31mProductModel ↦ ArrayModel(Dense(20, 10)) [\"k\"]\u001b[39m\n",
      "\u001b[34m         \u001b[39m\u001b[31m  ├── ca: \u001b[39m\u001b[37mArrayModel(ColImputingDense(10, 10)) [\"o\"]\u001b[39m\n",
      "\u001b[34m         \u001b[39m\u001b[31m  └── cb: \u001b[39m\u001b[37mArrayModel(Dense(10, 10)) [\"s\"]\u001b[39m"
     ]
    }
   ],
   "source": [
    "printtree(m; trav=true)"
   ]
  },
  {
   "cell_type": "code",
   "execution_count": 85,
   "metadata": {},
   "outputs": [
    {
     "data": {
      "text/plain": [
       "5-element Array{Setfield.ComposedLens{Setfield.PropertyLens{:data},_A} where _A,1}:\n",
       " (@lens _.data.a.data.aa.data.data)\n",
       " (@lens _.data.b.data.ba.data)\n",
       " (@lens _.data.b.data.bb.data)\n",
       " (@lens _.data.c.data.ca.data)\n",
       " (@lens _.data.c.data.cb.data)"
      ]
     },
     "execution_count": 85,
     "metadata": {},
     "output_type": "execute_result"
    }
   ],
   "source": [
    "lens = findnonempty(ds)"
   ]
  },
  {
   "cell_type": "code",
   "execution_count": 86,
   "metadata": {},
   "outputs": [
    {
     "data": {
      "text/plain": [
       "5-element Array{Setfield.ComposedLens{Setfield.PropertyLens{:ms},LI} where LI,1}:\n",
       " (@lens _.ms.a.ms.aa.im.m)\n",
       " (@lens _.ms.b.ms.ba.m)\n",
       " (@lens _.ms.b.ms.bb.m)\n",
       " (@lens _.ms.c.ms.ca.m)\n",
       " (@lens _.ms.c.ms.cb.m)"
      ]
     },
     "execution_count": 86,
     "metadata": {},
     "output_type": "execute_result"
    }
   ],
   "source": [
    "[ModelLens(m, l) for l in lens]"
   ]
  },
  {
   "cell_type": "code",
   "execution_count": 87,
   "metadata": {},
   "outputs": [
    {
     "name": "stdout",
     "output_type": "stream",
     "text": [
      "\u001b[34mProductNode with 4 obs\u001b[39m\n",
      "\u001b[34m  ├── a: \u001b[39m\u001b[31mProductNode with 4 obs\u001b[39m\n",
      "\u001b[34m  │      \u001b[39m\u001b[31m  └── aa: \u001b[39m\u001b[32mBagNode with 4 obs\u001b[39m\n",
      "\u001b[34m  │      \u001b[39m\u001b[31m          \u001b[39m\u001b[32m  └── \u001b[39m\u001b[37mArrayNode(1x10 Array, Float64) with 10 obs\u001b[39m\n",
      "\u001b[34m  ├── b: \u001b[39m\u001b[31mProductNode with 4 obs\u001b[39m\n",
      "\u001b[34m  │      \u001b[39m\u001b[31m  ├── ba: \u001b[39m\u001b[37mArrayNode(2053x4 NGramMatrix, Union{Missing, Int64}) with 4 obs\u001b[39m\n",
      "\u001b[34m  │      \u001b[39m\u001b[31m  └── bb: \u001b[39m\u001b[37mArrayNode(2053x4 NGramMatrix, Int64) with 4 obs\u001b[39m\n",
      "\u001b[34m  └── c: \u001b[39m\u001b[31mProductNode with 4 obs\u001b[39m\n",
      "\u001b[34m         \u001b[39m\u001b[31m  ├── ca: \u001b[39m\u001b[37mArrayNode(10x4 MaybeHotMatrix, Union{Missing, Bool}) with 4 obs\u001b[39m\n",
      "\u001b[34m         \u001b[39m\u001b[31m  └── cb: \u001b[39m\u001b[37mArrayNode(10x4 MaybeHotMatrix, Bool) with 4 obs\u001b[39m"
     ]
    }
   ],
   "source": [
    "n = ArrayNode(rand(1, 10))\n",
    "ds2 = replacein(ds, ds[\"Q\"], n)\n",
    "printtree(ds2)"
   ]
  },
  {
   "cell_type": "code",
   "execution_count": 88,
   "metadata": {},
   "outputs": [],
   "source": [
    "findin(ds, n)"
   ]
  },
  {
   "cell_type": "code",
   "execution_count": 89,
   "metadata": {},
   "outputs": [
    {
     "data": {
      "text/plain": [
       "(@lens _.data.a.data.aa.data)"
      ]
     },
     "execution_count": 89,
     "metadata": {},
     "output_type": "execute_result"
    }
   ],
   "source": [
    "findin(ds2, n)"
   ]
  },
  {
   "cell_type": "markdown",
   "metadata": {},
   "source": [
    "## Error checks"
   ]
  },
  {
   "cell_type": "code",
   "execution_count": 90,
   "metadata": {},
   "outputs": [
    {
     "ename": "LoadError",
     "evalue": "ArgumentError: It doesn't make sense to vcat RowImputingMatrices",
     "output_type": "error",
     "traceback": [
      "ArgumentError: It doesn't make sense to vcat RowImputingMatrices",
      "",
      "Stacktrace:",
      " [1] |>(::ArgumentError, ::typeof(throw)) at ./operators.jl:834",
      " [2] vcat(::RowImputingMatrix{Float64,Array{Float64,1},Array{Float64,2}}, ::RowImputingMatrix{Float64,Array{Float64,1},Array{Float64,2}}) at /Users/simon.mandlik/.julia/dev/Mill/src/matrices/row_imputing_matrix.jl:14",
      " [3] top-level scope at In[90]:1",
      " [4] include_string(::Function, ::Module, ::String, ::String) at ./loading.jl:1091",
      " [5] execute_code(::String, ::String) at /Users/simon.mandlik/.julia/packages/IJulia/rWZ9e/src/execute_request.jl:27",
      " [6] execute_request(::ZMQ.Socket, ::IJulia.Msg) at /Users/simon.mandlik/.julia/packages/IJulia/rWZ9e/src/execute_request.jl:86",
      " [7] #invokelatest#1 at ./essentials.jl:710 [inlined]",
      " [8] invokelatest at ./essentials.jl:709 [inlined]",
      " [9] eventloop(::ZMQ.Socket) at /Users/simon.mandlik/.julia/packages/IJulia/rWZ9e/src/eventloop.jl:8",
      " [10] (::IJulia.var\"#15#18\")() at ./task.jl:356"
     ]
    }
   ],
   "source": [
    "vcat(RowImputingMatrix(rand(2,2)),\n",
    "     RowImputingMatrix(rand(2,2))\n",
    ")"
   ]
  },
  {
   "cell_type": "code",
   "execution_count": 91,
   "metadata": {},
   "outputs": [
    {
     "ename": "LoadError",
     "evalue": "ArgumentError: It doesn't make sense to hcat ColImputingMatrices",
     "output_type": "error",
     "traceback": [
      "ArgumentError: It doesn't make sense to hcat ColImputingMatrices",
      "",
      "Stacktrace:",
      " [1] |>(::ArgumentError, ::typeof(throw)) at ./operators.jl:834",
      " [2] hcat(::ColImputingMatrix{Float64,Array{Float64,1},Array{Float64,2}}, ::ColImputingMatrix{Float64,Array{Float64,1},Array{Float64,2}}) at /Users/simon.mandlik/.julia/dev/Mill/src/matrices/col_imputing_matrix.jl:14",
      " [3] top-level scope at In[91]:1",
      " [4] include_string(::Function, ::Module, ::String, ::String) at ./loading.jl:1091",
      " [5] execute_code(::String, ::String) at /Users/simon.mandlik/.julia/packages/IJulia/rWZ9e/src/execute_request.jl:27",
      " [6] execute_request(::ZMQ.Socket, ::IJulia.Msg) at /Users/simon.mandlik/.julia/packages/IJulia/rWZ9e/src/execute_request.jl:86",
      " [7] #invokelatest#1 at ./essentials.jl:710 [inlined]",
      " [8] invokelatest at ./essentials.jl:709 [inlined]",
      " [9] eventloop(::ZMQ.Socket) at /Users/simon.mandlik/.julia/packages/IJulia/rWZ9e/src/eventloop.jl:8",
      " [10] (::IJulia.var\"#15#18\")() at ./task.jl:356"
     ]
    }
   ],
   "source": [
    "hcat(ColImputingMatrix(rand(2,2)),\n",
    "     ColImputingMatrix(rand(2,2))\n",
    ")"
   ]
  },
  {
   "cell_type": "code",
   "execution_count": 92,
   "metadata": {},
   "outputs": [
    {
     "ename": "LoadError",
     "evalue": "DimensionMismatch(\"Number of columns of A (2) must correspond with number of rows of B (3)\")",
     "output_type": "error",
     "traceback": [
      "DimensionMismatch(\"Number of columns of A (2) must correspond with number of rows of B (3)\")",
      "",
      "Stacktrace:",
      " [1] |>(::DimensionMismatch, ::typeof(throw)) at ./operators.jl:834",
      " [2] _check_mul at /Users/simon.mandlik/.julia/dev/Mill/src/matrices/matrix.jl:14 [inlined]",
      " [3] *(::RowImputingMatrix{Float64,Array{Float64,1},Array{Float64,2}}, ::Array{Float64,2}) at /Users/simon.mandlik/.julia/dev/Mill/src/matrices/row_imputing_matrix.jl:19",
      " [4] top-level scope at In[92]:1",
      " [5] include_string(::Function, ::Module, ::String, ::String) at ./loading.jl:1091",
      " [6] execute_code(::String, ::String) at /Users/simon.mandlik/.julia/packages/IJulia/rWZ9e/src/execute_request.jl:27",
      " [7] execute_request(::ZMQ.Socket, ::IJulia.Msg) at /Users/simon.mandlik/.julia/packages/IJulia/rWZ9e/src/execute_request.jl:86",
      " [8] #invokelatest#1 at ./essentials.jl:710 [inlined]",
      " [9] invokelatest at ./essentials.jl:709 [inlined]",
      " [10] eventloop(::ZMQ.Socket) at /Users/simon.mandlik/.julia/packages/IJulia/rWZ9e/src/eventloop.jl:8",
      " [11] (::IJulia.var\"#15#18\")() at ./task.jl:356"
     ]
    }
   ],
   "source": [
    "RowImputingMatrix(rand(2,2)) * rand(3,3)"
   ]
  },
  {
   "cell_type": "code",
   "execution_count": 93,
   "metadata": {},
   "outputs": [
    {
     "ename": "LoadError",
     "evalue": "DimensionMismatch(\"Number of columns of A (2) must correspond with length of b (4)\")",
     "output_type": "error",
     "traceback": [
      "DimensionMismatch(\"Number of columns of A (2) must correspond with length of b (4)\")",
      "",
      "Stacktrace:",
      " [1] |>(::DimensionMismatch, ::typeof(throw)) at ./operators.jl:834",
      " [2] _check_mul at /Users/simon.mandlik/.julia/dev/Mill/src/matrices/matrix.jl:6 [inlined]",
      " [3] *(::ColImputingMatrix{Float64,Array{Float64,1},Array{Float64,2}}, ::MaybeHotVector{Int64,Int64,Bool}) at /Users/simon.mandlik/.julia/dev/Mill/src/matrices/col_imputing_matrix.jl:21",
      " [4] top-level scope at In[93]:1",
      " [5] include_string(::Function, ::Module, ::String, ::String) at ./loading.jl:1091",
      " [6] execute_code(::String, ::String) at /Users/simon.mandlik/.julia/packages/IJulia/rWZ9e/src/execute_request.jl:27",
      " [7] execute_request(::ZMQ.Socket, ::IJulia.Msg) at /Users/simon.mandlik/.julia/packages/IJulia/rWZ9e/src/execute_request.jl:86",
      " [8] #invokelatest#1 at ./essentials.jl:710 [inlined]",
      " [9] invokelatest at ./essentials.jl:709 [inlined]",
      " [10] eventloop(::ZMQ.Socket) at /Users/simon.mandlik/.julia/packages/IJulia/rWZ9e/src/eventloop.jl:8",
      " [11] (::IJulia.var\"#15#18\")() at ./task.jl:356"
     ]
    }
   ],
   "source": [
    "ColImputingMatrix(rand(2,2)) * maybehot(1, 1:4)"
   ]
  },
  {
   "cell_type": "code",
   "execution_count": 94,
   "metadata": {},
   "outputs": [
    {
     "ename": "LoadError",
     "evalue": "BoundsError: attempt to access 4-element MaybeHotVector{Int64,Int64,Bool} at index [5]",
     "output_type": "error",
     "traceback": [
      "BoundsError: attempt to access 4-element MaybeHotVector{Int64,Int64,Bool} at index [5]",
      "",
      "Stacktrace:",
      " [1] throw_boundserror(::MaybeHotVector{Int64,Int64,Bool}, ::Tuple{Int64}) at ./abstractarray.jl:541",
      " [2] checkbounds at ./abstractarray.jl:506 [inlined]",
      " [3] getindex(::MaybeHotVector{Int64,Int64,Bool}, ::Int64) at /Users/simon.mandlik/.julia/dev/Mill/src/matrices/maybe_hot_vector.jl:11",
      " [4] top-level scope at In[94]:1",
      " [5] include_string(::Function, ::Module, ::String, ::String) at ./loading.jl:1091",
      " [6] execute_code(::String, ::String) at /Users/simon.mandlik/.julia/packages/IJulia/rWZ9e/src/execute_request.jl:27",
      " [7] execute_request(::ZMQ.Socket, ::IJulia.Msg) at /Users/simon.mandlik/.julia/packages/IJulia/rWZ9e/src/execute_request.jl:86",
      " [8] #invokelatest#1 at ./essentials.jl:710 [inlined]",
      " [9] invokelatest at ./essentials.jl:709 [inlined]",
      " [10] eventloop(::ZMQ.Socket) at /Users/simon.mandlik/.julia/packages/IJulia/rWZ9e/src/eventloop.jl:8",
      " [11] (::IJulia.var\"#15#18\")() at ./task.jl:356"
     ]
    }
   ],
   "source": [
    "maybehot(1, 1:4)[5]"
   ]
  },
  {
   "cell_type": "code",
   "execution_count": 95,
   "metadata": {},
   "outputs": [
    {
     "ename": "LoadError",
     "evalue": "BoundsError: attempt to access 2053×2 NGramMatrix{String,Array{String,1},Int64} at index [:, 3]",
     "output_type": "error",
     "traceback": [
      "BoundsError: attempt to access 2053×2 NGramMatrix{String,Array{String,1},Int64} at index [:, 3]",
      "",
      "Stacktrace:",
      " [1] throw_boundserror(::NGramMatrix{String,Array{String,1},Int64}, ::Tuple{Colon,Int64}) at ./abstractarray.jl:541",
      " [2] checkbounds(::NGramMatrix{String,Array{String,1},Int64}, ::Function, ::Int64) at ./abstractarray.jl:506",
      " [3] getindex(::NGramMatrix{String,Array{String,1},Int64}, ::Function, ::Int64) at /Users/simon.mandlik/.julia/dev/Mill/src/matrices/ngram_matrix.jl:184",
      " [4] top-level scope at In[95]:1",
      " [5] include_string(::Function, ::Module, ::String, ::String) at ./loading.jl:1091",
      " [6] execute_code(::String, ::String) at /Users/simon.mandlik/.julia/packages/IJulia/rWZ9e/src/execute_request.jl:27",
      " [7] execute_request(::ZMQ.Socket, ::IJulia.Msg) at /Users/simon.mandlik/.julia/packages/IJulia/rWZ9e/src/execute_request.jl:86",
      " [8] #invokelatest#1 at ./essentials.jl:710 [inlined]",
      " [9] invokelatest at ./essentials.jl:709 [inlined]",
      " [10] eventloop(::ZMQ.Socket) at /Users/simon.mandlik/.julia/packages/IJulia/rWZ9e/src/eventloop.jl:8",
      " [11] (::IJulia.var\"#15#18\")() at ./task.jl:356"
     ]
    }
   ],
   "source": [
    "NGramMatrix([\"a\", \"b\"])[:, 3]"
   ]
  },
  {
   "cell_type": "markdown",
   "metadata": {},
   "source": [
    "## Other changes\n",
    "\n",
    "- renamed default params everywhere to `ψ` for consistency\n",
    "- `terseprint` is gone and will be available from a standalone package\n",
    "- `!` versions of functions for global flags\n",
    "- `ChainRulesCore.rrule` instead of `Zygote.@adjoint` where possible\n",
    "- `Nothing{T}` and `Maybe{T}` union types\n",
    "- `ImputingMatrix`, `Sequence`\n",
    "- `IdentityModel` changed to `ArrayMode{::typeof(identity)}`\n",
    "- `3x` more tests than before\n",
    "- more efficient aggregation operators\n",
    "- at least `julia-1.5` required from now on\n",
    "- `nobs` from `LearnBase` gone and replaced by `StatsBase` version\n",
    "- `Macrotools` as a dependency used from `Flux`\n",
    "- reworked and simplified gradient checking tests"
   ]
  },
  {
   "cell_type": "markdown",
   "metadata": {},
   "source": [
    "# Still TODO:\n",
    "- better alphabet (reduced, wildcards, start/end of word characters `\\‘`, `\\'`)\n",
    "- profiling and benchmarking performance\n",
    "- documentation\n",
    "- merge to master and release"
   ]
  }
 ],
 "metadata": {
  "kernelspec": {
   "display_name": "Julia 1.5.0",
   "language": "julia",
   "name": "julia-1.5"
  },
  "language_info": {
   "file_extension": ".jl",
   "mimetype": "application/julia",
   "name": "julia",
   "version": "1.5.0"
  }
 },
 "nbformat": 4,
 "nbformat_minor": 4
}

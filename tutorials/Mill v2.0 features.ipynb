{
 "cells": [
  {
   "cell_type": "markdown",
   "metadata": {},
   "source": [
    "# Mill v2.0 features"
   ]
  },
  {
   "cell_type": "code",
   "execution_count": 1,
   "metadata": {},
   "outputs": [],
   "source": [
    "using Mill, Flux, FileIO, JLD2, SparseArrays, BenchmarkTools, Setfield"
   ]
  },
  {
   "cell_type": "markdown",
   "metadata": {},
   "source": [
    "## Bag count\n",
    "\n",
    "- `AggregationFunction` changed to `AggregationOperator` for clarity and are not meant to be used by the user.\n",
    "- Reduced number of exported `Segmented*` methods\n",
    "- `Segmented*` calls now return `Aggregation` type even for aggregations using only one operator.\n",
    "- All `Aggregation{T}` types now append `log(length(bag) + one(T))` unless a global flag is not set\n",
    "- slightly more strict type checking\n",
    "- `Aggregation` is now flattened upon construction\n",
    "- smart `vcat` implemented"
   ]
  },
  {
   "cell_type": "code",
   "execution_count": 2,
   "metadata": {},
   "outputs": [
    {
     "data": {
      "text/plain": [
       "Aggregation{Float32}:\n",
       " SegmentedMean(ψ = Float32[0.0, 0.0, 0.0])\n",
       " SegmentedMax(ψ = Float32[0.0, 0.0, 0.0])"
      ]
     },
     "execution_count": 2,
     "metadata": {},
     "output_type": "execute_result"
    }
   ],
   "source": [
    "a = SegmentedMeanMax(3)"
   ]
  },
  {
   "cell_type": "code",
   "execution_count": 3,
   "metadata": {},
   "outputs": [
    {
     "data": {
      "text/plain": [
       "Aggregation{Float32,Tuple{SegmentedMean{Float32,Array{Float32,1}}}}"
      ]
     },
     "execution_count": 3,
     "metadata": {},
     "output_type": "execute_result"
    }
   ],
   "source": [
    "SegmentedMean(3) |> typeof"
   ]
  },
  {
   "cell_type": "code",
   "execution_count": 4,
   "metadata": {},
   "outputs": [
    {
     "data": {
      "text/plain": [
       "SegmentedMean{Float64,Array{Float64,1}}"
      ]
     },
     "execution_count": 4,
     "metadata": {},
     "output_type": "execute_result"
    }
   ],
   "source": [
    "SegmentedMean(zeros(3)) |> typeof"
   ]
  },
  {
   "cell_type": "code",
   "execution_count": 5,
   "metadata": {},
   "outputs": [
    {
     "data": {
      "text/plain": [
       "3×3 Array{Float32,2}:\n",
       " 1.0  4.0  7.0\n",
       " 2.0  5.0  8.0\n",
       " 3.0  6.0  9.0"
      ]
     },
     "execution_count": 5,
     "metadata": {},
     "output_type": "execute_result"
    }
   ],
   "source": [
    "x = reshape(1:9, 3, 3) |> f32"
   ]
  },
  {
   "cell_type": "code",
   "execution_count": 6,
   "metadata": {},
   "outputs": [
    {
     "data": {
      "text/plain": [
       "7×2 Array{Float32,2}:\n",
       " 2.5      7.0\n",
       " 3.5      8.0\n",
       " 4.5      9.0\n",
       " 4.0      7.0\n",
       " 5.0      8.0\n",
       " 6.0      9.0\n",
       " 1.09861  0.693147"
      ]
     },
     "execution_count": 6,
     "metadata": {},
     "output_type": "execute_result"
    }
   ],
   "source": [
    "a(x, Mill.bags([1:2, 3:3]))"
   ]
  },
  {
   "cell_type": "code",
   "execution_count": 7,
   "metadata": {},
   "outputs": [
    {
     "data": {
      "text/plain": [
       "7×2 Array{Float32,2}:\n",
       " 2.5      0.0\n",
       " 3.5      0.0\n",
       " 4.5      0.0\n",
       " 4.0      0.0\n",
       " 5.0      0.0\n",
       " 6.0      0.0\n",
       " 1.09861  0.0"
      ]
     },
     "execution_count": 7,
     "metadata": {},
     "output_type": "execute_result"
    }
   ],
   "source": [
    "a(x[:, 1:2], Mill.bags([1:2, 0:-1]))"
   ]
  },
  {
   "cell_type": "code",
   "execution_count": 8,
   "metadata": {},
   "outputs": [
    {
     "data": {
      "text/plain": [
       "true"
      ]
     },
     "execution_count": 8,
     "metadata": {},
     "output_type": "execute_result"
    }
   ],
   "source": [
    "Mill.bagcount()"
   ]
  },
  {
   "cell_type": "code",
   "execution_count": 9,
   "metadata": {},
   "outputs": [
    {
     "data": {
      "text/plain": [
       "false"
      ]
     },
     "execution_count": 9,
     "metadata": {},
     "output_type": "execute_result"
    }
   ],
   "source": [
    "Mill.bagcount!(false)\n",
    "Mill.bagcount()"
   ]
  },
  {
   "cell_type": "code",
   "execution_count": 10,
   "metadata": {},
   "outputs": [
    {
     "data": {
      "text/plain": [
       "6×2 Array{Float32,2}:\n",
       " 2.5  7.0\n",
       " 3.5  8.0\n",
       " 4.5  9.0\n",
       " 4.0  7.0\n",
       " 5.0  8.0\n",
       " 6.0  9.0"
      ]
     },
     "execution_count": 10,
     "metadata": {},
     "output_type": "execute_result"
    }
   ],
   "source": [
    "a(x, Mill.bags([1:2, 3:3]))"
   ]
  },
  {
   "cell_type": "code",
   "execution_count": 11,
   "metadata": {},
   "outputs": [
    {
     "data": {
      "text/plain": [
       "Aggregation{Float32}:\n",
       " SegmentedPNorm(ψ = Float32[-0.980588, -0.676807, 0.563166], ρ = Float32[-0.20514, 0.198478, -0.788083], c = Float32[0.0, 0.0, 0.0])\n",
       " SegmentedLSE(ψ = Float32[1.36628, -0.756589, -1.99925], ρ = Float32[0.0, 0.0, 0.0])\n",
       " SegmentedMean(ψ = Float32[0.0, 0.0, 0.0])\n",
       " SegmentedMax(ψ = Float32[0.0, 0.0, 0.0])"
      ]
     },
     "execution_count": 11,
     "metadata": {},
     "output_type": "execute_result"
    }
   ],
   "source": [
    "a = Aggregation(SegmentedPNormLSE(3), Aggregation(SegmentedMean(3)), SegmentedMax(3))"
   ]
  },
  {
   "cell_type": "code",
   "execution_count": 12,
   "metadata": {},
   "outputs": [
    {
     "data": {
      "text/plain": [
       "Aggregation{Float32}:\n",
       " SegmentedMean(ψ = Float32[0.0, 0.0])\n",
       " SegmentedMean(ψ = Float32[0.0, 0.0])\n",
       " SegmentedMax(ψ = Float32[0.0, 0.0])"
      ]
     },
     "execution_count": 12,
     "metadata": {},
     "output_type": "execute_result"
    }
   ],
   "source": [
    "vcat(SegmentedMean(2), SegmentedMeanMax(2))"
   ]
  },
  {
   "cell_type": "markdown",
   "metadata": {},
   "source": [
    "## Pre (row) imputing"
   ]
  },
  {
   "cell_type": "code",
   "execution_count": 13,
   "metadata": {},
   "outputs": [
    {
     "data": {
      "text/plain": [
       "3×3 PreImputingMatrix{Float64,Array{Float64,1},Array{Float64,2}}:\n",
       "W:\n",
       " 0.90315   0.0144307  0.62638\n",
       " 0.718898  0.31501    0.415531\n",
       " 0.360414  0.877861   0.457933\n",
       "\n",
       "ψ:\n",
       " 0.0  0.0  0.0"
      ]
     },
     "execution_count": 13,
     "metadata": {},
     "output_type": "execute_result"
    }
   ],
   "source": [
    "A = PreImputingMatrix(rand(3,3))\n",
    "A::AbstractMatrix{Float64}"
   ]
  },
  {
   "cell_type": "code",
   "execution_count": 14,
   "metadata": {},
   "outputs": [
    {
     "data": {
      "text/plain": [
       "3×6 PreImputingMatrix{Float64,Array{Float64,1},Array{Float64,2}}:\n",
       "W:\n",
       " 0.90315   0.0144307  0.62638   0.90315   0.0144307  0.62638\n",
       " 0.718898  0.31501    0.415531  0.718898  0.31501    0.415531\n",
       " 0.360414  0.877861   0.457933  0.360414  0.877861   0.457933\n",
       "\n",
       "ψ:\n",
       " 0.0  0.0  0.0  0.0  0.0  0.0"
      ]
     },
     "execution_count": 14,
     "metadata": {},
     "output_type": "execute_result"
    }
   ],
   "source": [
    "hcat(A, A)"
   ]
  },
  {
   "cell_type": "code",
   "execution_count": 15,
   "metadata": {},
   "outputs": [
    {
     "data": {
      "text/plain": [
       "3×2 Array{Float64,2}:\n",
       " 0.156779  0.322361\n",
       " 0.707233  0.395962\n",
       " 0.847294  0.898436"
      ]
     },
     "execution_count": 15,
     "metadata": {},
     "output_type": "execute_result"
    }
   ],
   "source": [
    "X = rand(3, 2)"
   ]
  },
  {
   "cell_type": "code",
   "execution_count": 16,
   "metadata": {},
   "outputs": [
    {
     "data": {
      "text/plain": [
       "3×2 Array{Float64,2}:\n",
       " 0.682529  0.859617\n",
       " 0.687571  0.729805\n",
       " 1.06536   0.875207"
      ]
     },
     "execution_count": 16,
     "metadata": {},
     "output_type": "execute_result"
    }
   ],
   "source": [
    "A * X"
   ]
  },
  {
   "cell_type": "code",
   "execution_count": 17,
   "metadata": {},
   "outputs": [
    {
     "data": {
      "text/plain": [
       "3×2 Array{Union{Missing, Float64},2}:\n",
       " 1.0        missing\n",
       "  missing  2.0\n",
       " 3.0       4.0"
      ]
     },
     "execution_count": 17,
     "metadata": {},
     "output_type": "execute_result"
    }
   ],
   "source": [
    "Y = [1.0 missing; missing 2.0; 3.0 4.0]"
   ]
  },
  {
   "cell_type": "code",
   "execution_count": 18,
   "metadata": {},
   "outputs": [
    {
     "data": {
      "text/plain": [
       "3×2 Array{Float64,2}:\n",
       " 2.78229  2.53438\n",
       " 1.96549  2.29214\n",
       " 1.73421  3.58745"
      ]
     },
     "execution_count": 18,
     "metadata": {},
     "output_type": "execute_result"
    }
   ],
   "source": [
    "A * Y"
   ]
  },
  {
   "cell_type": "code",
   "execution_count": 19,
   "metadata": {},
   "outputs": [
    {
     "data": {
      "text/plain": [
       "3-element Array{Missing,1}:\n",
       " missing\n",
       " missing\n",
       " missing"
      ]
     },
     "execution_count": 19,
     "metadata": {},
     "output_type": "execute_result"
    }
   ],
   "source": [
    "Z = [missing, missing, missing]"
   ]
  },
  {
   "cell_type": "code",
   "execution_count": 20,
   "metadata": {},
   "outputs": [
    {
     "data": {
      "text/plain": [
       "3-element Array{Float64,1}:\n",
       " 0.0\n",
       " 0.0\n",
       " 0.0"
      ]
     },
     "execution_count": 20,
     "metadata": {},
     "output_type": "execute_result"
    }
   ],
   "source": [
    "A * Z"
   ]
  },
  {
   "cell_type": "code",
   "execution_count": 21,
   "metadata": {},
   "outputs": [
    {
     "data": {
      "text/plain": [
       "((W = [0.4791405279186667 1.103194820364753 1.745729040761589; 0.4791405279186667 1.103194820364753 1.745729040761589; 0.4791405279186667 1.103194820364753 1.745729040761589], ψ = nothing), [1.9824625821174064 1.9824625821174064; 1.207302140269231 1.207302140269231; 1.4998441742284894 1.4998441742284894])"
      ]
     },
     "execution_count": 21,
     "metadata": {},
     "output_type": "execute_result"
    }
   ],
   "source": [
    "gradient((x, y) -> x * y |> sum, A, X)"
   ]
  },
  {
   "cell_type": "code",
   "execution_count": 22,
   "metadata": {},
   "outputs": [
    {
     "data": {
      "text/plain": [
       "((W = [1.0 2.0 7.0; 1.0 2.0 7.0; 1.0 2.0 7.0], ψ = [1.9824625821174064; 1.207302140269231; 0.0]), [1.9824625821174064 0.0; 0.0 1.207302140269231; 1.4998441742284894 1.4998441742284894])"
      ]
     },
     "execution_count": 22,
     "metadata": {},
     "output_type": "execute_result"
    }
   ],
   "source": [
    "gradient((x, y) -> x * y |> sum, A, Y)"
   ]
  },
  {
   "cell_type": "code",
   "execution_count": 23,
   "metadata": {},
   "outputs": [
    {
     "data": {
      "text/plain": [
       "((W = [0.0 0.0 0.0; 0.0 0.0 0.0; 0.0 0.0 0.0], ψ = [1.9824625821174064, 1.207302140269231, 1.4998441742284894]), nothing)"
      ]
     },
     "execution_count": 23,
     "metadata": {},
     "output_type": "execute_result"
    }
   ],
   "source": [
    "gradient((x, y) -> x * y |> sum, A, Z)"
   ]
  },
  {
   "cell_type": "markdown",
   "metadata": {},
   "source": [
    "## Maybe hot"
   ]
  },
  {
   "cell_type": "code",
   "execution_count": 24,
   "metadata": {},
   "outputs": [
    {
     "data": {
      "text/plain": [
       "3-element Flux.OneHotVector:\n",
       " 1\n",
       " 0\n",
       " 0"
      ]
     },
     "execution_count": 24,
     "metadata": {},
     "output_type": "execute_result"
    }
   ],
   "source": [
    "oh1 = Flux.onehot(1, 1:3)"
   ]
  },
  {
   "cell_type": "code",
   "execution_count": 25,
   "metadata": {},
   "outputs": [
    {
     "data": {
      "text/plain": [
       "3-element MaybeHotVector{Int64,Int64,Bool}:\n",
       " 1\n",
       " 0\n",
       " 0"
      ]
     },
     "execution_count": 25,
     "metadata": {},
     "output_type": "execute_result"
    }
   ],
   "source": [
    "mh1 = maybehot(1, 1:3)\n",
    "mh1::AbstractVector{Bool}"
   ]
  },
  {
   "cell_type": "code",
   "execution_count": 26,
   "metadata": {},
   "outputs": [
    {
     "data": {
      "text/plain": [
       "3-element Flux.OneHotVector:\n",
       " 1\n",
       " 0\n",
       " 0"
      ]
     },
     "execution_count": 26,
     "metadata": {},
     "output_type": "execute_result"
    }
   ],
   "source": [
    "Flux.onehot(mh1)"
   ]
  },
  {
   "cell_type": "code",
   "execution_count": 27,
   "metadata": {},
   "outputs": [
    {
     "data": {
      "text/plain": [
       "3-element MaybeHotVector{Missing,Int64,Missing}:\n",
       " missing\n",
       " missing\n",
       " missing"
      ]
     },
     "execution_count": 27,
     "metadata": {},
     "output_type": "execute_result"
    }
   ],
   "source": [
    "mh2 = Mill.maybehot(missing, 1:3)\n",
    "mh2::AbstractVector{Missing}"
   ]
  },
  {
   "cell_type": "code",
   "execution_count": 28,
   "metadata": {},
   "outputs": [
    {
     "data": {
      "text/plain": [
       "3×2 Flux.OneHotMatrix{Array{Flux.OneHotVector,1}}:\n",
       " 1  0\n",
       " 0  0\n",
       " 0  1"
      ]
     },
     "execution_count": 28,
     "metadata": {},
     "output_type": "execute_result"
    }
   ],
   "source": [
    "ohb1 = Flux.onehotbatch([1, 3], 1:3)"
   ]
  },
  {
   "cell_type": "code",
   "execution_count": 29,
   "metadata": {},
   "outputs": [
    {
     "data": {
      "text/plain": [
       "3×2 MaybeHotMatrix{Int64,Array{Int64,1},Int64,Bool}:\n",
       " 1  0\n",
       " 0  0\n",
       " 0  1"
      ]
     },
     "execution_count": 29,
     "metadata": {},
     "output_type": "execute_result"
    }
   ],
   "source": [
    "mhb1 = Mill.maybehotbatch([1, 3], 1:3)\n",
    "mhb1::AbstractMatrix{Bool}"
   ]
  },
  {
   "cell_type": "code",
   "execution_count": 30,
   "metadata": {},
   "outputs": [
    {
     "data": {
      "text/plain": [
       "3×2 Flux.OneHotMatrix{Array{Flux.OneHotVector,1}}:\n",
       " 1  0\n",
       " 0  0\n",
       " 0  1"
      ]
     },
     "execution_count": 30,
     "metadata": {},
     "output_type": "execute_result"
    }
   ],
   "source": [
    "Flux.onehotbatch(mhb1)"
   ]
  },
  {
   "cell_type": "code",
   "execution_count": 31,
   "metadata": {},
   "outputs": [
    {
     "data": {
      "text/plain": [
       "3×3 MaybeHotMatrix{Union{Missing, Int64},Array{Union{Missing, Int64},1},Int64,Union{Missing, Bool}}:\n",
       "  true  missing  false\n",
       " false  missing  false\n",
       " false  missing   true"
      ]
     },
     "execution_count": 31,
     "metadata": {},
     "output_type": "execute_result"
    }
   ],
   "source": [
    "mhb2 = Mill.maybehotbatch([1, missing, 3], 1:3)\n",
    "mhb2::AbstractMatrix{Union{Bool, Missing}}"
   ]
  },
  {
   "cell_type": "code",
   "execution_count": 32,
   "metadata": {},
   "outputs": [
    {
     "data": {
      "text/plain": [
       "3×3 Array{Float64,2}:\n",
       " 0.68779   0.0751477  0.0180377\n",
       " 0.847652  0.567769   0.336186\n",
       " 0.736119  0.252398   0.587399"
      ]
     },
     "execution_count": 32,
     "metadata": {},
     "output_type": "execute_result"
    }
   ],
   "source": [
    "x = rand(3,3)"
   ]
  },
  {
   "cell_type": "code",
   "execution_count": 33,
   "metadata": {},
   "outputs": [
    {
     "data": {
      "text/plain": [
       "3-element Array{Float64,1}:\n",
       " 0.6877900825635983\n",
       " 0.8476519468174486\n",
       " 0.736119416739053"
      ]
     },
     "execution_count": 33,
     "metadata": {},
     "output_type": "execute_result"
    }
   ],
   "source": [
    "x * oh1"
   ]
  },
  {
   "cell_type": "code",
   "execution_count": 34,
   "metadata": {},
   "outputs": [
    {
     "data": {
      "text/plain": [
       "3-element Array{Float64,1}:\n",
       " 0.6877900825635983\n",
       " 0.8476519468174486\n",
       " 0.736119416739053"
      ]
     },
     "execution_count": 34,
     "metadata": {},
     "output_type": "execute_result"
    }
   ],
   "source": [
    "x * mh1"
   ]
  },
  {
   "cell_type": "code",
   "execution_count": 35,
   "metadata": {},
   "outputs": [
    {
     "data": {
      "text/plain": [
       "3-element Array{Missing,1}:\n",
       " missing\n",
       " missing\n",
       " missing"
      ]
     },
     "execution_count": 35,
     "metadata": {},
     "output_type": "execute_result"
    }
   ],
   "source": [
    "x * mh2"
   ]
  },
  {
   "cell_type": "code",
   "execution_count": 36,
   "metadata": {},
   "outputs": [
    {
     "data": {
      "text/plain": [
       "3×2 Array{Float64,2}:\n",
       " 0.68779   0.0180377\n",
       " 0.847652  0.336186\n",
       " 0.736119  0.587399"
      ]
     },
     "execution_count": 36,
     "metadata": {},
     "output_type": "execute_result"
    }
   ],
   "source": [
    "x * ohb1"
   ]
  },
  {
   "cell_type": "code",
   "execution_count": 37,
   "metadata": {},
   "outputs": [
    {
     "data": {
      "text/plain": [
       "3×2 Array{Float64,2}:\n",
       " 0.68779   0.0180377\n",
       " 0.847652  0.336186\n",
       " 0.736119  0.587399"
      ]
     },
     "execution_count": 37,
     "metadata": {},
     "output_type": "execute_result"
    }
   ],
   "source": [
    "x * mhb1"
   ]
  },
  {
   "cell_type": "code",
   "execution_count": 38,
   "metadata": {},
   "outputs": [
    {
     "data": {
      "text/plain": [
       "3×3 Array{Union{Missing, Float64},2}:\n",
       " 0.68779   missing  0.0180377\n",
       " 0.847652  missing  0.336186\n",
       " 0.736119  missing  0.587399"
      ]
     },
     "execution_count": 38,
     "metadata": {},
     "output_type": "execute_result"
    }
   ],
   "source": [
    "x * mhb2"
   ]
  },
  {
   "cell_type": "code",
   "execution_count": 39,
   "metadata": {},
   "outputs": [
    {
     "data": {
      "text/plain": [
       "([1.0 0.0 0.0; 1.0 0.0 0.0; 1.0 0.0 0.0], nothing)"
      ]
     },
     "execution_count": 39,
     "metadata": {},
     "output_type": "execute_result"
    }
   ],
   "source": [
    "gradient((x, y) -> x * y |> sum, x, mh1)"
   ]
  },
  {
   "cell_type": "code",
   "execution_count": 40,
   "metadata": {},
   "outputs": [
    {
     "ename": "LoadError",
     "evalue": "Output should be scalar; gradients are not defined for output missing",
     "output_type": "error",
     "traceback": [
      "Output should be scalar; gradients are not defined for output missing",
      "",
      "Stacktrace:",
      " [1] error(::String) at ./error.jl:33",
      " [2] sensitivity(::Missing) at /Users/simon.mandlik/.julia/packages/Zygote/7Jrhj/src/compiler/interface.jl:45",
      " [3] gradient(::Function, ::Array{Float64,2}, ::Vararg{Any,N} where N) at /Users/simon.mandlik/.julia/packages/Zygote/7Jrhj/src/compiler/interface.jl:49",
      " [4] top-level scope at In[40]:1",
      " [5] include_string(::Function, ::Module, ::String, ::String) at ./loading.jl:1091"
     ]
    }
   ],
   "source": [
    "gradient((x, y) -> x * y |> sum, x, mh2)"
   ]
  },
  {
   "cell_type": "code",
   "execution_count": 41,
   "metadata": {},
   "outputs": [
    {
     "data": {
      "text/plain": [
       "([1.0 0.0 1.0; 1.0 0.0 1.0; 1.0 0.0 1.0], nothing)"
      ]
     },
     "execution_count": 41,
     "metadata": {},
     "output_type": "execute_result"
    }
   ],
   "source": [
    "gradient((x, y) -> x * y |> sum, x, mhb1)"
   ]
  },
  {
   "cell_type": "code",
   "execution_count": 42,
   "metadata": {},
   "outputs": [
    {
     "ename": "LoadError",
     "evalue": "Output should be scalar; gradients are not defined for output missing",
     "output_type": "error",
     "traceback": [
      "Output should be scalar; gradients are not defined for output missing",
      "",
      "Stacktrace:",
      " [1] error(::String) at ./error.jl:33",
      " [2] sensitivity(::Missing) at /Users/simon.mandlik/.julia/packages/Zygote/7Jrhj/src/compiler/interface.jl:45",
      " [3] gradient(::Function, ::Array{Float64,2}, ::Vararg{Any,N} where N) at /Users/simon.mandlik/.julia/packages/Zygote/7Jrhj/src/compiler/interface.jl:49",
      " [4] top-level scope at In[42]:1",
      " [5] include_string(::Function, ::Module, ::String, ::String) at ./loading.jl:1091"
     ]
    }
   ],
   "source": [
    "gradient((x, y) -> x * y |> sum, x, mhb2)"
   ]
  },
  {
   "cell_type": "markdown",
   "metadata": {},
   "source": [
    "## NGramMatrix with Missing"
   ]
  },
  {
   "cell_type": "code",
   "execution_count": 43,
   "metadata": {},
   "outputs": [
    {
     "data": {
      "text/plain": [
       "6-element Array{Int64,1}:\n",
       " 2223\n",
       " 2232\n",
       " 2321\n",
       " 3213\n",
       " 2133\n",
       " 1333"
      ]
     },
     "execution_count": 43,
     "metadata": {},
     "output_type": "execute_result"
    }
   ],
   "source": [
    "NGramIterator([3,2,1] |> collect, 4, 10) |> collect"
   ]
  },
  {
   "cell_type": "code",
   "execution_count": 44,
   "metadata": {},
   "outputs": [
    {
     "data": {
      "text/plain": [
       "0"
      ]
     },
     "execution_count": 44,
     "metadata": {},
     "output_type": "execute_result"
    }
   ],
   "source": [
    "Mill.string_start_code!(0)"
   ]
  },
  {
   "cell_type": "code",
   "execution_count": 45,
   "metadata": {},
   "outputs": [
    {
     "data": {
      "text/plain": [
       "0"
      ]
     },
     "execution_count": 45,
     "metadata": {},
     "output_type": "execute_result"
    }
   ],
   "source": [
    "Mill.string_start_code!(0)"
   ]
  },
  {
   "cell_type": "code",
   "execution_count": 46,
   "metadata": {},
   "outputs": [
    {
     "data": {
      "text/plain": [
       "6-element Array{Int64,1}:\n",
       "    3\n",
       "   32\n",
       "  321\n",
       " 3213\n",
       " 2133\n",
       " 1333"
      ]
     },
     "execution_count": 46,
     "metadata": {},
     "output_type": "execute_result"
    }
   ],
   "source": [
    "NGramIterator([3,2,1] |> collect, 4, 10) |> collect"
   ]
  },
  {
   "cell_type": "code",
   "execution_count": 47,
   "metadata": {},
   "outputs": [
    {
     "data": {
      "text/plain": [
       "2053×2 NGramMatrix{String,Array{String,1},Int64}:\n",
       " \"hello\"\n",
       " \"world\""
      ]
     },
     "execution_count": 47,
     "metadata": {},
     "output_type": "execute_result"
    }
   ],
   "source": [
    "Y1 = NGramMatrix([\"hello\", \"world\"])"
   ]
  },
  {
   "cell_type": "code",
   "execution_count": 48,
   "metadata": {},
   "outputs": [
    {
     "data": {
      "text/plain": [
       "2053×2 SparseMatrixCSC{Int64,UInt64} with 14 stored entries:\n",
       "  [37  , 1]  =  1\n",
       "  [105 , 1]  =  1\n",
       "  [215 , 1]  =  1\n",
       "  [875 , 1]  =  1\n",
       "  [1113, 1]  =  1\n",
       "  [1332, 1]  =  1\n",
       "  [1489, 1]  =  1\n",
       "  [112 , 2]  =  1\n",
       "  [120 , 2]  =  1\n",
       "  [1196, 2]  =  1\n",
       "  [1268, 2]  =  1\n",
       "  [1279, 2]  =  1\n",
       "  [1297, 2]  =  1\n",
       "  [1834, 2]  =  1"
      ]
     },
     "execution_count": 48,
     "metadata": {},
     "output_type": "execute_result"
    }
   ],
   "source": [
    "Y1S = SparseMatrixCSC(Y1)"
   ]
  },
  {
   "cell_type": "code",
   "execution_count": 49,
   "metadata": {},
   "outputs": [
    {
     "data": {
      "text/plain": [
       "10×2 Array{Float64,2}:\n",
       " 3.2715   3.765\n",
       " 3.22379  3.8776\n",
       " 3.76015  4.09328\n",
       " 4.72192  4.28454\n",
       " 3.15434  4.24327\n",
       " 2.16216  3.91107\n",
       " 3.01392  3.63304\n",
       " 3.12473  5.00734\n",
       " 3.77835  2.14699\n",
       " 3.54556  3.38773"
      ]
     },
     "execution_count": 49,
     "metadata": {},
     "output_type": "execute_result"
    }
   ],
   "source": [
    "A1 = rand(10, 2053);\n",
    "A1 * Y1"
   ]
  },
  {
   "cell_type": "code",
   "execution_count": 50,
   "metadata": {},
   "outputs": [
    {
     "data": {
      "text/plain": [
       "([0.0 0.0 … 0.0 0.0; 0.0 0.0 … 0.0 0.0; … ; 0.0 0.0 … 0.0 0.0; 0.0 0.0 … 0.0 0.0], nothing)"
      ]
     },
     "execution_count": 50,
     "metadata": {},
     "output_type": "execute_result"
    }
   ],
   "source": [
    "gradient((x, y) -> x * y |> sum, A1, Y1)"
   ]
  },
  {
   "cell_type": "code",
   "execution_count": 51,
   "metadata": {},
   "outputs": [
    {
     "data": {
      "text/plain": [
       "2053×2 NGramMatrix{Missing,Array{Missing,1},Missing}:\n",
       " missing\n",
       " missing"
      ]
     },
     "execution_count": 51,
     "metadata": {},
     "output_type": "execute_result"
    }
   ],
   "source": [
    "Y2 = NGramMatrix([missing, missing])\n",
    "Y2::AbstractMatrix{Missing}"
   ]
  },
  {
   "cell_type": "code",
   "execution_count": 52,
   "metadata": {},
   "outputs": [
    {
     "data": {
      "text/plain": [
       "2053×2 NGramMatrix{Array{Int64,1},Array{Array{Int64,1},1},Int64}:\n",
       " [1, 2, 3]\n",
       " [4, 5, 6]"
      ]
     },
     "execution_count": 52,
     "metadata": {},
     "output_type": "execute_result"
    }
   ],
   "source": [
    "Y3 = NGramMatrix([[1,2,3], [4,5,6]])\n",
    "Y3::AbstractMatrix{Int}"
   ]
  },
  {
   "cell_type": "code",
   "execution_count": 53,
   "metadata": {},
   "outputs": [
    {
     "data": {
      "text/plain": [
       "2053×2 NGramMatrix{Union{Missing, String},Array{Union{Missing, String},1},Union{Missing, Int64}}:\n",
       " missing\n",
       " \"a\""
      ]
     },
     "execution_count": 53,
     "metadata": {},
     "output_type": "execute_result"
    }
   ],
   "source": [
    "Y4 = NGramMatrix([missing, \"a\"])\n",
    "Y4::AbstractMatrix{Union{Missing,Int}}"
   ]
  },
  {
   "cell_type": "code",
   "execution_count": 54,
   "metadata": {},
   "outputs": [
    {
     "data": {
      "text/plain": [
       "Union{AbstractString, Base.CodeUnits, AbstractArray{var\"#s49\",1} where var\"#s49\"<:Integer}"
      ]
     },
     "execution_count": 54,
     "metadata": {},
     "output_type": "execute_result"
    }
   ],
   "source": [
    "Mill.Sequence"
   ]
  },
  {
   "cell_type": "code",
   "execution_count": 55,
   "metadata": {},
   "outputs": [
    {
     "data": {
      "text/plain": [
       "10×2053 PostImputingMatrix{Float64,Array{Float64,1},Array{Float64,2}}:\n",
       "W:\n",
       " 0.275559  0.847974  0.680983  0.135222    …  0.43406   0.422469   0.790355\n",
       " 0.651621  0.313179  0.893847  0.738713       0.401743  0.682378   0.981197\n",
       " 0.480651  0.237514  0.151058  0.938627       0.975828  0.0581015  0.196094\n",
       " 0.124064  0.738416  0.774745  0.00208435     0.944144  0.991936   0.812399\n",
       " 0.175429  0.410782  0.539103  0.816444       0.967007  0.983326   0.499664\n",
       " 0.377245  0.721285  0.712769  0.831653    …  0.278597  0.0104127  0.198687\n",
       " 0.908712  0.886308  0.695659  0.545085       0.930218  0.672024   0.00756091\n",
       " 0.421417  0.347583  0.283536  0.688452       0.692411  0.511136   0.981275\n",
       " 0.984789  0.651495  0.817573  0.214749       0.780617  0.904818   0.166428\n",
       " 0.266691  0.412021  0.596556  0.187815       0.503121  0.97108    0.0416748\n",
       "\n",
       "ψ:\n",
       " 0.0\n",
       " 0.0\n",
       " 0.0\n",
       " 0.0\n",
       " 0.0\n",
       " 0.0\n",
       " 0.0\n",
       " 0.0\n",
       " 0.0\n",
       " 0.0"
      ]
     },
     "execution_count": 55,
     "metadata": {},
     "output_type": "execute_result"
    }
   ],
   "source": [
    "A2 = PostImputingMatrix(A1)"
   ]
  },
  {
   "cell_type": "code",
   "execution_count": 56,
   "metadata": {},
   "outputs": [
    {
     "data": {
      "text/plain": [
       "((W = [0.0 0.0 … 0.0 0.0; 0.0 0.0 … 0.0 0.0; … ; 0.0 0.0 … 0.0 0.0; 0.0 0.0 … 0.0 0.0], ψ = nothing), nothing)"
      ]
     },
     "execution_count": 56,
     "metadata": {},
     "output_type": "execute_result"
    }
   ],
   "source": [
    "gradient((x, y) -> x * y |> sum, A2, Y1)"
   ]
  },
  {
   "cell_type": "code",
   "execution_count": 57,
   "metadata": {},
   "outputs": [
    {
     "data": {
      "text/plain": [
       "((W = nothing, ψ = [2.0, 2.0, 2.0, 2.0, 2.0, 2.0, 2.0, 2.0, 2.0, 2.0]), nothing)"
      ]
     },
     "execution_count": 57,
     "metadata": {},
     "output_type": "execute_result"
    }
   ],
   "source": [
    "gradient((x, y) -> x * y |> sum, A2, Y2)"
   ]
  },
  {
   "cell_type": "code",
   "execution_count": 58,
   "metadata": {},
   "outputs": [
    {
     "data": {
      "text/plain": [
       "((W = [0.0 1.0 … 0.0 0.0; 0.0 1.0 … 0.0 0.0; … ; 0.0 1.0 … 0.0 0.0; 0.0 1.0 … 0.0 0.0], ψ = nothing), nothing)"
      ]
     },
     "execution_count": 58,
     "metadata": {},
     "output_type": "execute_result"
    }
   ],
   "source": [
    "gradient((x, y) -> x * y |> sum, A2, Y3)"
   ]
  },
  {
   "cell_type": "code",
   "execution_count": 59,
   "metadata": {},
   "outputs": [
    {
     "data": {
      "text/plain": [
       "((W = [0.0 0.0 … 0.0 0.0; 0.0 0.0 … 0.0 0.0; … ; 0.0 0.0 … 0.0 0.0; 0.0 0.0 … 0.0 0.0], ψ = [1.0; 1.0; … ; 1.0; 1.0]), nothing)"
      ]
     },
     "execution_count": 59,
     "metadata": {},
     "output_type": "execute_result"
    }
   ],
   "source": [
    "gradient((x, y) -> x * y |> sum, A2, Y4)"
   ]
  },
  {
   "cell_type": "markdown",
   "metadata": {},
   "source": [
    "## Post (column) imputing"
   ]
  },
  {
   "cell_type": "code",
   "execution_count": 60,
   "metadata": {},
   "outputs": [
    {
     "data": {
      "text/plain": [
       "3×3 PostImputingMatrix{Float64,Array{Float64,1},Array{Float64,2}}:\n",
       "W:\n",
       " 0.75634   0.361657  0.956439\n",
       " 0.717659  0.473828  0.322957\n",
       " 0.319839  0.492202  0.227207\n",
       "\n",
       "ψ:\n",
       " 0.0\n",
       " 0.0\n",
       " 0.0"
      ]
     },
     "execution_count": 60,
     "metadata": {},
     "output_type": "execute_result"
    }
   ],
   "source": [
    "A = PostImputingMatrix(rand(3,3))\n",
    "A::AbstractMatrix{Float64}"
   ]
  },
  {
   "cell_type": "code",
   "execution_count": 61,
   "metadata": {},
   "outputs": [
    {
     "data": {
      "text/plain": [
       "3-element Array{Float64,1}:\n",
       " 0.5382592671567383\n",
       " 0.9285620635705398\n",
       " 0.13597963338194807"
      ]
     },
     "execution_count": 61,
     "metadata": {},
     "output_type": "execute_result"
    }
   ],
   "source": [
    "X = rand(3)"
   ]
  },
  {
   "cell_type": "code",
   "execution_count": 62,
   "metadata": {},
   "outputs": [
    {
     "data": {
      "text/plain": [
       "3-element Array{Float64,1}:\n",
       " 0.8729847703587639\n",
       " 0.8701806808777965\n",
       " 0.6600918978775794"
      ]
     },
     "execution_count": 62,
     "metadata": {},
     "output_type": "execute_result"
    }
   ],
   "source": [
    "A * X"
   ]
  },
  {
   "cell_type": "code",
   "execution_count": 63,
   "metadata": {},
   "outputs": [
    {
     "data": {
      "text/plain": [
       "3×3 MaybeHotMatrix{Union{Missing, Int64},Array{Union{Missing, Int64},1},Int64,Union{Missing, Bool}}:\n",
       "  true  missing  false\n",
       " false  missing  false\n",
       " false  missing   true"
      ]
     },
     "execution_count": 63,
     "metadata": {},
     "output_type": "execute_result"
    }
   ],
   "source": [
    "Y = maybehotbatch([1, missing, 3], 1:3)"
   ]
  },
  {
   "cell_type": "code",
   "execution_count": 64,
   "metadata": {},
   "outputs": [
    {
     "data": {
      "text/plain": [
       "3×3 Array{Float64,2}:\n",
       " 0.75634   0.0  0.956439\n",
       " 0.717659  0.0  0.322957\n",
       " 0.319839  0.0  0.227207"
      ]
     },
     "execution_count": 64,
     "metadata": {},
     "output_type": "execute_result"
    }
   ],
   "source": [
    "A * Y"
   ]
  },
  {
   "cell_type": "code",
   "execution_count": 65,
   "metadata": {},
   "outputs": [
    {
     "data": {
      "text/plain": [
       "3-element MaybeHotVector{Int64,Int64,Bool}:\n",
       " 1\n",
       " 0\n",
       " 0"
      ]
     },
     "execution_count": 65,
     "metadata": {},
     "output_type": "execute_result"
    }
   ],
   "source": [
    "Z = maybehot(1, 1:3)"
   ]
  },
  {
   "cell_type": "code",
   "execution_count": 66,
   "metadata": {},
   "outputs": [
    {
     "data": {
      "text/plain": [
       "3-element Array{Float64,1}:\n",
       " 0.7563401344429341\n",
       " 0.7176588882785486\n",
       " 0.3198386050280777"
      ]
     },
     "execution_count": 66,
     "metadata": {},
     "output_type": "execute_result"
    }
   ],
   "source": [
    "A * Z"
   ]
  },
  {
   "cell_type": "code",
   "execution_count": 67,
   "metadata": {},
   "outputs": [
    {
     "data": {
      "text/plain": [
       "((W = [0.5382592671567383 0.9285620635705398 0.13597963338194807; 0.5382592671567383 0.9285620635705398 0.13597963338194807; 0.5382592671567383 0.9285620635705398 0.13597963338194807], ψ = nothing), [1.7938376277495605, 1.327687573778762, 1.5066028920894707])"
      ]
     },
     "execution_count": 67,
     "metadata": {},
     "output_type": "execute_result"
    }
   ],
   "source": [
    "gradient((x, y) -> x * y |> sum, A, X)"
   ]
  },
  {
   "cell_type": "code",
   "execution_count": 68,
   "metadata": {},
   "outputs": [
    {
     "data": {
      "text/plain": [
       "((W = [1.0 0.0 1.0; 1.0 0.0 1.0; 1.0 0.0 1.0], ψ = [1.0; 1.0; 1.0]), nothing)"
      ]
     },
     "execution_count": 68,
     "metadata": {},
     "output_type": "execute_result"
    }
   ],
   "source": [
    "gradient((x, y) -> x * y |> sum, A, Y)"
   ]
  },
  {
   "cell_type": "code",
   "execution_count": 69,
   "metadata": {},
   "outputs": [
    {
     "data": {
      "text/plain": [
       "((W = [1.0 0.0 0.0; 1.0 0.0 0.0; 1.0 0.0 0.0], ψ = nothing), nothing)"
      ]
     },
     "execution_count": 69,
     "metadata": {},
     "output_type": "execute_result"
    }
   ],
   "source": [
    "gradient((x, y) -> x * y |> sum, A, Z)"
   ]
  },
  {
   "cell_type": "markdown",
   "metadata": {},
   "source": [
    "## Reflect in model and integration\n",
    "\n",
    "- better IO for all types and trees\n",
    "- single_key_identity\n",
    "- single_scalar_identity"
   ]
  },
  {
   "cell_type": "code",
   "execution_count": 70,
   "metadata": {},
   "outputs": [
    {
     "data": {
      "text/plain": [
       "PreImputingDense(5, 5)"
      ]
     },
     "execution_count": 70,
     "metadata": {},
     "output_type": "execute_result"
    }
   ],
   "source": [
    "m = preimputing_dense(5, 5)"
   ]
  },
  {
   "cell_type": "code",
   "execution_count": 71,
   "metadata": {},
   "outputs": [
    {
     "data": {
      "text/plain": [
       "Dense{typeof(identity),PreImputingMatrix{Float32,Array{Float32,1},Array{Float32,2}},Array{Float32,1}}"
      ]
     },
     "execution_count": 71,
     "metadata": {},
     "output_type": "execute_result"
    }
   ],
   "source": [
    "typeof(m)"
   ]
  },
  {
   "cell_type": "code",
   "execution_count": 72,
   "metadata": {},
   "outputs": [
    {
     "data": {
      "text/plain": [
       "5×5 PreImputingMatrix{Float32,Array{Float32,1},Array{Float32,2}}:\n",
       "W:\n",
       " -0.0205994  -0.272904    0.303568   -0.753332   0.00729682\n",
       "  0.689609   -0.1689     -0.697259    0.450062   0.215844\n",
       " -0.598527    0.482865    0.0522939   0.37539    0.287853\n",
       "  0.19854    -0.581905    0.397906   -0.198554   0.521882\n",
       "  0.698969    0.0742277   0.0909097   0.226935  -0.326836\n",
       "\n",
       "ψ:\n",
       " 0.0  0.0  0.0  0.0  0.0"
      ]
     },
     "execution_count": 72,
     "metadata": {},
     "output_type": "execute_result"
    }
   ],
   "source": [
    "m.W"
   ]
  },
  {
   "cell_type": "code",
   "execution_count": 73,
   "metadata": {},
   "outputs": [
    {
     "data": {
      "text/plain": [
       "5-element Array{Float32,1}:\n",
       " 0.0\n",
       " 0.0\n",
       " 0.0\n",
       " 0.0\n",
       " 0.0"
      ]
     },
     "execution_count": 73,
     "metadata": {},
     "output_type": "execute_result"
    }
   ],
   "source": [
    "m.b"
   ]
  },
  {
   "cell_type": "code",
   "execution_count": 74,
   "metadata": {},
   "outputs": [
    {
     "data": {
      "text/plain": [
       "identity (generic function with 1 method)"
      ]
     },
     "execution_count": 74,
     "metadata": {},
     "output_type": "execute_result"
    }
   ],
   "source": [
    "m.σ"
   ]
  },
  {
   "cell_type": "code",
   "execution_count": 75,
   "metadata": {},
   "outputs": [
    {
     "data": {
      "text/plain": [
       "PostImputingDense(5, 5)"
      ]
     },
     "execution_count": 75,
     "metadata": {},
     "output_type": "execute_result"
    }
   ],
   "source": [
    "m = postimputing_dense(5, 5)"
   ]
  },
  {
   "cell_type": "code",
   "execution_count": 76,
   "metadata": {},
   "outputs": [
    {
     "data": {
      "text/plain": [
       "Dense{typeof(identity),PostImputingMatrix{Float32,Array{Float32,1},Array{Float32,2}},Array{Float32,1}}"
      ]
     },
     "execution_count": 76,
     "metadata": {},
     "output_type": "execute_result"
    }
   ],
   "source": [
    "typeof(m)"
   ]
  },
  {
   "cell_type": "code",
   "execution_count": 77,
   "metadata": {},
   "outputs": [
    {
     "data": {
      "text/plain": [
       "5×5 PostImputingMatrix{Float32,Array{Float32,1},Array{Float32,2}}:\n",
       "W:\n",
       " -0.00401047   0.149707   0.0387411  -0.743909    0.152047\n",
       " -0.330687     0.583643  -0.364024    0.711583   -0.578534\n",
       " -0.283126    -0.278242   0.0743308  -0.423035   -0.318288\n",
       "  0.327039    -0.202112  -0.636051   -0.566097   -0.144081\n",
       " -0.228226     0.102411   0.11788    -0.0553263   0.63839\n",
       "\n",
       "ψ:\n",
       " 0.0\n",
       " 0.0\n",
       " 0.0\n",
       " 0.0\n",
       " 0.0"
      ]
     },
     "execution_count": 77,
     "metadata": {},
     "output_type": "execute_result"
    }
   ],
   "source": [
    "m.W"
   ]
  },
  {
   "cell_type": "code",
   "execution_count": 78,
   "metadata": {},
   "outputs": [
    {
     "data": {
      "text/plain": [
       "5-element Array{Float32,1}:\n",
       " 0.0\n",
       " 0.0\n",
       " 0.0\n",
       " 0.0\n",
       " 0.0"
      ]
     },
     "execution_count": 78,
     "metadata": {},
     "output_type": "execute_result"
    }
   ],
   "source": [
    "m.b"
   ]
  },
  {
   "cell_type": "code",
   "execution_count": 79,
   "metadata": {},
   "outputs": [
    {
     "data": {
      "text/plain": [
       "identity (generic function with 1 method)"
      ]
     },
     "execution_count": 79,
     "metadata": {},
     "output_type": "execute_result"
    }
   ],
   "source": [
    "m.σ"
   ]
  },
  {
   "cell_type": "code",
   "execution_count": 80,
   "metadata": {},
   "outputs": [
    {
     "name": "stdout",
     "output_type": "stream",
     "text": [
      "\u001b[34mProductNode with 4 obs\u001b[39m\n",
      "\u001b[34m  ├── a: \u001b[39m\u001b[31mProductNode with 4 obs\u001b[39m\n",
      "\u001b[34m  │      \u001b[39m\u001b[31m  └── aa: \u001b[39m\u001b[32mBagNode with 4 obs\u001b[39m\n",
      "\u001b[34m  │      \u001b[39m\u001b[31m          \u001b[39m\u001b[32m  └── \u001b[39m\u001b[39mArrayNode(1×10 Array, Union{Missing, Int64}) with 10 obs\n",
      "\u001b[34m  ├── b: \u001b[39m\u001b[31mProductNode with 4 obs\u001b[39m\n",
      "\u001b[34m  │      \u001b[39m\u001b[31m  ├── ba: \u001b[39m\u001b[39mArrayNode(2053×4 NGramMatrix, Union{Missing, Int64}) with 4 obs\n",
      "\u001b[34m  │      \u001b[39m\u001b[31m  └── bb: \u001b[39m\u001b[39mArrayNode(2053×4 NGramMatrix, Int64) with 4 obs\n",
      "\u001b[34m  └── c: \u001b[39m\u001b[31mProductNode with 4 obs\u001b[39m\n",
      "\u001b[34m         \u001b[39m\u001b[31m  ├── ca: \u001b[39m\u001b[39mArrayNode(10×4 MaybeHotMatrix, Union{Missing, Bool}) with 4 obs\n",
      "\u001b[34m         \u001b[39m\u001b[31m  └── cb: \u001b[39m\u001b[39mArrayNode(10×4 MaybeHotMatrix, Bool) with 4 obs"
     ]
    }
   ],
   "source": [
    "x1 = reshape([i%3 == 0 ? missing : i for i in 1:10], 1, 10) |> collect\n",
    "aa = BagNode(ArrayNode(x1), bags([1:2, 3:7, 0:-1, 8:10]))\n",
    "a = ProductNode((; aa))\n",
    "\n",
    "ba = ArrayNode(NGramMatrix([\"a\", missing, missing, \"b\"]))\n",
    "bb = ArrayNode(NGramMatrix([[1,2], [3,4], [5], [6, 7, 8]]))\n",
    "b = ProductNode((; ba, bb))\n",
    "\n",
    "ca = ArrayNode(maybehotbatch([1,missing,9,missing], 1:10))\n",
    "cb = ArrayNode(maybehotbatch([1,2,3,4], 1:10))\n",
    "c = ProductNode((; ca, cb))\n",
    "\n",
    "ds = ProductNode((; a, b, c))\n",
    "printtree(ds)"
   ]
  },
  {
   "cell_type": "code",
   "execution_count": 81,
   "metadata": {},
   "outputs": [
    {
     "name": "stdout",
     "output_type": "stream",
     "text": [
      "\u001b[34mProductModel … ↦ ArrayModel(Dense(21, 10)) [\"\"]\u001b[39m\n",
      "\u001b[34m  ├── a: \u001b[39m\u001b[31mProductModel … ↦ ArrayModel(identity) [\"E\"]\u001b[39m\n",
      "\u001b[34m  │      \u001b[39m\u001b[31m  └── aa: \u001b[39m\u001b[32mBagModel … ↦ ⟨SegmentedMean(1)⟩ ↦ ArrayModel(identity) [\"M\"]\u001b[39m\n",
      "\u001b[34m  │      \u001b[39m\u001b[31m          \u001b[39m\u001b[32m  └── \u001b[39m\u001b[39mArrayModel(PreImputingDense(1, 1)) [\"Q\"]\n",
      "\u001b[34m  ├── b: \u001b[39m\u001b[31mProductModel … ↦ ArrayModel(Dense(20, 10)) [\"U\"]\u001b[39m\n",
      "\u001b[34m  │      \u001b[39m\u001b[31m  ├── ba: \u001b[39m\u001b[39mArrayModel(PostImputingDense(2053, 10)) [\"Y\"]\n",
      "\u001b[34m  │      \u001b[39m\u001b[31m  └── bb: \u001b[39m\u001b[39mArrayModel(Dense(2053, 10)) [\"c\"]\n",
      "\u001b[34m  └── c: \u001b[39m\u001b[31mProductModel … ↦ ArrayModel(Dense(20, 10)) [\"k\"]\u001b[39m\n",
      "\u001b[34m         \u001b[39m\u001b[31m  ├── ca: \u001b[39m\u001b[39mArrayModel(PostImputingDense(10, 10)) [\"o\"]\n",
      "\u001b[34m         \u001b[39m\u001b[31m  └── cb: \u001b[39m\u001b[39mArrayModel(Dense(10, 10)) [\"s\"]"
     ]
    }
   ],
   "source": [
    "m = reflectinmodel(ds)\n",
    "printtree(m; trav=true)"
   ]
  },
  {
   "cell_type": "code",
   "execution_count": 82,
   "metadata": {},
   "outputs": [
    {
     "data": {
      "text/plain": [
       "\u001b[39mArrayModel(identity)"
      ]
     },
     "execution_count": 82,
     "metadata": {},
     "output_type": "execute_result"
    }
   ],
   "source": [
    "m[\"E\"].m"
   ]
  },
  {
   "cell_type": "code",
   "execution_count": 83,
   "metadata": {},
   "outputs": [
    {
     "data": {
      "text/plain": [
       "1×1 PreImputingMatrix{Float32,Array{Float32,1},Array{Float32,2}}:\n",
       "W:\n",
       " 1.0\n",
       "\n",
       "ψ:\n",
       " 0.0"
      ]
     },
     "execution_count": 83,
     "metadata": {},
     "output_type": "execute_result"
    }
   ],
   "source": [
    "m[\"Q\"].m.W"
   ]
  },
  {
   "cell_type": "code",
   "execution_count": 84,
   "metadata": {},
   "outputs": [
    {
     "name": "stdout",
     "output_type": "stream",
     "text": [
      "\u001b[34mProductModel … ↦ ArrayModel(Dense(30, 10))\u001b[39m\n",
      "\u001b[34m  ├── a: \u001b[39m\u001b[31mProductModel … ↦ ArrayModel(Dense(10, 10))\u001b[39m\n",
      "\u001b[34m  │      \u001b[39m\u001b[31m  └── aa: \u001b[39m\u001b[32mBagModel … ↦ ⟨SegmentedMean(10)⟩ ↦ ArrayModel(Dense(10, 10))\u001b[39m\n",
      "\u001b[34m  │      \u001b[39m\u001b[31m          \u001b[39m\u001b[32m  └── \u001b[39m\u001b[39mArrayModel(PreImputingDense(1, 10))\n",
      "\u001b[34m  ├── b: \u001b[39m\u001b[31mProductModel … ↦ ArrayModel(Dense(20, 10))\u001b[39m\n",
      "\u001b[34m  │      \u001b[39m\u001b[31m  ├── ba: \u001b[39m\u001b[39mArrayModel(PostImputingDense(2053, 10))\n",
      "\u001b[34m  │      \u001b[39m\u001b[31m  └── bb: \u001b[39m\u001b[39mArrayModel(Dense(2053, 10))\n",
      "\u001b[34m  └── c: \u001b[39m\u001b[31mProductModel … ↦ ArrayModel(Dense(20, 10))\u001b[39m\n",
      "\u001b[34m         \u001b[39m\u001b[31m  ├── ca: \u001b[39m\u001b[39mArrayModel(PostImputingDense(10, 10))\n",
      "\u001b[34m         \u001b[39m\u001b[31m  └── cb: \u001b[39m\u001b[39mArrayModel(Dense(10, 10))"
     ]
    }
   ],
   "source": [
    "m = reflectinmodel(ds; single_key_identity=false, single_scalar_identity=false)\n",
    "printtree(m)"
   ]
  },
  {
   "cell_type": "code",
   "execution_count": 85,
   "metadata": {},
   "outputs": [
    {
     "data": {
      "text/plain": [
       "10×4 ArrayNode{Array{Float32,2},Nothing}:\n",
       " -0.3317468    -0.5125708      0.16964775   -1.4313884\n",
       "  0.263836      0.98139167    -0.6077279     2.1506412\n",
       "  0.72772545    1.5863311      0.7082397     2.9281526\n",
       "  0.112154655  -0.0032429546   0.39403498    0.18122023\n",
       " -0.25328735   -0.89813316    -0.052873097  -2.1488771\n",
       "  0.9207657     1.0648692     -0.35964847    1.8690777\n",
       "  0.1215893     0.11113492    -0.5825505     0.12865126\n",
       " -0.25538045   -1.1753664     -0.15263507   -2.0088832\n",
       "  0.742897      0.7013071      0.040981848   1.5228921\n",
       " -0.30997258   -0.39253962    -0.46471187   -0.63144016"
      ]
     },
     "execution_count": 85,
     "metadata": {},
     "output_type": "execute_result"
    }
   ],
   "source": [
    "m(ds)"
   ]
  },
  {
   "cell_type": "code",
   "execution_count": null,
   "metadata": {},
   "outputs": [],
   "source": [
    "g = gradient(m -> sum(m(ds).data), m)"
   ]
  },
  {
   "cell_type": "markdown",
   "metadata": {},
   "source": [
    "## Lens utilities\n",
    "- ModelLens\n",
    "- findnonempty\n",
    "- findin\n",
    "- replacein"
   ]
  },
  {
   "cell_type": "code",
   "execution_count": null,
   "metadata": {},
   "outputs": [],
   "source": [
    "printtree(ds; trav=true)"
   ]
  },
  {
   "cell_type": "code",
   "execution_count": null,
   "metadata": {},
   "outputs": [],
   "source": [
    "printtree(m; trav=true)"
   ]
  },
  {
   "cell_type": "code",
   "execution_count": null,
   "metadata": {},
   "outputs": [],
   "source": [
    "lens = findnonempty(ds)"
   ]
  },
  {
   "cell_type": "code",
   "execution_count": null,
   "metadata": {},
   "outputs": [],
   "source": [
    "[ModelLens(m, l) for l in lens]"
   ]
  },
  {
   "cell_type": "code",
   "execution_count": null,
   "metadata": {},
   "outputs": [],
   "source": [
    "n = ArrayNode(rand(1, 10))\n",
    "ds2 = replacein(ds, ds[\"Q\"], n)\n",
    "printtree(ds2)"
   ]
  },
  {
   "cell_type": "code",
   "execution_count": null,
   "metadata": {},
   "outputs": [],
   "source": [
    "findin(ds, n)"
   ]
  },
  {
   "cell_type": "code",
   "execution_count": null,
   "metadata": {},
   "outputs": [],
   "source": [
    "findin(ds2, n)"
   ]
  },
  {
   "cell_type": "markdown",
   "metadata": {},
   "source": [
    "## Error checks"
   ]
  },
  {
   "cell_type": "code",
   "execution_count": null,
   "metadata": {},
   "outputs": [],
   "source": [
    "vcat(PreImputingMatrix(rand(2,2)),\n",
    "     PreImputingMatrix(rand(2,2))\n",
    ")"
   ]
  },
  {
   "cell_type": "code",
   "execution_count": null,
   "metadata": {},
   "outputs": [],
   "source": [
    "hcat(PostImputingMatrix(rand(2,2)),\n",
    "     PostImputingMatrix(rand(2,2))\n",
    ")"
   ]
  },
  {
   "cell_type": "code",
   "execution_count": null,
   "metadata": {},
   "outputs": [],
   "source": [
    "PreImputingMatrix(rand(2,2)) * rand(3,3)"
   ]
  },
  {
   "cell_type": "code",
   "execution_count": null,
   "metadata": {},
   "outputs": [],
   "source": [
    "PostImputingMatrix(rand(2,2)) * maybehot(1, 1:4)"
   ]
  },
  {
   "cell_type": "code",
   "execution_count": null,
   "metadata": {},
   "outputs": [],
   "source": [
    "maybehot(1, 1:4)[5]"
   ]
  },
  {
   "cell_type": "code",
   "execution_count": null,
   "metadata": {},
   "outputs": [],
   "source": [
    "NGramMatrix([\"a\", \"b\"])[:, 3]"
   ]
  },
  {
   "cell_type": "markdown",
   "metadata": {},
   "source": [
    "## Other changes\n",
    "\n",
    "- renamed default params everywhere to `ψ` for consistency\n",
    "- `terseprint` is gone and will be available from a standalone package\n",
    "- `!` versions of functions for global flags\n",
    "- `ChainRulesCore.rrule` instead of `Zygote.@adjoint` where possible\n",
    "- `Nothing{T}` and `Maybe{T}` union types\n",
    "- `ImputingMatrix`, `Sequence`\n",
    "- `IdentityModel` changed to `ArrayMode{::typeof(identity)}`\n",
    "- `3x` more tests than before\n",
    "- more efficient aggregation operators\n",
    "- at least `julia-1.5` required from now on\n",
    "- `nobs` from `LearnBase` gone and replaced by `StatsBase` version\n",
    "- `Macrotools` as a dependency used from `Flux`\n",
    "- `NGramIterator` now works with starting and ending characters\n",
    "- `MillString` prototyped\n",
    "- reworked and simplified gradient checking tests"
   ]
  }
 ],
 "metadata": {
  "kernelspec": {
   "display_name": "Julia 1.5.3",
   "language": "julia",
   "name": "julia-1.5"
  },
  "language_info": {
   "file_extension": ".jl",
   "mimetype": "application/julia",
   "name": "julia",
   "version": "1.5.3"
  }
 },
 "nbformat": 4,
 "nbformat_minor": 4
}

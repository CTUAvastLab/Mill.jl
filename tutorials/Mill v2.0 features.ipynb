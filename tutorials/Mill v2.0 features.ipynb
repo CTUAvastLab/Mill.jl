{
 "cells": [
  {
   "cell_type": "markdown",
   "metadata": {},
   "source": [
    "# Mill v2.0 features"
   ]
  },
  {
   "cell_type": "code",
   "execution_count": 1,
   "metadata": {},
   "outputs": [
    {
     "name": "stderr",
     "output_type": "stream",
     "text": [
      "┌ Info: Precompiling Mill [1d0525e4-8992-11e8-313c-e310e1f6ddea]\n",
      "└ @ Base loading.jl:1278\n",
      "┌ Info: Precompiling JLD2 [033835bb-8acc-5ee8-8aae-3f567f8a3819]\n",
      "└ @ Base loading.jl:1278\n"
     ]
    }
   ],
   "source": [
    "using Mill, Flux, FileIO, JLD2, SparseArrays, BenchmarkTools, Setfield"
   ]
  },
  {
   "cell_type": "markdown",
   "metadata": {},
   "source": [
    "## Bag count\n",
    "\n",
    "- `AggregationFunction` changed to `AggregationOperator` for clarity and are not meant to be used by the user.\n",
    "- Reduced number of exported `Segmented*` methods\n",
    "- `Segmented*` calls now return `Aggregation` type even for aggregations using only one operator.\n",
    "- All `Aggregation{T}` types now append `log(length(bag) + one(T))` unless a global flag is not set\n",
    "- slightly more strict type checking\n",
    "- `Aggregation` is now flattened upon construction\n",
    "- smart `vcat` implemented"
   ]
  },
  {
   "cell_type": "code",
   "execution_count": 2,
   "metadata": {},
   "outputs": [
    {
     "data": {
      "text/plain": [
       "Aggregation{Float32,2}:\n",
       " SegmentedMean(ψ = Float32[0.0, 0.0, 0.0])\n",
       " SegmentedMax(ψ = Float32[0.0, 0.0, 0.0])"
      ]
     },
     "execution_count": 2,
     "metadata": {},
     "output_type": "execute_result"
    }
   ],
   "source": [
    "a = SegmentedMeanMax(3)"
   ]
  },
  {
   "cell_type": "code",
   "execution_count": 3,
   "metadata": {},
   "outputs": [
    {
     "data": {
      "text/plain": [
       "Aggregation{Float32,1}"
      ]
     },
     "execution_count": 3,
     "metadata": {},
     "output_type": "execute_result"
    }
   ],
   "source": [
    "SegmentedMean(3) |> typeof"
   ]
  },
  {
   "cell_type": "code",
   "execution_count": 4,
   "metadata": {},
   "outputs": [
    {
     "data": {
      "text/plain": [
       "SegmentedMean{Float64,Array{Float64,1}}"
      ]
     },
     "execution_count": 4,
     "metadata": {},
     "output_type": "execute_result"
    }
   ],
   "source": [
    "SegmentedMean(zeros(3)) |> typeof"
   ]
  },
  {
   "cell_type": "code",
   "execution_count": 5,
   "metadata": {},
   "outputs": [
    {
     "data": {
      "text/plain": [
       "3×3 Array{Float32,2}:\n",
       " 1.0  4.0  7.0\n",
       " 2.0  5.0  8.0\n",
       " 3.0  6.0  9.0"
      ]
     },
     "execution_count": 5,
     "metadata": {},
     "output_type": "execute_result"
    }
   ],
   "source": [
    "x = reshape(1:9, 3, 3) |> f32"
   ]
  },
  {
   "cell_type": "code",
   "execution_count": 6,
   "metadata": {},
   "outputs": [
    {
     "data": {
      "text/plain": [
       "7×2 Array{Float32,2}:\n",
       " 2.5      7.0\n",
       " 3.5      8.0\n",
       " 4.5      9.0\n",
       " 4.0      7.0\n",
       " 5.0      8.0\n",
       " 6.0      9.0\n",
       " 1.09861  0.693147"
      ]
     },
     "execution_count": 6,
     "metadata": {},
     "output_type": "execute_result"
    }
   ],
   "source": [
    "a(x, Mill.bags([1:2, 3:3]))"
   ]
  },
  {
   "cell_type": "code",
   "execution_count": 7,
   "metadata": {},
   "outputs": [
    {
     "data": {
      "text/plain": [
       "7×2 Array{Float32,2}:\n",
       " 2.5      0.0\n",
       " 3.5      0.0\n",
       " 4.5      0.0\n",
       " 4.0      0.0\n",
       " 5.0      0.0\n",
       " 6.0      0.0\n",
       " 1.09861  0.0"
      ]
     },
     "execution_count": 7,
     "metadata": {},
     "output_type": "execute_result"
    }
   ],
   "source": [
    "a(x[:, 1:2], Mill.bags([1:2, 0:-1]))"
   ]
  },
  {
   "cell_type": "code",
   "execution_count": 8,
   "metadata": {},
   "outputs": [
    {
     "data": {
      "text/plain": [
       "true"
      ]
     },
     "execution_count": 8,
     "metadata": {},
     "output_type": "execute_result"
    }
   ],
   "source": [
    "Mill.bagcount()"
   ]
  },
  {
   "cell_type": "code",
   "execution_count": 9,
   "metadata": {},
   "outputs": [
    {
     "data": {
      "text/plain": [
       "false"
      ]
     },
     "execution_count": 9,
     "metadata": {},
     "output_type": "execute_result"
    }
   ],
   "source": [
    "Mill.bagcount!(false)\n",
    "Mill.bagcount()"
   ]
  },
  {
   "cell_type": "code",
   "execution_count": 10,
   "metadata": {},
   "outputs": [
    {
     "data": {
      "text/plain": [
       "6×2 Array{Float32,2}:\n",
       " 2.5  7.0\n",
       " 3.5  8.0\n",
       " 4.5  9.0\n",
       " 4.0  7.0\n",
       " 5.0  8.0\n",
       " 6.0  9.0"
      ]
     },
     "execution_count": 10,
     "metadata": {},
     "output_type": "execute_result"
    }
   ],
   "source": [
    "a(x, Mill.bags([1:2, 3:3]))"
   ]
  },
  {
   "cell_type": "code",
   "execution_count": 11,
   "metadata": {},
   "outputs": [
    {
     "data": {
      "text/plain": [
       "Aggregation{Float32,4}:\n",
       " SegmentedPNorm(ψ = Float32[0.257819, 0.870431, 0.31768], ρ = Float32[0.313808, -0.555411, -0.26048], c = Float32[0.0, 0.0, 0.0])\n",
       " SegmentedLSE(ψ = Float32[0.121926, 0.597329, -0.961717], ρ = Float32[0.0, 0.0, 0.0])\n",
       " SegmentedMean(ψ = Float32[0.0, 0.0, 0.0])\n",
       " SegmentedMax(ψ = Float32[0.0, 0.0, 0.0])"
      ]
     },
     "execution_count": 11,
     "metadata": {},
     "output_type": "execute_result"
    }
   ],
   "source": [
    "a = Aggregation(SegmentedPNormLSE(3), Aggregation(SegmentedMean(3)), SegmentedMax(3))"
   ]
  },
  {
   "cell_type": "code",
   "execution_count": 12,
   "metadata": {},
   "outputs": [
    {
     "data": {
      "text/plain": [
       "Aggregation{Float32,3}:\n",
       " SegmentedMean(ψ = Float32[0.0, 0.0])\n",
       " SegmentedMean(ψ = Float32[0.0, 0.0])\n",
       " SegmentedMax(ψ = Float32[0.0, 0.0])"
      ]
     },
     "execution_count": 12,
     "metadata": {},
     "output_type": "execute_result"
    }
   ],
   "source": [
    "vcat(SegmentedMean(2), SegmentedMeanMax(2))"
   ]
  },
  {
   "cell_type": "markdown",
   "metadata": {},
   "source": [
    "## Pre (row) imputing"
   ]
  },
  {
   "cell_type": "code",
   "execution_count": 13,
   "metadata": {},
   "outputs": [
    {
     "data": {
      "text/plain": [
       "3×3 PreImputingMatrix{Float64,Array{Float64,1},Array{Float64,2}}:\n",
       "W:\n",
       " 0.837137   0.122103  0.90182\n",
       " 0.0409905  0.469328  0.123207\n",
       " 0.0387109  0.178327  0.833356\n",
       "\n",
       "ψ:\n",
       " 0.0  0.0  0.0"
      ]
     },
     "execution_count": 13,
     "metadata": {},
     "output_type": "execute_result"
    }
   ],
   "source": [
    "A = PreImputingMatrix(rand(3,3))\n",
    "A::AbstractMatrix{Float64}"
   ]
  },
  {
   "cell_type": "code",
   "execution_count": 14,
   "metadata": {},
   "outputs": [
    {
     "data": {
      "text/plain": [
       "3×6 PreImputingMatrix{Float64,Array{Float64,1},Array{Float64,2}}:\n",
       "W:\n",
       " 0.837137   0.122103  0.90182   0.837137   0.122103  0.90182\n",
       " 0.0409905  0.469328  0.123207  0.0409905  0.469328  0.123207\n",
       " 0.0387109  0.178327  0.833356  0.0387109  0.178327  0.833356\n",
       "\n",
       "ψ:\n",
       " 0.0  0.0  0.0  0.0  0.0  0.0"
      ]
     },
     "execution_count": 14,
     "metadata": {},
     "output_type": "execute_result"
    }
   ],
   "source": [
    "hcat(A, A)"
   ]
  },
  {
   "cell_type": "code",
   "execution_count": 15,
   "metadata": {},
   "outputs": [
    {
     "data": {
      "text/plain": [
       "3×2 Array{Float64,2}:\n",
       " 0.936239  0.545714\n",
       " 0.314886  0.124654\n",
       " 0.492016  0.542917"
      ]
     },
     "execution_count": 15,
     "metadata": {},
     "output_type": "execute_result"
    }
   ],
   "source": [
    "X = rand(3, 2)"
   ]
  },
  {
   "cell_type": "code",
   "execution_count": 16,
   "metadata": {},
   "outputs": [
    {
     "data": {
      "text/plain": [
       "3×2 Array{Float64,2}:\n",
       " 1.26592   0.961671\n",
       " 0.246782  0.147764\n",
       " 0.50242   0.495797"
      ]
     },
     "execution_count": 16,
     "metadata": {},
     "output_type": "execute_result"
    }
   ],
   "source": [
    "A * X"
   ]
  },
  {
   "cell_type": "code",
   "execution_count": 17,
   "metadata": {},
   "outputs": [
    {
     "data": {
      "text/plain": [
       "3×2 Array{Union{Missing, Float64},2}:\n",
       " 1.0        missing\n",
       "  missing  2.0\n",
       " 3.0       4.0"
      ]
     },
     "execution_count": 17,
     "metadata": {},
     "output_type": "execute_result"
    }
   ],
   "source": [
    "Y = [1.0 missing; missing 2.0; 3.0 4.0]"
   ]
  },
  {
   "cell_type": "code",
   "execution_count": 18,
   "metadata": {},
   "outputs": [
    {
     "data": {
      "text/plain": [
       "3×2 Array{Float64,2}:\n",
       " 3.5426    3.85148\n",
       " 0.410611  1.43148\n",
       " 2.53878   3.69008"
      ]
     },
     "execution_count": 18,
     "metadata": {},
     "output_type": "execute_result"
    }
   ],
   "source": [
    "A * Y"
   ]
  },
  {
   "cell_type": "code",
   "execution_count": 19,
   "metadata": {},
   "outputs": [
    {
     "data": {
      "text/plain": [
       "3-element Array{Missing,1}:\n",
       " missing\n",
       " missing\n",
       " missing"
      ]
     },
     "execution_count": 19,
     "metadata": {},
     "output_type": "execute_result"
    }
   ],
   "source": [
    "Z = [missing, missing, missing]"
   ]
  },
  {
   "cell_type": "code",
   "execution_count": 20,
   "metadata": {},
   "outputs": [
    {
     "data": {
      "text/plain": [
       "3-element Array{Float64,1}:\n",
       " 0.0\n",
       " 0.0\n",
       " 0.0"
      ]
     },
     "execution_count": 20,
     "metadata": {},
     "output_type": "execute_result"
    }
   ],
   "source": [
    "A * Z"
   ]
  },
  {
   "cell_type": "code",
   "execution_count": 21,
   "metadata": {},
   "outputs": [
    {
     "data": {
      "text/plain": [
       "((W = [1.4819533162052188 0.43953996253651906 1.0349329737845445; 1.4819533162052188 0.43953996253651906 1.0349329737845445; 1.4819533162052188 0.43953996253651906 1.0349329737845445], ψ = nothing), [0.9168388994682652 0.9168388994682652; 0.76975819065658 0.76975819065658; 1.8583828666042692 1.8583828666042692])"
      ]
     },
     "execution_count": 21,
     "metadata": {},
     "output_type": "execute_result"
    }
   ],
   "source": [
    "gradient((x, y) -> x * y |> sum, A, X)"
   ]
  },
  {
   "cell_type": "code",
   "execution_count": 22,
   "metadata": {},
   "outputs": [
    {
     "data": {
      "text/plain": [
       "((W = [1.0 2.0 7.0; 1.0 2.0 7.0; 1.0 2.0 7.0], ψ = [0.9168388994682652; 0.76975819065658; 0.0]), [0.9168388994682652 0.0; 0.0 0.76975819065658; 1.8583828666042692 1.8583828666042692])"
      ]
     },
     "execution_count": 22,
     "metadata": {},
     "output_type": "execute_result"
    }
   ],
   "source": [
    "gradient((x, y) -> x * y |> sum, A, Y)"
   ]
  },
  {
   "cell_type": "code",
   "execution_count": 23,
   "metadata": {},
   "outputs": [
    {
     "data": {
      "text/plain": [
       "((W = [0.0 0.0 0.0; 0.0 0.0 0.0; 0.0 0.0 0.0], ψ = [0.9168388994682652, 0.76975819065658, 1.8583828666042692]), nothing)"
      ]
     },
     "execution_count": 23,
     "metadata": {},
     "output_type": "execute_result"
    }
   ],
   "source": [
    "gradient((x, y) -> x * y |> sum, A, Z)"
   ]
  },
  {
   "cell_type": "markdown",
   "metadata": {},
   "source": [
    "## Maybe hot"
   ]
  },
  {
   "cell_type": "code",
   "execution_count": 24,
   "metadata": {},
   "outputs": [
    {
     "data": {
      "text/plain": [
       "3-element Flux.OneHotVector:\n",
       " 1\n",
       " 0\n",
       " 0"
      ]
     },
     "execution_count": 24,
     "metadata": {},
     "output_type": "execute_result"
    }
   ],
   "source": [
    "oh1 = Flux.onehot(1, 1:3)"
   ]
  },
  {
   "cell_type": "code",
   "execution_count": 25,
   "metadata": {},
   "outputs": [
    {
     "data": {
      "text/plain": [
       "3-element MaybeHotVector{Int64,Int64,Bool}:\n",
       " 1\n",
       " 0\n",
       " 0"
      ]
     },
     "execution_count": 25,
     "metadata": {},
     "output_type": "execute_result"
    }
   ],
   "source": [
    "mh1 = maybehot(1, 1:3)\n",
    "mh1::AbstractVector{Bool}"
   ]
  },
  {
   "cell_type": "code",
   "execution_count": 26,
   "metadata": {},
   "outputs": [
    {
     "data": {
      "text/plain": [
       "3-element Flux.OneHotVector:\n",
       " 1\n",
       " 0\n",
       " 0"
      ]
     },
     "execution_count": 26,
     "metadata": {},
     "output_type": "execute_result"
    }
   ],
   "source": [
    "Flux.onehot(mh1)"
   ]
  },
  {
   "cell_type": "code",
   "execution_count": 27,
   "metadata": {},
   "outputs": [
    {
     "data": {
      "text/plain": [
       "3-element MaybeHotVector{Missing,Int64,Missing}:\n",
       " missing\n",
       " missing\n",
       " missing"
      ]
     },
     "execution_count": 27,
     "metadata": {},
     "output_type": "execute_result"
    }
   ],
   "source": [
    "mh2 = Mill.maybehot(missing, 1:3)\n",
    "mh2::AbstractVector{Missing}"
   ]
  },
  {
   "cell_type": "code",
   "execution_count": 28,
   "metadata": {},
   "outputs": [
    {
     "data": {
      "text/plain": [
       "3×2 Flux.OneHotMatrix{Array{Flux.OneHotVector,1}}:\n",
       " 1  0\n",
       " 0  0\n",
       " 0  1"
      ]
     },
     "execution_count": 28,
     "metadata": {},
     "output_type": "execute_result"
    }
   ],
   "source": [
    "ohb1 = Flux.onehotbatch([1, 3], 1:3)"
   ]
  },
  {
   "cell_type": "code",
   "execution_count": 29,
   "metadata": {},
   "outputs": [
    {
     "data": {
      "text/plain": [
       "3×2 MaybeHotMatrix{Int64,Array{Int64,1},Int64,Bool}:\n",
       " 1  0\n",
       " 0  0\n",
       " 0  1"
      ]
     },
     "execution_count": 29,
     "metadata": {},
     "output_type": "execute_result"
    }
   ],
   "source": [
    "mhb1 = Mill.maybehotbatch([1, 3], 1:3)\n",
    "mhb1::AbstractMatrix{Bool}"
   ]
  },
  {
   "cell_type": "code",
   "execution_count": 30,
   "metadata": {},
   "outputs": [
    {
     "data": {
      "text/plain": [
       "3×2 Flux.OneHotMatrix{Array{Flux.OneHotVector,1}}:\n",
       " 1  0\n",
       " 0  0\n",
       " 0  1"
      ]
     },
     "execution_count": 30,
     "metadata": {},
     "output_type": "execute_result"
    }
   ],
   "source": [
    "Flux.onehotbatch(mhb1)"
   ]
  },
  {
   "cell_type": "code",
   "execution_count": 31,
   "metadata": {},
   "outputs": [
    {
     "data": {
      "text/plain": [
       "3×3 MaybeHotMatrix{Union{Missing, Int64},Array{Union{Missing, Int64},1},Int64,Union{Missing, Bool}}:\n",
       "  true  missing  false\n",
       " false  missing  false\n",
       " false  missing   true"
      ]
     },
     "execution_count": 31,
     "metadata": {},
     "output_type": "execute_result"
    }
   ],
   "source": [
    "mhb2 = Mill.maybehotbatch([1, missing, 3], 1:3)\n",
    "mhb2::AbstractMatrix{Union{Bool, Missing}}"
   ]
  },
  {
   "cell_type": "code",
   "execution_count": 32,
   "metadata": {},
   "outputs": [
    {
     "data": {
      "text/plain": [
       "3×3 Array{Float64,2}:\n",
       " 0.335087  0.36826   0.367776\n",
       " 0.578647  0.585546  0.94464\n",
       " 0.956251  0.873661  0.0490286"
      ]
     },
     "execution_count": 32,
     "metadata": {},
     "output_type": "execute_result"
    }
   ],
   "source": [
    "x = rand(3,3)"
   ]
  },
  {
   "cell_type": "code",
   "execution_count": 33,
   "metadata": {},
   "outputs": [
    {
     "data": {
      "text/plain": [
       "3-element Array{Float64,1}:\n",
       " 0.33508705348542134\n",
       " 0.5786474548222256\n",
       " 0.9562510531949802"
      ]
     },
     "execution_count": 33,
     "metadata": {},
     "output_type": "execute_result"
    }
   ],
   "source": [
    "x * oh1"
   ]
  },
  {
   "cell_type": "code",
   "execution_count": 34,
   "metadata": {},
   "outputs": [
    {
     "data": {
      "text/plain": [
       "3-element Array{Float64,1}:\n",
       " 0.33508705348542134\n",
       " 0.5786474548222256\n",
       " 0.9562510531949802"
      ]
     },
     "execution_count": 34,
     "metadata": {},
     "output_type": "execute_result"
    }
   ],
   "source": [
    "x * mh1"
   ]
  },
  {
   "cell_type": "code",
   "execution_count": 35,
   "metadata": {},
   "outputs": [
    {
     "data": {
      "text/plain": [
       "3-element Array{Missing,1}:\n",
       " missing\n",
       " missing\n",
       " missing"
      ]
     },
     "execution_count": 35,
     "metadata": {},
     "output_type": "execute_result"
    }
   ],
   "source": [
    "x * mh2"
   ]
  },
  {
   "cell_type": "code",
   "execution_count": 36,
   "metadata": {},
   "outputs": [
    {
     "data": {
      "text/plain": [
       "3×2 Array{Float64,2}:\n",
       " 0.335087  0.367776\n",
       " 0.578647  0.94464\n",
       " 0.956251  0.0490286"
      ]
     },
     "execution_count": 36,
     "metadata": {},
     "output_type": "execute_result"
    }
   ],
   "source": [
    "x * ohb1"
   ]
  },
  {
   "cell_type": "code",
   "execution_count": 37,
   "metadata": {},
   "outputs": [
    {
     "data": {
      "text/plain": [
       "3×2 Array{Float64,2}:\n",
       " 0.335087  0.367776\n",
       " 0.578647  0.94464\n",
       " 0.956251  0.0490286"
      ]
     },
     "execution_count": 37,
     "metadata": {},
     "output_type": "execute_result"
    }
   ],
   "source": [
    "x * mhb1"
   ]
  },
  {
   "cell_type": "code",
   "execution_count": 38,
   "metadata": {},
   "outputs": [
    {
     "data": {
      "text/plain": [
       "3×3 Array{Union{Missing, Float64},2}:\n",
       " 0.335087  missing  0.367776\n",
       " 0.578647  missing  0.94464\n",
       " 0.956251  missing  0.0490286"
      ]
     },
     "execution_count": 38,
     "metadata": {},
     "output_type": "execute_result"
    }
   ],
   "source": [
    "x * mhb2"
   ]
  },
  {
   "cell_type": "code",
   "execution_count": 39,
   "metadata": {},
   "outputs": [
    {
     "data": {
      "text/plain": [
       "([1.0 0.0 0.0; 1.0 0.0 0.0; 1.0 0.0 0.0], nothing)"
      ]
     },
     "execution_count": 39,
     "metadata": {},
     "output_type": "execute_result"
    }
   ],
   "source": [
    "gradient((x, y) -> x * y |> sum, x, mh1)"
   ]
  },
  {
   "cell_type": "code",
   "execution_count": 40,
   "metadata": {},
   "outputs": [
    {
     "ename": "LoadError",
     "evalue": "Output should be scalar; gradients are not defined for output missing",
     "output_type": "error",
     "traceback": [
      "Output should be scalar; gradients are not defined for output missing",
      "",
      "Stacktrace:",
      " [1] error(::String) at ./error.jl:33",
      " [2] sensitivity(::Missing) at /Users/simon.mandlik/.julia/packages/Zygote/c0awc/src/compiler/interface.jl:50",
      " [3] gradient(::Function, ::Array{Float64,2}, ::Vararg{Any,N} where N) at /Users/simon.mandlik/.julia/packages/Zygote/c0awc/src/compiler/interface.jl:54",
      " [4] top-level scope at In[40]:1",
      " [5] include_string(::Function, ::Module, ::String, ::String) at ./loading.jl:1091",
      " [6] execute_code(::String, ::String) at /Users/simon.mandlik/.julia/packages/IJulia/rWZ9e/src/execute_request.jl:27",
      " [7] execute_request(::ZMQ.Socket, ::IJulia.Msg) at /Users/simon.mandlik/.julia/packages/IJulia/rWZ9e/src/execute_request.jl:86",
      " [8] #invokelatest#1 at ./essentials.jl:710 [inlined]",
      " [9] invokelatest at ./essentials.jl:709 [inlined]",
      " [10] eventloop(::ZMQ.Socket) at /Users/simon.mandlik/.julia/packages/IJulia/rWZ9e/src/eventloop.jl:8",
      " [11] (::IJulia.var\"#15#18\")() at ./task.jl:356"
     ]
    }
   ],
   "source": [
    "gradient((x, y) -> x * y |> sum, x, mh2)"
   ]
  },
  {
   "cell_type": "code",
   "execution_count": 41,
   "metadata": {},
   "outputs": [
    {
     "data": {
      "text/plain": [
       "([1.0 0.0 1.0; 1.0 0.0 1.0; 1.0 0.0 1.0], nothing)"
      ]
     },
     "execution_count": 41,
     "metadata": {},
     "output_type": "execute_result"
    }
   ],
   "source": [
    "gradient((x, y) -> x * y |> sum, x, mhb1)"
   ]
  },
  {
   "cell_type": "code",
   "execution_count": 42,
   "metadata": {},
   "outputs": [
    {
     "ename": "LoadError",
     "evalue": "Output should be scalar; gradients are not defined for output missing",
     "output_type": "error",
     "traceback": [
      "Output should be scalar; gradients are not defined for output missing",
      "",
      "Stacktrace:",
      " [1] error(::String) at ./error.jl:33",
      " [2] sensitivity(::Missing) at /Users/simon.mandlik/.julia/packages/Zygote/c0awc/src/compiler/interface.jl:50",
      " [3] gradient(::Function, ::Array{Float64,2}, ::Vararg{Any,N} where N) at /Users/simon.mandlik/.julia/packages/Zygote/c0awc/src/compiler/interface.jl:54",
      " [4] top-level scope at In[42]:1",
      " [5] include_string(::Function, ::Module, ::String, ::String) at ./loading.jl:1091",
      " [6] execute_code(::String, ::String) at /Users/simon.mandlik/.julia/packages/IJulia/rWZ9e/src/execute_request.jl:27",
      " [7] execute_request(::ZMQ.Socket, ::IJulia.Msg) at /Users/simon.mandlik/.julia/packages/IJulia/rWZ9e/src/execute_request.jl:86",
      " [8] #invokelatest#1 at ./essentials.jl:710 [inlined]",
      " [9] invokelatest at ./essentials.jl:709 [inlined]",
      " [10] eventloop(::ZMQ.Socket) at /Users/simon.mandlik/.julia/packages/IJulia/rWZ9e/src/eventloop.jl:8",
      " [11] (::IJulia.var\"#15#18\")() at ./task.jl:356"
     ]
    }
   ],
   "source": [
    "gradient((x, y) -> x * y |> sum, x, mhb2)"
   ]
  },
  {
   "cell_type": "markdown",
   "metadata": {},
   "source": [
    "## NGramMatrix with Missing"
   ]
  },
  {
   "cell_type": "code",
   "execution_count": 43,
   "metadata": {},
   "outputs": [
    {
     "data": {
      "text/plain": [
       "6-element Array{Int64,1}:\n",
       " 2223\n",
       " 2232\n",
       " 2321\n",
       " 3213\n",
       " 2133\n",
       " 1333"
      ]
     },
     "execution_count": 43,
     "metadata": {},
     "output_type": "execute_result"
    }
   ],
   "source": [
    "NGramIterator([3,2,1] |> collect, 4, 10) |> collect"
   ]
  },
  {
   "cell_type": "code",
   "execution_count": 44,
   "metadata": {},
   "outputs": [
    {
     "data": {
      "text/plain": [
       "0"
      ]
     },
     "execution_count": 44,
     "metadata": {},
     "output_type": "execute_result"
    }
   ],
   "source": [
    "Mill.string_start_code!(0)"
   ]
  },
  {
   "cell_type": "code",
   "execution_count": 45,
   "metadata": {},
   "outputs": [
    {
     "data": {
      "text/plain": [
       "0"
      ]
     },
     "execution_count": 45,
     "metadata": {},
     "output_type": "execute_result"
    }
   ],
   "source": [
    "Mill.string_start_code!(0)"
   ]
  },
  {
   "cell_type": "code",
   "execution_count": 46,
   "metadata": {},
   "outputs": [
    {
     "data": {
      "text/plain": [
       "6-element Array{Int64,1}:\n",
       "    3\n",
       "   32\n",
       "  321\n",
       " 3213\n",
       " 2133\n",
       " 1333"
      ]
     },
     "execution_count": 46,
     "metadata": {},
     "output_type": "execute_result"
    }
   ],
   "source": [
    "NGramIterator([3,2,1] |> collect, 4, 10) |> collect"
   ]
  },
  {
   "cell_type": "code",
   "execution_count": 47,
   "metadata": {},
   "outputs": [
    {
     "data": {
      "text/plain": [
       "2053×2 NGramMatrix{String,Array{String,1},Int64}:\n",
       " \"hello\"\n",
       " \"world\""
      ]
     },
     "execution_count": 47,
     "metadata": {},
     "output_type": "execute_result"
    }
   ],
   "source": [
    "Y1 = NGramMatrix([\"hello\", \"world\"])"
   ]
  },
  {
   "cell_type": "code",
   "execution_count": 48,
   "metadata": {},
   "outputs": [
    {
     "data": {
      "text/plain": [
       "2053×2 SparseMatrixCSC{Float32,UInt64} with 14 stored entries:\n",
       "  [37  , 1]  =  1.0\n",
       "  [105 , 1]  =  1.0\n",
       "  [215 , 1]  =  1.0\n",
       "  [875 , 1]  =  1.0\n",
       "  [1113, 1]  =  1.0\n",
       "  [1332, 1]  =  1.0\n",
       "  [1489, 1]  =  1.0\n",
       "  [112 , 2]  =  1.0\n",
       "  [120 , 2]  =  1.0\n",
       "  [1196, 2]  =  1.0\n",
       "  [1268, 2]  =  1.0\n",
       "  [1279, 2]  =  1.0\n",
       "  [1297, 2]  =  1.0\n",
       "  [1834, 2]  =  1.0"
      ]
     },
     "execution_count": 48,
     "metadata": {},
     "output_type": "execute_result"
    }
   ],
   "source": [
    "Y1S = SparseMatrixCSC(Y1)"
   ]
  },
  {
   "cell_type": "code",
   "execution_count": 49,
   "metadata": {},
   "outputs": [
    {
     "data": {
      "text/plain": [
       "10×2 Array{Float64,2}:\n",
       " 3.90584  3.77515\n",
       " 2.89506  3.28477\n",
       " 2.509    3.89028\n",
       " 4.10531  3.3759\n",
       " 2.63214  4.1285\n",
       " 3.08886  3.52846\n",
       " 4.61518  3.36014\n",
       " 4.5827   3.36295\n",
       " 3.6208   4.8233\n",
       " 5.10926  2.94604"
      ]
     },
     "execution_count": 49,
     "metadata": {},
     "output_type": "execute_result"
    }
   ],
   "source": [
    "A1 = rand(10, 2053);\n",
    "A1 * Y1"
   ]
  },
  {
   "cell_type": "code",
   "execution_count": 50,
   "metadata": {},
   "outputs": [
    {
     "data": {
      "text/plain": [
       "([0.0 0.0 … 0.0 0.0; 0.0 0.0 … 0.0 0.0; … ; 0.0 0.0 … 0.0 0.0; 0.0 0.0 … 0.0 0.0], nothing)"
      ]
     },
     "execution_count": 50,
     "metadata": {},
     "output_type": "execute_result"
    }
   ],
   "source": [
    "gradient((x, y) -> x * y |> sum, A1, Y1)"
   ]
  },
  {
   "cell_type": "code",
   "execution_count": 51,
   "metadata": {},
   "outputs": [
    {
     "data": {
      "text/plain": [
       "2053×2 NGramMatrix{Missing,Array{Missing,1},Missing}:\n",
       " missing\n",
       " missing"
      ]
     },
     "execution_count": 51,
     "metadata": {},
     "output_type": "execute_result"
    }
   ],
   "source": [
    "Y2 = NGramMatrix([missing, missing])\n",
    "Y2::AbstractMatrix{Missing}"
   ]
  },
  {
   "cell_type": "code",
   "execution_count": 52,
   "metadata": {},
   "outputs": [
    {
     "data": {
      "text/plain": [
       "2053×2 NGramMatrix{Array{Int64,1},Array{Array{Int64,1},1},Int64}:\n",
       " [1, 2, 3]\n",
       " [4, 5, 6]"
      ]
     },
     "execution_count": 52,
     "metadata": {},
     "output_type": "execute_result"
    }
   ],
   "source": [
    "Y3 = NGramMatrix([[1,2,3], [4,5,6]])\n",
    "Y3::AbstractMatrix{Int}"
   ]
  },
  {
   "cell_type": "code",
   "execution_count": 53,
   "metadata": {},
   "outputs": [
    {
     "data": {
      "text/plain": [
       "2053×2 NGramMatrix{Union{Missing, String},Array{Union{Missing, String},1},Union{Missing, Int64}}:\n",
       " missing\n",
       " \"a\""
      ]
     },
     "execution_count": 53,
     "metadata": {},
     "output_type": "execute_result"
    }
   ],
   "source": [
    "Y4 = NGramMatrix([missing, \"a\"])\n",
    "Y4::AbstractMatrix{Union{Missing,Int}}"
   ]
  },
  {
   "cell_type": "code",
   "execution_count": 54,
   "metadata": {},
   "outputs": [
    {
     "data": {
      "text/plain": [
       "Union{AbstractString, Base.CodeUnits, AbstractArray{var\"#s49\",1} where var\"#s49\"<:Integer}"
      ]
     },
     "execution_count": 54,
     "metadata": {},
     "output_type": "execute_result"
    }
   ],
   "source": [
    "Mill.Sequence"
   ]
  },
  {
   "cell_type": "code",
   "execution_count": 55,
   "metadata": {},
   "outputs": [
    {
     "data": {
      "text/plain": [
       "10×2053 PostImputingMatrix{Float64,Array{Float64,1},Array{Float64,2}}:\n",
       "W:\n",
       " 0.485399  0.112598  0.342821   0.90522   …  0.294549   0.713174   0.0616785\n",
       " 0.59183   0.43315   0.23828    0.074511     0.940449   0.0686212  0.71156\n",
       " 0.487902  0.306681  0.853688   0.636416     0.825156   0.0472395  0.718607\n",
       " 0.881556  0.458054  0.363097   0.132742     0.304384   0.0965665  0.469558\n",
       " 0.555162  0.657948  0.899837   0.234271     0.90012    0.846639   0.673113\n",
       " 0.792749  0.653375  0.781468   0.8923    …  0.841502   0.651107   0.096538\n",
       " 0.500394  0.885379  0.0125803  0.158539     0.329611   0.89235    0.833952\n",
       " 0.737689  0.834877  0.270169   0.785252     0.165079   0.348791   0.529045\n",
       " 0.768394  0.638561  0.382991   0.477191     0.0648912  0.310851   0.402197\n",
       " 0.743375  0.788291  0.188621   0.754287     0.555854   0.155029   0.416455\n",
       "\n",
       "ψ:\n",
       " 0.0\n",
       " 0.0\n",
       " 0.0\n",
       " 0.0\n",
       " 0.0\n",
       " 0.0\n",
       " 0.0\n",
       " 0.0\n",
       " 0.0\n",
       " 0.0"
      ]
     },
     "execution_count": 55,
     "metadata": {},
     "output_type": "execute_result"
    }
   ],
   "source": [
    "A2 = PostImputingMatrix(A1)"
   ]
  },
  {
   "cell_type": "code",
   "execution_count": 56,
   "metadata": {},
   "outputs": [
    {
     "data": {
      "text/plain": [
       "((W = [0.0 0.0 … 0.0 0.0; 0.0 0.0 … 0.0 0.0; … ; 0.0 0.0 … 0.0 0.0; 0.0 0.0 … 0.0 0.0], ψ = nothing), nothing)"
      ]
     },
     "execution_count": 56,
     "metadata": {},
     "output_type": "execute_result"
    }
   ],
   "source": [
    "gradient((x, y) -> x * y |> sum, A2, Y1)"
   ]
  },
  {
   "cell_type": "code",
   "execution_count": 57,
   "metadata": {},
   "outputs": [
    {
     "data": {
      "text/plain": [
       "((W = nothing, ψ = [2.0, 2.0, 2.0, 2.0, 2.0, 2.0, 2.0, 2.0, 2.0, 2.0]), nothing)"
      ]
     },
     "execution_count": 57,
     "metadata": {},
     "output_type": "execute_result"
    }
   ],
   "source": [
    "gradient((x, y) -> x * y |> sum, A2, Y2)"
   ]
  },
  {
   "cell_type": "code",
   "execution_count": 58,
   "metadata": {},
   "outputs": [
    {
     "data": {
      "text/plain": [
       "((W = [0.0 1.0 … 0.0 0.0; 0.0 1.0 … 0.0 0.0; … ; 0.0 1.0 … 0.0 0.0; 0.0 1.0 … 0.0 0.0], ψ = nothing), nothing)"
      ]
     },
     "execution_count": 58,
     "metadata": {},
     "output_type": "execute_result"
    }
   ],
   "source": [
    "gradient((x, y) -> x * y |> sum, A2, Y3)"
   ]
  },
  {
   "cell_type": "code",
   "execution_count": 59,
   "metadata": {},
   "outputs": [
    {
     "data": {
      "text/plain": [
       "((W = [0.0 0.0 … 0.0 0.0; 0.0 0.0 … 0.0 0.0; … ; 0.0 0.0 … 0.0 0.0; 0.0 0.0 … 0.0 0.0], ψ = [1.0; 1.0; … ; 1.0; 1.0]), nothing)"
      ]
     },
     "execution_count": 59,
     "metadata": {},
     "output_type": "execute_result"
    }
   ],
   "source": [
    "gradient((x, y) -> x * y |> sum, A2, Y4)"
   ]
  },
  {
   "cell_type": "markdown",
   "metadata": {},
   "source": [
    "## Post (column) imputing"
   ]
  },
  {
   "cell_type": "code",
   "execution_count": 60,
   "metadata": {},
   "outputs": [
    {
     "data": {
      "text/plain": [
       "3×3 PostImputingMatrix{Float64,Array{Float64,1},Array{Float64,2}}:\n",
       "W:\n",
       " 0.983661  0.861208   0.389237\n",
       " 0.142421  0.500954   0.0707543\n",
       " 0.617372  0.0474067  0.573172\n",
       "\n",
       "ψ:\n",
       " 0.0\n",
       " 0.0\n",
       " 0.0"
      ]
     },
     "execution_count": 60,
     "metadata": {},
     "output_type": "execute_result"
    }
   ],
   "source": [
    "A = PostImputingMatrix(rand(3,3))\n",
    "A::AbstractMatrix{Float64}"
   ]
  },
  {
   "cell_type": "code",
   "execution_count": 61,
   "metadata": {},
   "outputs": [
    {
     "data": {
      "text/plain": [
       "3-element Array{Float64,1}:\n",
       " 0.12311507296192148\n",
       " 0.4846945229271662\n",
       " 0.7055062638526115"
      ]
     },
     "execution_count": 61,
     "metadata": {},
     "output_type": "execute_result"
    }
   ],
   "source": [
    "X = rand(3)"
   ]
  },
  {
   "cell_type": "code",
   "execution_count": 62,
   "metadata": {},
   "outputs": [
    {
     "data": {
      "text/plain": [
       "3-element Array{Float64,1}:\n",
       " 0.8131352416991011\n",
       " 0.3102616531576294\n",
       " 0.5033617006419145"
      ]
     },
     "execution_count": 62,
     "metadata": {},
     "output_type": "execute_result"
    }
   ],
   "source": [
    "A * X"
   ]
  },
  {
   "cell_type": "code",
   "execution_count": 63,
   "metadata": {},
   "outputs": [
    {
     "data": {
      "text/plain": [
       "3×3 MaybeHotMatrix{Union{Missing, Int64},Array{Union{Missing, Int64},1},Int64,Union{Missing, Bool}}:\n",
       "  true  missing  false\n",
       " false  missing  false\n",
       " false  missing   true"
      ]
     },
     "execution_count": 63,
     "metadata": {},
     "output_type": "execute_result"
    }
   ],
   "source": [
    "Y = maybehotbatch([1, missing, 3], 1:3)"
   ]
  },
  {
   "cell_type": "code",
   "execution_count": 64,
   "metadata": {},
   "outputs": [
    {
     "data": {
      "text/plain": [
       "3×3 Array{Float64,2}:\n",
       " 0.983661  0.0  0.389237\n",
       " 0.142421  0.0  0.0707543\n",
       " 0.617372  0.0  0.573172"
      ]
     },
     "execution_count": 64,
     "metadata": {},
     "output_type": "execute_result"
    }
   ],
   "source": [
    "A * Y"
   ]
  },
  {
   "cell_type": "code",
   "execution_count": 65,
   "metadata": {},
   "outputs": [
    {
     "data": {
      "text/plain": [
       "3-element MaybeHotVector{Int64,Int64,Bool}:\n",
       " 1\n",
       " 0\n",
       " 0"
      ]
     },
     "execution_count": 65,
     "metadata": {},
     "output_type": "execute_result"
    }
   ],
   "source": [
    "Z = maybehot(1, 1:3)"
   ]
  },
  {
   "cell_type": "code",
   "execution_count": 66,
   "metadata": {},
   "outputs": [
    {
     "data": {
      "text/plain": [
       "3-element Array{Float64,1}:\n",
       " 0.9836610471467733\n",
       " 0.1424212473370705\n",
       " 0.6173722875436805"
      ]
     },
     "execution_count": 66,
     "metadata": {},
     "output_type": "execute_result"
    }
   ],
   "source": [
    "A * Z"
   ]
  },
  {
   "cell_type": "code",
   "execution_count": 67,
   "metadata": {},
   "outputs": [
    {
     "data": {
      "text/plain": [
       "((W = [0.12311507296192148 0.4846945229271662 0.7055062638526115; 0.12311507296192148 0.4846945229271662 0.7055062638526115; 0.12311507296192148 0.4846945229271662 0.7055062638526115], ψ = nothing), [1.7434545820275242, 1.4095691663291088, 1.0331624822711363])"
      ]
     },
     "execution_count": 67,
     "metadata": {},
     "output_type": "execute_result"
    }
   ],
   "source": [
    "gradient((x, y) -> x * y |> sum, A, X)"
   ]
  },
  {
   "cell_type": "code",
   "execution_count": 68,
   "metadata": {},
   "outputs": [
    {
     "data": {
      "text/plain": [
       "((W = [1.0 0.0 1.0; 1.0 0.0 1.0; 1.0 0.0 1.0], ψ = [1.0; 1.0; 1.0]), nothing)"
      ]
     },
     "execution_count": 68,
     "metadata": {},
     "output_type": "execute_result"
    }
   ],
   "source": [
    "gradient((x, y) -> x * y |> sum, A, Y)"
   ]
  },
  {
   "cell_type": "code",
   "execution_count": 69,
   "metadata": {},
   "outputs": [
    {
     "data": {
      "text/plain": [
       "((W = [1.0 0.0 0.0; 1.0 0.0 0.0; 1.0 0.0 0.0], ψ = nothing), nothing)"
      ]
     },
     "execution_count": 69,
     "metadata": {},
     "output_type": "execute_result"
    }
   ],
   "source": [
    "gradient((x, y) -> x * y |> sum, A, Z)"
   ]
  },
  {
   "cell_type": "markdown",
   "metadata": {},
   "source": [
    "## Reflect in model and integration\n",
    "\n",
    "- better IO for all types and trees\n",
    "- single_key_identity\n",
    "- single_scalar_identity"
   ]
  },
  {
   "cell_type": "code",
   "execution_count": 70,
   "metadata": {},
   "outputs": [
    {
     "data": {
      "text/plain": [
       "PreImputingDense(5, 5)"
      ]
     },
     "execution_count": 70,
     "metadata": {},
     "output_type": "execute_result"
    }
   ],
   "source": [
    "m = PreImputingDense(5, 5)"
   ]
  },
  {
   "cell_type": "code",
   "execution_count": 71,
   "metadata": {},
   "outputs": [
    {
     "data": {
      "text/plain": [
       "Dense{typeof(identity),PreImputingMatrix{Float32,Array{Float32,1},Array{Float32,2}},Array{Float32,1}}"
      ]
     },
     "execution_count": 71,
     "metadata": {},
     "output_type": "execute_result"
    }
   ],
   "source": [
    "typeof(m)"
   ]
  },
  {
   "cell_type": "code",
   "execution_count": 72,
   "metadata": {},
   "outputs": [
    {
     "data": {
      "text/plain": [
       "5×5 PreImputingMatrix{Float32,Array{Float32,1},Array{Float32,2}}:\n",
       "W:\n",
       "  0.770642  -0.105618   -0.639469  -0.0613623   0.312846\n",
       " -0.608667   0.194929   -0.720417  -0.178393    0.474514\n",
       "  0.400999  -0.530013    0.153515   0.342197    0.275042\n",
       " -0.738011   0.0715067  -0.449064   0.498823   -0.474731\n",
       "  0.589017   0.279058    0.063485   0.162089   -0.264956\n",
       "\n",
       "ψ:\n",
       " 0.0  0.0  0.0  0.0  0.0"
      ]
     },
     "execution_count": 72,
     "metadata": {},
     "output_type": "execute_result"
    }
   ],
   "source": [
    "m.W"
   ]
  },
  {
   "cell_type": "code",
   "execution_count": 73,
   "metadata": {},
   "outputs": [
    {
     "data": {
      "text/plain": [
       "5-element Array{Float32,1}:\n",
       " 0.0\n",
       " 0.0\n",
       " 0.0\n",
       " 0.0\n",
       " 0.0"
      ]
     },
     "execution_count": 73,
     "metadata": {},
     "output_type": "execute_result"
    }
   ],
   "source": [
    "m.b"
   ]
  },
  {
   "cell_type": "code",
   "execution_count": 74,
   "metadata": {},
   "outputs": [
    {
     "data": {
      "text/plain": [
       "identity (generic function with 1 method)"
      ]
     },
     "execution_count": 74,
     "metadata": {},
     "output_type": "execute_result"
    }
   ],
   "source": [
    "m.σ"
   ]
  },
  {
   "cell_type": "code",
   "execution_count": 75,
   "metadata": {},
   "outputs": [
    {
     "data": {
      "text/plain": [
       "PostImputingDense(5, 5)"
      ]
     },
     "execution_count": 75,
     "metadata": {},
     "output_type": "execute_result"
    }
   ],
   "source": [
    "m = PostImputingDense(5, 5)"
   ]
  },
  {
   "cell_type": "code",
   "execution_count": 76,
   "metadata": {},
   "outputs": [
    {
     "data": {
      "text/plain": [
       "Dense{typeof(identity),PostImputingMatrix{Float32,Array{Float32,1},Array{Float32,2}},Array{Float32,1}}"
      ]
     },
     "execution_count": 76,
     "metadata": {},
     "output_type": "execute_result"
    }
   ],
   "source": [
    "typeof(m)"
   ]
  },
  {
   "cell_type": "code",
   "execution_count": 77,
   "metadata": {},
   "outputs": [
    {
     "data": {
      "text/plain": [
       "5×5 PostImputingMatrix{Float32,Array{Float32,1},Array{Float32,2}}:\n",
       "W:\n",
       " -0.0619664  -0.712689  -0.361695  -0.728934  -0.684152\n",
       "  0.517435   -0.263719  -0.200393   0.527432   0.733296\n",
       "  0.209236   -0.224855  -0.227583  -0.493923  -0.42822\n",
       "  0.250025    0.389438   0.643126  -0.512282  -0.562059\n",
       "  0.0553283  -0.106888   0.609508  -0.166765  -0.560717\n",
       "\n",
       "ψ:\n",
       " 0.0\n",
       " 0.0\n",
       " 0.0\n",
       " 0.0\n",
       " 0.0"
      ]
     },
     "execution_count": 77,
     "metadata": {},
     "output_type": "execute_result"
    }
   ],
   "source": [
    "m.W"
   ]
  },
  {
   "cell_type": "code",
   "execution_count": 78,
   "metadata": {},
   "outputs": [
    {
     "data": {
      "text/plain": [
       "5-element Array{Float32,1}:\n",
       " 0.0\n",
       " 0.0\n",
       " 0.0\n",
       " 0.0\n",
       " 0.0"
      ]
     },
     "execution_count": 78,
     "metadata": {},
     "output_type": "execute_result"
    }
   ],
   "source": [
    "m.b"
   ]
  },
  {
   "cell_type": "code",
   "execution_count": 79,
   "metadata": {},
   "outputs": [
    {
     "data": {
      "text/plain": [
       "identity (generic function with 1 method)"
      ]
     },
     "execution_count": 79,
     "metadata": {},
     "output_type": "execute_result"
    }
   ],
   "source": [
    "m.σ"
   ]
  },
  {
   "cell_type": "code",
   "execution_count": 80,
   "metadata": {},
   "outputs": [
    {
     "name": "stdout",
     "output_type": "stream",
     "text": [
      "\u001b[34mProductNode with 4 obs\u001b[39m\n",
      "\u001b[34m  ├── a: \u001b[39m\u001b[31mProductNode with 4 obs\u001b[39m\n",
      "\u001b[34m  │      \u001b[39m\u001b[31m  └── aa: \u001b[39m\u001b[32mBagNode with 4 obs\u001b[39m\n",
      "\u001b[34m  │      \u001b[39m\u001b[31m          \u001b[39m\u001b[32m  └── \u001b[39m\u001b[39mArrayNode(1×10 Array, Union{Missing, Int64}) with 10 obs\n",
      "\u001b[34m  ├── b: \u001b[39m\u001b[31mProductNode with 4 obs\u001b[39m\n",
      "\u001b[34m  │      \u001b[39m\u001b[31m  ├── ba: \u001b[39m\u001b[39mArrayNode(2053×4 NGramMatrix, Union{Missing, Int64}) with 4 obs\n",
      "\u001b[34m  │      \u001b[39m\u001b[31m  └── bb: \u001b[39m\u001b[39mArrayNode(2053×4 NGramMatrix, Int64) with 4 obs\n",
      "\u001b[34m  └── c: \u001b[39m\u001b[31mProductNode with 4 obs\u001b[39m\n",
      "\u001b[34m         \u001b[39m\u001b[31m  ├── ca: \u001b[39m\u001b[39mArrayNode(10×4 MaybeHotMatrix, Union{Missing, Bool}) with 4 obs\n",
      "\u001b[34m         \u001b[39m\u001b[31m  └── cb: \u001b[39m\u001b[39mArrayNode(10×4 MaybeHotMatrix, Bool) with 4 obs"
     ]
    }
   ],
   "source": [
    "x1 = reshape([i%3 == 0 ? missing : i for i in 1:10], 1, 10) |> collect\n",
    "aa = BagNode(ArrayNode(x1), bags([1:2, 3:7, 0:-1, 8:10]))\n",
    "a = ProductNode((; aa))\n",
    "\n",
    "ba = ArrayNode(NGramMatrix([\"a\", missing, missing, \"b\"]))\n",
    "bb = ArrayNode(NGramMatrix([[1,2], [3,4], [5], [6, 7, 8]]))\n",
    "b = ProductNode((; ba, bb))\n",
    "\n",
    "ca = ArrayNode(maybehotbatch([1,missing,9,missing], 1:10))\n",
    "cb = ArrayNode(maybehotbatch([1,2,3,4], 1:10))\n",
    "c = ProductNode((; ca, cb))\n",
    "\n",
    "ds = ProductNode((; a, b, c))\n",
    "printtree(ds)"
   ]
  },
  {
   "cell_type": "code",
   "execution_count": 81,
   "metadata": {},
   "outputs": [
    {
     "name": "stdout",
     "output_type": "stream",
     "text": [
      "\u001b[34mProductModel ↦ ArrayModel(Dense(21, 10)) [\"\"]\u001b[39m\n",
      "\u001b[34m  ├── a: \u001b[39m\u001b[31mProductModel ↦ ArrayModel(identity) [\"E\"]\u001b[39m\n",
      "\u001b[34m  │      \u001b[39m\u001b[31m  └── aa: \u001b[39m\u001b[32mBagModel ↦ ⟨SegmentedMean(1)⟩ ↦ ArrayModel(identity) [\"M\"]\u001b[39m\n",
      "\u001b[34m  │      \u001b[39m\u001b[31m          \u001b[39m\u001b[32m  └── \u001b[39m\u001b[39mArrayModel(PreImputingDense(1, 1)) [\"Q\"]\n",
      "\u001b[34m  ├── b: \u001b[39m\u001b[31mProductModel ↦ ArrayModel(Dense(20, 10)) [\"U\"]\u001b[39m\n",
      "\u001b[34m  │      \u001b[39m\u001b[31m  ├── ba: \u001b[39m\u001b[39mArrayModel(PostImputingDense(2053, 10)) [\"Y\"]\n",
      "\u001b[34m  │      \u001b[39m\u001b[31m  └── bb: \u001b[39m\u001b[39mArrayModel(Dense(2053, 10)) [\"c\"]\n",
      "\u001b[34m  └── c: \u001b[39m\u001b[31mProductModel ↦ ArrayModel(Dense(20, 10)) [\"k\"]\u001b[39m\n",
      "\u001b[34m         \u001b[39m\u001b[31m  ├── ca: \u001b[39m\u001b[39mArrayModel(PostImputingDense(10, 10)) [\"o\"]\n",
      "\u001b[34m         \u001b[39m\u001b[31m  └── cb: \u001b[39m\u001b[39mArrayModel(Dense(10, 10)) [\"s\"]"
     ]
    }
   ],
   "source": [
    "m = reflectinmodel(ds)\n",
    "printtree(m; trav=true)"
   ]
  },
  {
   "cell_type": "code",
   "execution_count": 82,
   "metadata": {},
   "outputs": [
    {
     "data": {
      "text/plain": [
       "\u001b[39mArrayModel(identity)"
      ]
     },
     "execution_count": 82,
     "metadata": {},
     "output_type": "execute_result"
    }
   ],
   "source": [
    "m[\"E\"].m"
   ]
  },
  {
   "cell_type": "code",
   "execution_count": 83,
   "metadata": {},
   "outputs": [
    {
     "data": {
      "text/plain": [
       "1×1 PreImputingMatrix{Float32,Array{Float32,1},Array{Float32,2}}:\n",
       "W:\n",
       " 1.0\n",
       "\n",
       "ψ:\n",
       " 0.0"
      ]
     },
     "execution_count": 83,
     "metadata": {},
     "output_type": "execute_result"
    }
   ],
   "source": [
    "m[\"Q\"].m.W"
   ]
  },
  {
   "cell_type": "code",
   "execution_count": 84,
   "metadata": {},
   "outputs": [
    {
     "name": "stdout",
     "output_type": "stream",
     "text": [
      "\u001b[34mProductModel ↦ ArrayModel(Dense(30, 10))\u001b[39m\n",
      "\u001b[34m  ├── a: \u001b[39m\u001b[31mProductModel ↦ ArrayModel(Dense(10, 10))\u001b[39m\n",
      "\u001b[34m  │      \u001b[39m\u001b[31m  └── aa: \u001b[39m\u001b[32mBagModel ↦ ⟨SegmentedMean(10)⟩ ↦ ArrayModel(Dense(10, 10))\u001b[39m\n",
      "\u001b[34m  │      \u001b[39m\u001b[31m          \u001b[39m\u001b[32m  └── \u001b[39m\u001b[39mArrayModel(PreImputingDense(1, 10))\n",
      "\u001b[34m  ├── b: \u001b[39m\u001b[31mProductModel ↦ ArrayModel(Dense(20, 10))\u001b[39m\n",
      "\u001b[34m  │      \u001b[39m\u001b[31m  ├── ba: \u001b[39m\u001b[39mArrayModel(PostImputingDense(2053, 10))\n",
      "\u001b[34m  │      \u001b[39m\u001b[31m  └── bb: \u001b[39m\u001b[39mArrayModel(Dense(2053, 10))\n",
      "\u001b[34m  └── c: \u001b[39m\u001b[31mProductModel ↦ ArrayModel(Dense(20, 10))\u001b[39m\n",
      "\u001b[34m         \u001b[39m\u001b[31m  ├── ca: \u001b[39m\u001b[39mArrayModel(PostImputingDense(10, 10))\n",
      "\u001b[34m         \u001b[39m\u001b[31m  └── cb: \u001b[39m\u001b[39mArrayModel(Dense(10, 10))"
     ]
    }
   ],
   "source": [
    "m = reflectinmodel(ds; single_key_identity=false, single_scalar_identity=false)\n",
    "printtree(m)"
   ]
  },
  {
   "cell_type": "code",
   "execution_count": 85,
   "metadata": {},
   "outputs": [
    {
     "data": {
      "text/plain": [
       "ArrayNode{Array{Float32,2},Nothing}:\n",
       " -0.5824197f0    -1.2803533f0    0.27412367f0  -1.3914753f0\n",
       " -0.017148316f0  -0.28040183f0  -0.5657954f0   -0.6519864f0\n",
       " -0.13130462f0    0.1808702f0   -0.47555473f0   0.2845776f0\n",
       "  0.016083531f0  -0.48261806f0  -0.37675557f0  -0.89310277f0\n",
       " -0.20278543f0   -0.99934375f0  -0.00856679f0  -1.3289661f0\n",
       " -0.610347f0     -0.6957619f0    0.36581814f0  -1.3133608f0\n",
       "  0.46559334f0    0.09769949f0   0.07922515f0   0.069334954f0\n",
       "  0.4810563f0     0.32970187f0  -0.16699517f0   0.36774486f0\n",
       " -0.6218535f0    -0.34487528f0   0.20834185f0  -0.07497307f0\n",
       "  0.2815043f0    -0.21695824f0  -0.17535739f0  -0.5719641f0"
      ]
     },
     "execution_count": 85,
     "metadata": {},
     "output_type": "execute_result"
    }
   ],
   "source": [
    "m(ds)"
   ]
  },
  {
   "cell_type": "code",
   "execution_count": 86,
   "metadata": {},
   "outputs": [
    {
     "data": {
      "text/plain": [
       "((ms = (a = (ms = (aa = (im = (m = (W = (W = Float32[0.81533116; 1.1350142; … ; 3.475454; 2.0494342], ψ = Float32[-0.71509427]), b = Float32[0.22859754, 0.31822827, 1.3198678, 3.3016734, 1.5490509, -1.2158129, -2.9288917, 4.742551, 0.9744264, 0.57460773], σ = nothing),), a = (fs = ((ψ = Float32[0.076199174, 0.10607609, 0.439956, 1.1005578, 0.5163504, -0.40527093, -0.97629726, 1.5808504, 0.3248088, 0.19153592],),),), bm = (m = (W = Float32[-0.32294756 -1.4823573 … 2.4718795 -1.4233576; 0.29382825 1.3486971 … -2.2489967 1.2950172; … ; -0.50565386 -2.320995 … 3.8703356 -2.2286165; 1.1035519 5.0653987 … -8.446719 4.8637896], b = Float32[1.333145, -1.2129389, 3.1436987, 1.9234235, 4.6478662, 5.5194383, 2.3805075, 4.8733354, 2.0873666, -4.555522], σ = nothing),)),), m = (m = (W = Float32[7.464212 3.4295392 … -8.68814 8.58575; -3.0392654 -1.3964341 … 3.5376225 -3.4959314; … ; -6.0898952 -2.7980897 … 7.0884724 -7.0049343; 4.066519 1.8684204 … -4.7333174 4.677535], b = Float32[6.671994, -2.7166915, -2.656628, -1.6335356, -4.162451, -1.614713, -4.3802247, 0.53519464, -5.443541, 3.6349168], σ = nothing),)), b = (ms = (ba = (m = (W = (W = Float32[0.0 0.0 … 0.0 0.0; 0.0 0.0 … 0.0 0.0; … ; 0.0 0.0 … 0.0 0.0; 0.0 0.0 … 0.0 0.0], ψ = Float32[1.7025591; -0.7640568; … ; 0.08239015; 0.88238305]), b = Float32[3.4051182, -1.5281136, 0.43383318, -0.85819805, 3.3850973, 1.4791889, 3.4949136, 1.3923587, 0.1647803, 1.7647661], σ = nothing),), bb = (m = (W = Float32[0.0 -0.80699766 … 0.0 0.0; 0.0 1.7845073 … 0.0 0.0; … ; 0.0 0.9489465 … 0.0 0.0; 0.0 0.59297335 … 0.0 0.0], b = Float32[-3.2279906, 7.138029, 3.2683525, 0.5841025, -6.1409025, 1.3718907, 6.5617366, -1.7386514, 3.795786, 2.3718934], σ = nothing),)), m = (m = (W = Float32[0.0059533715 0.041489728 … -0.05233291 0.07799132; -0.009198546 -0.06410573 … 0.08085952 -0.12050429; … ; -0.013546045 -0.09440394 … 0.11907604 -0.1774581; 0.0040352424 0.028122064 … -0.035471655 0.05286313], b = Float32[1.8807607, -2.905961, -5.5685763, -4.9984865, -0.87468505, 2.590669, -4.1426735, 4.3026323, -4.279402, 1.2747943], σ = nothing),)), c = (ms = (ca = (m = (W = (W = Float32[0.45032278 0.0 … 0.45032278 0.0; -0.6267268 0.0 … -0.6267268 0.0; … ; 1.6438818 0.0 … 1.6438818 0.0; -1.3730321 0.0 … -1.3730321 0.0], ψ = Float32[0.90064555; -1.2534536; … ; 3.2877636; -2.7460642]), b = Float32[1.8012911, -2.5069072, 2.864562, 0.29342127, 3.8627696, -3.1988876, 3.6487362, 0.0931516, 6.575527, -5.4921284], σ = nothing),), cb = (m = (W = Float32[0.15449858 0.15449858 … 0.0 0.0; 0.13457127 0.13457127 … 0.0 0.0; … ; 0.4863073 0.4863073 … 0.0 0.0; 0.32014775 0.32014775 … 0.0 0.0], b = Float32[0.6179943, 0.5382851, 1.4789016, 0.82679784, -0.99977416, -3.4124596, -0.950417, -1.9406945, 1.9452292, 1.280591], σ = nothing),)), m = (m = (W = Float32[-0.11145729 0.11290444 … -0.26406768 -0.10113106; 0.013816186 -0.013995574 … 0.03273369 0.012536152; … ; -0.0868587 0.08798646 … -0.20578802 -0.07881146; 0.03437656 -0.0348229 … 0.081445895 0.031191662], b = Float32[1.788901, -0.22175121, -2.8615167, -1.7033571, 6.883813, -4.0804496, 3.2395406, -0.73108125, 1.394091, -0.5517473], σ = nothing),))), m = (m = (W = Float32[-0.78031266 -3.0863795 … 0.30108312 -0.29897577; -0.78031266 -3.0863795 … 0.30108312 -0.29897577; … ; -0.78031266 -3.0863795 … 0.30108312 -0.29897577; -0.78031266 -3.0863795 … 0.30108312 -0.29897577], b = Float32[4.0, 4.0, 4.0, 4.0, 4.0, 4.0, 4.0, 4.0, 4.0, 4.0], σ = nothing),)),)"
      ]
     },
     "execution_count": 86,
     "metadata": {},
     "output_type": "execute_result"
    }
   ],
   "source": [
    "g = gradient(m -> sum(m(ds).data), m)"
   ]
  },
  {
   "cell_type": "markdown",
   "metadata": {},
   "source": [
    "## Lens utilities\n",
    "- ModelLens\n",
    "- findnonempty\n",
    "- findin\n",
    "- replacein"
   ]
  },
  {
   "cell_type": "code",
   "execution_count": 87,
   "metadata": {},
   "outputs": [
    {
     "name": "stdout",
     "output_type": "stream",
     "text": [
      "\u001b[34mProductNode with 4 obs [\"\"]\u001b[39m\n",
      "\u001b[34m  ├── a: \u001b[39m\u001b[31mProductNode with 4 obs [\"E\"]\u001b[39m\n",
      "\u001b[34m  │      \u001b[39m\u001b[31m  └── aa: \u001b[39m\u001b[32mBagNode with 4 obs [\"M\"]\u001b[39m\n",
      "\u001b[34m  │      \u001b[39m\u001b[31m          \u001b[39m\u001b[32m  └── \u001b[39m\u001b[39mArrayNode(1×10 Array, Union{Missing, Int64}) with 10 obs [\"Q\"]\n",
      "\u001b[34m  ├── b: \u001b[39m\u001b[31mProductNode with 4 obs [\"U\"]\u001b[39m\n",
      "\u001b[34m  │      \u001b[39m\u001b[31m  ├── ba: \u001b[39m\u001b[39mArrayNode(2053×4 NGramMatrix, Union{Missing, Int64}) with 4 obs [\"Y\"]\n",
      "\u001b[34m  │      \u001b[39m\u001b[31m  └── bb: \u001b[39m\u001b[39mArrayNode(2053×4 NGramMatrix, Int64) with 4 obs [\"c\"]\n",
      "\u001b[34m  └── c: \u001b[39m\u001b[31mProductNode with 4 obs [\"k\"]\u001b[39m\n",
      "\u001b[34m         \u001b[39m\u001b[31m  ├── ca: \u001b[39m\u001b[39mArrayNode(10×4 MaybeHotMatrix, Union{Missing, Bool}) with 4 obs [\"o\"]\n",
      "\u001b[34m         \u001b[39m\u001b[31m  └── cb: \u001b[39m\u001b[39mArrayNode(10×4 MaybeHotMatrix, Bool) with 4 obs [\"s\"]"
     ]
    }
   ],
   "source": [
    "printtree(ds; trav=true)"
   ]
  },
  {
   "cell_type": "code",
   "execution_count": 88,
   "metadata": {},
   "outputs": [
    {
     "name": "stdout",
     "output_type": "stream",
     "text": [
      "\u001b[34mProductModel ↦ ArrayModel(Dense(30, 10)) [\"\"]\u001b[39m\n",
      "\u001b[34m  ├── a: \u001b[39m\u001b[31mProductModel ↦ ArrayModel(Dense(10, 10)) [\"E\"]\u001b[39m\n",
      "\u001b[34m  │      \u001b[39m\u001b[31m  └── aa: \u001b[39m\u001b[32mBagModel ↦ ⟨SegmentedMean(10)⟩ ↦ ArrayModel(Dense(10, 10)) [\"M\"]\u001b[39m\n",
      "\u001b[34m  │      \u001b[39m\u001b[31m          \u001b[39m\u001b[32m  └── \u001b[39m\u001b[39mArrayModel(PreImputingDense(1, 10)) [\"Q\"]\n",
      "\u001b[34m  ├── b: \u001b[39m\u001b[31mProductModel ↦ ArrayModel(Dense(20, 10)) [\"U\"]\u001b[39m\n",
      "\u001b[34m  │      \u001b[39m\u001b[31m  ├── ba: \u001b[39m\u001b[39mArrayModel(PostImputingDense(2053, 10)) [\"Y\"]\n",
      "\u001b[34m  │      \u001b[39m\u001b[31m  └── bb: \u001b[39m\u001b[39mArrayModel(Dense(2053, 10)) [\"c\"]\n",
      "\u001b[34m  └── c: \u001b[39m\u001b[31mProductModel ↦ ArrayModel(Dense(20, 10)) [\"k\"]\u001b[39m\n",
      "\u001b[34m         \u001b[39m\u001b[31m  ├── ca: \u001b[39m\u001b[39mArrayModel(PostImputingDense(10, 10)) [\"o\"]\n",
      "\u001b[34m         \u001b[39m\u001b[31m  └── cb: \u001b[39m\u001b[39mArrayModel(Dense(10, 10)) [\"s\"]"
     ]
    }
   ],
   "source": [
    "printtree(m; trav=true)"
   ]
  },
  {
   "cell_type": "code",
   "execution_count": 89,
   "metadata": {},
   "outputs": [
    {
     "data": {
      "text/plain": [
       "5-element Array{Setfield.ComposedLens{Setfield.PropertyLens{:data},_A} where _A,1}:\n",
       " (@lens _.data.a.data.aa.data.data)\n",
       " (@lens _.data.b.data.ba.data)\n",
       " (@lens _.data.b.data.bb.data)\n",
       " (@lens _.data.c.data.ca.data)\n",
       " (@lens _.data.c.data.cb.data)"
      ]
     },
     "execution_count": 89,
     "metadata": {},
     "output_type": "execute_result"
    }
   ],
   "source": [
    "lens = findnonempty(ds)"
   ]
  },
  {
   "cell_type": "code",
   "execution_count": 90,
   "metadata": {},
   "outputs": [
    {
     "data": {
      "text/plain": [
       "5-element Array{Setfield.ComposedLens{Setfield.PropertyLens{:ms},LI} where LI,1}:\n",
       " (@lens _.ms.a.ms.aa.im.m)\n",
       " (@lens _.ms.b.ms.ba.m)\n",
       " (@lens _.ms.b.ms.bb.m)\n",
       " (@lens _.ms.c.ms.ca.m)\n",
       " (@lens _.ms.c.ms.cb.m)"
      ]
     },
     "execution_count": 90,
     "metadata": {},
     "output_type": "execute_result"
    }
   ],
   "source": [
    "[ModelLens(m, l) for l in lens]"
   ]
  },
  {
   "cell_type": "code",
   "execution_count": 91,
   "metadata": {},
   "outputs": [
    {
     "name": "stdout",
     "output_type": "stream",
     "text": [
      "\u001b[34mProductNode with 4 obs\u001b[39m\n",
      "\u001b[34m  ├── a: \u001b[39m\u001b[31mProductNode with 4 obs\u001b[39m\n",
      "\u001b[34m  │      \u001b[39m\u001b[31m  └── aa: \u001b[39m\u001b[32mBagNode with 4 obs\u001b[39m\n",
      "\u001b[34m  │      \u001b[39m\u001b[31m          \u001b[39m\u001b[32m  └── \u001b[39m\u001b[39mArrayNode(1×10 Array, Float64) with 10 obs\n",
      "\u001b[34m  ├── b: \u001b[39m\u001b[31mProductNode with 4 obs\u001b[39m\n",
      "\u001b[34m  │      \u001b[39m\u001b[31m  ├── ba: \u001b[39m\u001b[39mArrayNode(2053×4 NGramMatrix, Union{Missing, Int64}) with 4 obs\n",
      "\u001b[34m  │      \u001b[39m\u001b[31m  └── bb: \u001b[39m\u001b[39mArrayNode(2053×4 NGramMatrix, Int64) with 4 obs\n",
      "\u001b[34m  └── c: \u001b[39m\u001b[31mProductNode with 4 obs\u001b[39m\n",
      "\u001b[34m         \u001b[39m\u001b[31m  ├── ca: \u001b[39m\u001b[39mArrayNode(10×4 MaybeHotMatrix, Union{Missing, Bool}) with 4 obs\n",
      "\u001b[34m         \u001b[39m\u001b[31m  └── cb: \u001b[39m\u001b[39mArrayNode(10×4 MaybeHotMatrix, Bool) with 4 obs"
     ]
    }
   ],
   "source": [
    "n = ArrayNode(rand(1, 10))\n",
    "ds2 = replacein(ds, ds[\"Q\"], n)\n",
    "printtree(ds2)"
   ]
  },
  {
   "cell_type": "code",
   "execution_count": 92,
   "metadata": {},
   "outputs": [],
   "source": [
    "findin(ds, n)"
   ]
  },
  {
   "cell_type": "code",
   "execution_count": 93,
   "metadata": {},
   "outputs": [
    {
     "data": {
      "text/plain": [
       "(@lens _.data.a.data.aa.data)"
      ]
     },
     "execution_count": 93,
     "metadata": {},
     "output_type": "execute_result"
    }
   ],
   "source": [
    "findin(ds2, n)"
   ]
  },
  {
   "cell_type": "markdown",
   "metadata": {},
   "source": [
    "## Error checks"
   ]
  },
  {
   "cell_type": "code",
   "execution_count": 94,
   "metadata": {},
   "outputs": [
    {
     "ename": "LoadError",
     "evalue": "ArgumentError: It doesn't make sense to vcat PreImputingMatrices",
     "output_type": "error",
     "traceback": [
      "ArgumentError: It doesn't make sense to vcat PreImputingMatrices",
      "",
      "Stacktrace:",
      " [1] |>(::ArgumentError, ::typeof(throw)) at ./operators.jl:834",
      " [2] vcat(::PreImputingMatrix{Float64,Array{Float64,1},Array{Float64,2}}, ::PreImputingMatrix{Float64,Array{Float64,1},Array{Float64,2}}) at /Users/simon.mandlik/.julia/dev/Mill/src/matrices/pre_imputing_matrix.jl:14",
      " [3] top-level scope at In[94]:1",
      " [4] include_string(::Function, ::Module, ::String, ::String) at ./loading.jl:1091",
      " [5] execute_code(::String, ::String) at /Users/simon.mandlik/.julia/packages/IJulia/rWZ9e/src/execute_request.jl:27",
      " [6] execute_request(::ZMQ.Socket, ::IJulia.Msg) at /Users/simon.mandlik/.julia/packages/IJulia/rWZ9e/src/execute_request.jl:86",
      " [7] #invokelatest#1 at ./essentials.jl:710 [inlined]",
      " [8] invokelatest at ./essentials.jl:709 [inlined]",
      " [9] eventloop(::ZMQ.Socket) at /Users/simon.mandlik/.julia/packages/IJulia/rWZ9e/src/eventloop.jl:8",
      " [10] (::IJulia.var\"#15#18\")() at ./task.jl:356"
     ]
    }
   ],
   "source": [
    "vcat(PreImputingMatrix(rand(2,2)),\n",
    "     PreImputingMatrix(rand(2,2))\n",
    ")"
   ]
  },
  {
   "cell_type": "code",
   "execution_count": 95,
   "metadata": {},
   "outputs": [
    {
     "ename": "LoadError",
     "evalue": "ArgumentError: It doesn't make sense to hcat PostImputingMatrices",
     "output_type": "error",
     "traceback": [
      "ArgumentError: It doesn't make sense to hcat PostImputingMatrices",
      "",
      "Stacktrace:",
      " [1] |>(::ArgumentError, ::typeof(throw)) at ./operators.jl:834",
      " [2] hcat(::PostImputingMatrix{Float64,Array{Float64,1},Array{Float64,2}}, ::PostImputingMatrix{Float64,Array{Float64,1},Array{Float64,2}}) at /Users/simon.mandlik/.julia/dev/Mill/src/matrices/post_imputing_matrix.jl:14",
      " [3] top-level scope at In[95]:1",
      " [4] include_string(::Function, ::Module, ::String, ::String) at ./loading.jl:1091",
      " [5] execute_code(::String, ::String) at /Users/simon.mandlik/.julia/packages/IJulia/rWZ9e/src/execute_request.jl:27",
      " [6] execute_request(::ZMQ.Socket, ::IJulia.Msg) at /Users/simon.mandlik/.julia/packages/IJulia/rWZ9e/src/execute_request.jl:86",
      " [7] #invokelatest#1 at ./essentials.jl:710 [inlined]",
      " [8] invokelatest at ./essentials.jl:709 [inlined]",
      " [9] eventloop(::ZMQ.Socket) at /Users/simon.mandlik/.julia/packages/IJulia/rWZ9e/src/eventloop.jl:8",
      " [10] (::IJulia.var\"#15#18\")() at ./task.jl:356"
     ]
    }
   ],
   "source": [
    "hcat(PostImputingMatrix(rand(2,2)),\n",
    "     PostImputingMatrix(rand(2,2))\n",
    ")"
   ]
  },
  {
   "cell_type": "code",
   "execution_count": 96,
   "metadata": {},
   "outputs": [
    {
     "ename": "LoadError",
     "evalue": "DimensionMismatch(\"Number of columns of A (2) must correspond with number of rows of B (3)\")",
     "output_type": "error",
     "traceback": [
      "DimensionMismatch(\"Number of columns of A (2) must correspond with number of rows of B (3)\")",
      "",
      "Stacktrace:",
      " [1] |>(::DimensionMismatch, ::typeof(throw)) at ./operators.jl:834",
      " [2] _check_mul at /Users/simon.mandlik/.julia/dev/Mill/src/matrices/matrix.jl:14 [inlined]",
      " [3] *(::PreImputingMatrix{Float64,Array{Float64,1},Array{Float64,2}}, ::Array{Float64,2}) at /Users/simon.mandlik/.julia/dev/Mill/src/matrices/pre_imputing_matrix.jl:19",
      " [4] top-level scope at In[96]:1",
      " [5] include_string(::Function, ::Module, ::String, ::String) at ./loading.jl:1091",
      " [6] execute_code(::String, ::String) at /Users/simon.mandlik/.julia/packages/IJulia/rWZ9e/src/execute_request.jl:27",
      " [7] execute_request(::ZMQ.Socket, ::IJulia.Msg) at /Users/simon.mandlik/.julia/packages/IJulia/rWZ9e/src/execute_request.jl:86",
      " [8] #invokelatest#1 at ./essentials.jl:710 [inlined]",
      " [9] invokelatest at ./essentials.jl:709 [inlined]",
      " [10] eventloop(::ZMQ.Socket) at /Users/simon.mandlik/.julia/packages/IJulia/rWZ9e/src/eventloop.jl:8",
      " [11] (::IJulia.var\"#15#18\")() at ./task.jl:356"
     ]
    }
   ],
   "source": [
    "PreImputingMatrix(rand(2,2)) * rand(3,3)"
   ]
  },
  {
   "cell_type": "code",
   "execution_count": 97,
   "metadata": {},
   "outputs": [
    {
     "ename": "LoadError",
     "evalue": "DimensionMismatch(\"Number of columns of A (2) must correspond with length of b (4)\")",
     "output_type": "error",
     "traceback": [
      "DimensionMismatch(\"Number of columns of A (2) must correspond with length of b (4)\")",
      "",
      "Stacktrace:",
      " [1] |>(::DimensionMismatch, ::typeof(throw)) at ./operators.jl:834",
      " [2] _check_mul at /Users/simon.mandlik/.julia/dev/Mill/src/matrices/matrix.jl:6 [inlined]",
      " [3] *(::PostImputingMatrix{Float64,Array{Float64,1},Array{Float64,2}}, ::MaybeHotVector{Int64,Int64,Bool}) at /Users/simon.mandlik/.julia/dev/Mill/src/matrices/post_imputing_matrix.jl:21",
      " [4] top-level scope at In[97]:1",
      " [5] include_string(::Function, ::Module, ::String, ::String) at ./loading.jl:1091",
      " [6] execute_code(::String, ::String) at /Users/simon.mandlik/.julia/packages/IJulia/rWZ9e/src/execute_request.jl:27",
      " [7] execute_request(::ZMQ.Socket, ::IJulia.Msg) at /Users/simon.mandlik/.julia/packages/IJulia/rWZ9e/src/execute_request.jl:86",
      " [8] #invokelatest#1 at ./essentials.jl:710 [inlined]",
      " [9] invokelatest at ./essentials.jl:709 [inlined]",
      " [10] eventloop(::ZMQ.Socket) at /Users/simon.mandlik/.julia/packages/IJulia/rWZ9e/src/eventloop.jl:8",
      " [11] (::IJulia.var\"#15#18\")() at ./task.jl:356"
     ]
    }
   ],
   "source": [
    "PostImputingMatrix(rand(2,2)) * maybehot(1, 1:4)"
   ]
  },
  {
   "cell_type": "code",
   "execution_count": 98,
   "metadata": {},
   "outputs": [
    {
     "ename": "LoadError",
     "evalue": "BoundsError: attempt to access 4-element MaybeHotVector{Int64,Int64,Bool} at index [5]",
     "output_type": "error",
     "traceback": [
      "BoundsError: attempt to access 4-element MaybeHotVector{Int64,Int64,Bool} at index [5]",
      "",
      "Stacktrace:",
      " [1] throw_boundserror(::MaybeHotVector{Int64,Int64,Bool}, ::Tuple{Int64}) at ./abstractarray.jl:541",
      " [2] checkbounds at ./abstractarray.jl:506 [inlined]",
      " [3] getindex(::MaybeHotVector{Int64,Int64,Bool}, ::Int64) at /Users/simon.mandlik/.julia/dev/Mill/src/matrices/maybe_hot_vector.jl:11",
      " [4] top-level scope at In[98]:1",
      " [5] include_string(::Function, ::Module, ::String, ::String) at ./loading.jl:1091",
      " [6] execute_code(::String, ::String) at /Users/simon.mandlik/.julia/packages/IJulia/rWZ9e/src/execute_request.jl:27",
      " [7] execute_request(::ZMQ.Socket, ::IJulia.Msg) at /Users/simon.mandlik/.julia/packages/IJulia/rWZ9e/src/execute_request.jl:86",
      " [8] #invokelatest#1 at ./essentials.jl:710 [inlined]",
      " [9] invokelatest at ./essentials.jl:709 [inlined]",
      " [10] eventloop(::ZMQ.Socket) at /Users/simon.mandlik/.julia/packages/IJulia/rWZ9e/src/eventloop.jl:8",
      " [11] (::IJulia.var\"#15#18\")() at ./task.jl:356"
     ]
    }
   ],
   "source": [
    "maybehot(1, 1:4)[5]"
   ]
  },
  {
   "cell_type": "code",
   "execution_count": 99,
   "metadata": {},
   "outputs": [
    {
     "ename": "LoadError",
     "evalue": "BoundsError: attempt to access 2053×2 NGramMatrix{String,Array{String,1},Int64} at index [:, 3]",
     "output_type": "error",
     "traceback": [
      "BoundsError: attempt to access 2053×2 NGramMatrix{String,Array{String,1},Int64} at index [:, 3]",
      "",
      "Stacktrace:",
      " [1] throw_boundserror(::NGramMatrix{String,Array{String,1},Int64}, ::Tuple{Colon,Int64}) at ./abstractarray.jl:541",
      " [2] checkbounds(::NGramMatrix{String,Array{String,1},Int64}, ::Function, ::Int64) at ./abstractarray.jl:506",
      " [3] getindex(::NGramMatrix{String,Array{String,1},Int64}, ::Function, ::Int64) at /Users/simon.mandlik/.julia/dev/Mill/src/matrices/ngram_matrix.jl:178",
      " [4] top-level scope at In[99]:1",
      " [5] include_string(::Function, ::Module, ::String, ::String) at ./loading.jl:1091",
      " [6] execute_code(::String, ::String) at /Users/simon.mandlik/.julia/packages/IJulia/rWZ9e/src/execute_request.jl:27",
      " [7] execute_request(::ZMQ.Socket, ::IJulia.Msg) at /Users/simon.mandlik/.julia/packages/IJulia/rWZ9e/src/execute_request.jl:86",
      " [8] #invokelatest#1 at ./essentials.jl:710 [inlined]",
      " [9] invokelatest at ./essentials.jl:709 [inlined]",
      " [10] eventloop(::ZMQ.Socket) at /Users/simon.mandlik/.julia/packages/IJulia/rWZ9e/src/eventloop.jl:8",
      " [11] (::IJulia.var\"#15#18\")() at ./task.jl:356"
     ]
    }
   ],
   "source": [
    "NGramMatrix([\"a\", \"b\"])[:, 3]"
   ]
  },
  {
   "cell_type": "markdown",
   "metadata": {},
   "source": [
    "## Other changes\n",
    "\n",
    "- renamed default params everywhere to `ψ` for consistency\n",
    "- `terseprint` is gone and will be available from a standalone package\n",
    "- `!` versions of functions for global flags\n",
    "- `ChainRulesCore.rrule` instead of `Zygote.@adjoint` where possible\n",
    "- `Nothing{T}` and `Maybe{T}` union types\n",
    "- `ImputingMatrix`, `Sequence`\n",
    "- `IdentityModel` changed to `ArrayMode{::typeof(identity)}`\n",
    "- `3x` more tests than before\n",
    "- more efficient aggregation operators\n",
    "- at least `julia-1.5` required from now on\n",
    "- `nobs` from `LearnBase` gone and replaced by `StatsBase` version\n",
    "- `Macrotools` as a dependency used from `Flux`\n",
    "- `NGramIterator` now works with starting and ending characters\n",
    "- `MillString` prototyped\n",
    "- reworked and simplified gradient checking tests"
   ]
  },
  {
   "cell_type": "markdown",
   "metadata": {},
   "source": [
    "# Still TODO:\n",
    "- profiling and benchmarking performance\n",
    "- documentation\n",
    "- merge to master and release"
   ]
  },
  {
   "cell_type": "code",
   "execution_count": null,
   "metadata": {},
   "outputs": [],
   "source": []
  }
 ],
 "metadata": {
  "kernelspec": {
   "display_name": "Julia 1.5.0",
   "language": "julia",
   "name": "julia-1.5"
  },
  "language_info": {
   "file_extension": ".jl",
   "mimetype": "application/julia",
   "name": "julia",
   "version": "1.5.0"
  }
 },
 "nbformat": 4,
 "nbformat_minor": 4
}

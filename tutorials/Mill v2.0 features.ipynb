{
 "cells": [
  {
   "cell_type": "markdown",
   "metadata": {},
   "source": [
    "# Mill v2.0 features"
   ]
  },
  {
   "cell_type": "code",
   "execution_count": 1,
   "metadata": {},
   "outputs": [
    {
     "name": "stderr",
     "output_type": "stream",
     "text": [
      "┌ Info: Precompiling Mill [1d0525e4-8992-11e8-313c-e310e1f6ddea]\n",
      "└ @ Base loading.jl:1278\n"
     ]
    }
   ],
   "source": [
    "using Mill, Flux, FileIO, JLD2, SparseArrays, BenchmarkTools, Setfield"
   ]
  },
  {
   "cell_type": "markdown",
   "metadata": {},
   "source": [
    "## Bag count\n",
    "\n",
    "- `AggregationFunction` changed to `AggregationOperator` for clarity and are not meant to be used by the user.\n",
    "- Reduced number of exported `Segmented*` methods\n",
    "- `Segmented*` calls now return `Aggregation` type even for aggregations using only one operator.\n",
    "- All `Aggregation{T}` types now append `log(length(bag) + one(T))` unless a global flag is not set\n",
    "- slightly more strict type checking\n",
    "- `Aggregation` is now flattened upon construction\n",
    "- smart `vcat` implemented"
   ]
  },
  {
   "cell_type": "code",
   "execution_count": 2,
   "metadata": {},
   "outputs": [
    {
     "data": {
      "text/plain": [
       "Aggregation{Float32,2}:\n",
       " SegmentedMean(ψ = Float32[0.0, 0.0, 0.0])\n",
       " SegmentedMax(ψ = Float32[0.0, 0.0, 0.0])"
      ]
     },
     "execution_count": 2,
     "metadata": {},
     "output_type": "execute_result"
    }
   ],
   "source": [
    "a = SegmentedMeanMax(3)"
   ]
  },
  {
   "cell_type": "code",
   "execution_count": 3,
   "metadata": {},
   "outputs": [
    {
     "data": {
      "text/plain": [
       "Aggregation{Float32,1}"
      ]
     },
     "execution_count": 3,
     "metadata": {},
     "output_type": "execute_result"
    }
   ],
   "source": [
    "SegmentedMean(3) |> typeof"
   ]
  },
  {
   "cell_type": "code",
   "execution_count": 4,
   "metadata": {},
   "outputs": [
    {
     "data": {
      "text/plain": [
       "SegmentedMean{Float64,Array{Float64,1}}"
      ]
     },
     "execution_count": 4,
     "metadata": {},
     "output_type": "execute_result"
    }
   ],
   "source": [
    "SegmentedMean(zeros(3)) |> typeof"
   ]
  },
  {
   "cell_type": "code",
   "execution_count": 5,
   "metadata": {},
   "outputs": [
    {
     "data": {
      "text/plain": [
       "3×3 Array{Float32,2}:\n",
       " 1.0  4.0  7.0\n",
       " 2.0  5.0  8.0\n",
       " 3.0  6.0  9.0"
      ]
     },
     "execution_count": 5,
     "metadata": {},
     "output_type": "execute_result"
    }
   ],
   "source": [
    "x = reshape(1:9, 3, 3) |> f32"
   ]
  },
  {
   "cell_type": "code",
   "execution_count": 6,
   "metadata": {},
   "outputs": [
    {
     "data": {
      "text/plain": [
       "7×2 Array{Float32,2}:\n",
       " 2.5      7.0\n",
       " 3.5      8.0\n",
       " 4.5      9.0\n",
       " 4.0      7.0\n",
       " 5.0      8.0\n",
       " 6.0      9.0\n",
       " 1.09861  0.693147"
      ]
     },
     "execution_count": 6,
     "metadata": {},
     "output_type": "execute_result"
    }
   ],
   "source": [
    "a(x, Mill.bags([1:2, 3:3]))"
   ]
  },
  {
   "cell_type": "code",
   "execution_count": 7,
   "metadata": {},
   "outputs": [
    {
     "data": {
      "text/plain": [
       "7×2 Array{Float32,2}:\n",
       " 2.5      0.0\n",
       " 3.5      0.0\n",
       " 4.5      0.0\n",
       " 4.0      0.0\n",
       " 5.0      0.0\n",
       " 6.0      0.0\n",
       " 1.09861  0.0"
      ]
     },
     "execution_count": 7,
     "metadata": {},
     "output_type": "execute_result"
    }
   ],
   "source": [
    "a(x[:, 1:2], Mill.bags([1:2, 0:-1]))"
   ]
  },
  {
   "cell_type": "code",
   "execution_count": 8,
   "metadata": {},
   "outputs": [
    {
     "data": {
      "text/plain": [
       "true"
      ]
     },
     "execution_count": 8,
     "metadata": {},
     "output_type": "execute_result"
    }
   ],
   "source": [
    "Mill.bagcount()"
   ]
  },
  {
   "cell_type": "code",
   "execution_count": 9,
   "metadata": {},
   "outputs": [
    {
     "data": {
      "text/plain": [
       "false"
      ]
     },
     "execution_count": 9,
     "metadata": {},
     "output_type": "execute_result"
    }
   ],
   "source": [
    "Mill.bagcount!(false)\n",
    "Mill.bagcount()"
   ]
  },
  {
   "cell_type": "code",
   "execution_count": 10,
   "metadata": {},
   "outputs": [
    {
     "data": {
      "text/plain": [
       "6×2 Array{Float32,2}:\n",
       " 2.5  7.0\n",
       " 3.5  8.0\n",
       " 4.5  9.0\n",
       " 4.0  7.0\n",
       " 5.0  8.0\n",
       " 6.0  9.0"
      ]
     },
     "execution_count": 10,
     "metadata": {},
     "output_type": "execute_result"
    }
   ],
   "source": [
    "a(x, Mill.bags([1:2, 3:3]))"
   ]
  },
  {
   "cell_type": "code",
   "execution_count": 11,
   "metadata": {},
   "outputs": [
    {
     "data": {
      "text/plain": [
       "Aggregation{Float32,4}:\n",
       " SegmentedPNorm(ψ = Float32[-1.16676, -0.50926, -1.0909], ρ = Float32[-0.114274, -0.177889, -0.630055], c = Float32[0.0, 0.0, 0.0])\n",
       " SegmentedLSE(ψ = Float32[-2.76175, -0.205343, -1.6741], ρ = Float32[0.0, 0.0, 0.0])\n",
       " SegmentedMean(ψ = Float32[0.0, 0.0, 0.0])\n",
       " SegmentedMax(ψ = Float32[0.0, 0.0, 0.0])"
      ]
     },
     "execution_count": 11,
     "metadata": {},
     "output_type": "execute_result"
    }
   ],
   "source": [
    "a = Aggregation(SegmentedPNormLSE(3), Aggregation(SegmentedMean(3)), SegmentedMax(3))"
   ]
  },
  {
   "cell_type": "code",
   "execution_count": 12,
   "metadata": {},
   "outputs": [
    {
     "data": {
      "text/plain": [
       "Aggregation{Float32,3}:\n",
       " SegmentedMean(ψ = Float32[0.0, 0.0])\n",
       " SegmentedMean(ψ = Float32[0.0, 0.0])\n",
       " SegmentedMax(ψ = Float32[0.0, 0.0])"
      ]
     },
     "execution_count": 12,
     "metadata": {},
     "output_type": "execute_result"
    }
   ],
   "source": [
    "vcat(SegmentedMean(2), SegmentedMeanMax(2))"
   ]
  },
  {
   "cell_type": "markdown",
   "metadata": {},
   "source": [
    "## Pre (row) imputing"
   ]
  },
  {
   "cell_type": "code",
   "execution_count": 13,
   "metadata": {},
   "outputs": [
    {
     "data": {
      "text/plain": [
       "3×3 PreImputingMatrix{Float64,Array{Float64,1},Array{Float64,2}}:\n",
       "W:\n",
       " 0.409449  0.190346   0.455708\n",
       " 0.25234   0.855877   0.133464\n",
       " 0.80829   0.0958988  0.390138\n",
       "\n",
       "ψ:\n",
       " 0.0  0.0  0.0"
      ]
     },
     "execution_count": 13,
     "metadata": {},
     "output_type": "execute_result"
    }
   ],
   "source": [
    "A = PreImputingMatrix(rand(3,3))\n",
    "A::AbstractMatrix{Float64}"
   ]
  },
  {
   "cell_type": "code",
   "execution_count": 14,
   "metadata": {},
   "outputs": [
    {
     "data": {
      "text/plain": [
       "3×6 PreImputingMatrix{Float64,Array{Float64,1},Array{Float64,2}}:\n",
       "W:\n",
       " 0.409449  0.190346   0.455708  0.409449  0.190346   0.455708\n",
       " 0.25234   0.855877   0.133464  0.25234   0.855877   0.133464\n",
       " 0.80829   0.0958988  0.390138  0.80829   0.0958988  0.390138\n",
       "\n",
       "ψ:\n",
       " 0.0  0.0  0.0  0.0  0.0  0.0"
      ]
     },
     "execution_count": 14,
     "metadata": {},
     "output_type": "execute_result"
    }
   ],
   "source": [
    "hcat(A, A)"
   ]
  },
  {
   "cell_type": "code",
   "execution_count": 15,
   "metadata": {},
   "outputs": [
    {
     "data": {
      "text/plain": [
       "3×2 Array{Float64,2}:\n",
       " 0.761107  0.976524\n",
       " 0.939899  0.776236\n",
       " 0.111206  0.727761"
      ]
     },
     "execution_count": 15,
     "metadata": {},
     "output_type": "execute_result"
    }
   ],
   "source": [
    "X = rand(3, 2)"
   ]
  },
  {
   "cell_type": "code",
   "execution_count": 16,
   "metadata": {},
   "outputs": [
    {
     "data": {
      "text/plain": [
       "3×2 Array{Float64,2}:\n",
       " 0.541218  0.879237\n",
       " 1.01134   1.00791\n",
       " 0.748717  1.14768"
      ]
     },
     "execution_count": 16,
     "metadata": {},
     "output_type": "execute_result"
    }
   ],
   "source": [
    "A * X"
   ]
  },
  {
   "cell_type": "code",
   "execution_count": 17,
   "metadata": {},
   "outputs": [
    {
     "data": {
      "text/plain": [
       "3×2 Array{Union{Missing, Float64},2}:\n",
       " 1.0        missing\n",
       "  missing  2.0\n",
       " 3.0       4.0"
      ]
     },
     "execution_count": 17,
     "metadata": {},
     "output_type": "execute_result"
    }
   ],
   "source": [
    "Y = [1.0 missing; missing 2.0; 3.0 4.0]"
   ]
  },
  {
   "cell_type": "code",
   "execution_count": 18,
   "metadata": {},
   "outputs": [
    {
     "data": {
      "text/plain": [
       "3×2 Array{Float64,2}:\n",
       " 1.77657   2.20352\n",
       " 0.652732  2.24561\n",
       " 1.9787    1.75235"
      ]
     },
     "execution_count": 18,
     "metadata": {},
     "output_type": "execute_result"
    }
   ],
   "source": [
    "A * Y"
   ]
  },
  {
   "cell_type": "code",
   "execution_count": 19,
   "metadata": {},
   "outputs": [
    {
     "data": {
      "text/plain": [
       "3-element Array{Missing,1}:\n",
       " missing\n",
       " missing\n",
       " missing"
      ]
     },
     "execution_count": 19,
     "metadata": {},
     "output_type": "execute_result"
    }
   ],
   "source": [
    "Z = [missing, missing, missing]"
   ]
  },
  {
   "cell_type": "code",
   "execution_count": 20,
   "metadata": {},
   "outputs": [
    {
     "data": {
      "text/plain": [
       "3-element Array{Float64,1}:\n",
       " 0.0\n",
       " 0.0\n",
       " 0.0"
      ]
     },
     "execution_count": 20,
     "metadata": {},
     "output_type": "execute_result"
    }
   ],
   "source": [
    "A * Z"
   ]
  },
  {
   "cell_type": "code",
   "execution_count": 21,
   "metadata": {},
   "outputs": [
    {
     "data": {
      "text/plain": [
       "((W = [1.7376317682933795 1.7161351527001492 0.8389669804895821; 1.7376317682933795 1.7161351527001492 0.8389669804895821; 1.7376317682933795 1.7161351527001492 0.8389669804895821], ψ = nothing), [1.470079394605298 1.470079394605298; 1.1421219378754743 1.1421219378754743; 0.9793091739213722 0.9793091739213722])"
      ]
     },
     "execution_count": 21,
     "metadata": {},
     "output_type": "execute_result"
    }
   ],
   "source": [
    "gradient((x, y) -> x * y |> sum, A, X)"
   ]
  },
  {
   "cell_type": "code",
   "execution_count": 22,
   "metadata": {},
   "outputs": [
    {
     "data": {
      "text/plain": [
       "((W = [1.0 2.0 7.0; 1.0 2.0 7.0; 1.0 2.0 7.0], ψ = [1.470079394605298; 1.1421219378754743; 0.0]), [1.470079394605298 0.0; 0.0 1.1421219378754743; 0.9793091739213722 0.9793091739213722])"
      ]
     },
     "execution_count": 22,
     "metadata": {},
     "output_type": "execute_result"
    }
   ],
   "source": [
    "gradient((x, y) -> x * y |> sum, A, Y)"
   ]
  },
  {
   "cell_type": "code",
   "execution_count": 23,
   "metadata": {},
   "outputs": [
    {
     "data": {
      "text/plain": [
       "((W = [0.0 0.0 0.0; 0.0 0.0 0.0; 0.0 0.0 0.0], ψ = [1.470079394605298, 1.1421219378754743, 0.9793091739213722]), nothing)"
      ]
     },
     "execution_count": 23,
     "metadata": {},
     "output_type": "execute_result"
    }
   ],
   "source": [
    "gradient((x, y) -> x * y |> sum, A, Z)"
   ]
  },
  {
   "cell_type": "markdown",
   "metadata": {},
   "source": [
    "## Maybe hot"
   ]
  },
  {
   "cell_type": "code",
   "execution_count": 24,
   "metadata": {},
   "outputs": [
    {
     "data": {
      "text/plain": [
       "3-element Flux.OneHotVector:\n",
       " 1\n",
       " 0\n",
       " 0"
      ]
     },
     "execution_count": 24,
     "metadata": {},
     "output_type": "execute_result"
    }
   ],
   "source": [
    "oh1 = Flux.onehot(1, 1:3)"
   ]
  },
  {
   "cell_type": "code",
   "execution_count": 25,
   "metadata": {},
   "outputs": [
    {
     "data": {
      "text/plain": [
       "3-element MaybeHotVector{Int64,Int64,Bool}:\n",
       " 1\n",
       " 0\n",
       " 0"
      ]
     },
     "execution_count": 25,
     "metadata": {},
     "output_type": "execute_result"
    }
   ],
   "source": [
    "mh1 = maybehot(1, 1:3)\n",
    "mh1::AbstractVector{Bool}"
   ]
  },
  {
   "cell_type": "code",
   "execution_count": 26,
   "metadata": {},
   "outputs": [
    {
     "data": {
      "text/plain": [
       "3-element Flux.OneHotVector:\n",
       " 1\n",
       " 0\n",
       " 0"
      ]
     },
     "execution_count": 26,
     "metadata": {},
     "output_type": "execute_result"
    }
   ],
   "source": [
    "Flux.onehot(mh1)"
   ]
  },
  {
   "cell_type": "code",
   "execution_count": 27,
   "metadata": {},
   "outputs": [
    {
     "data": {
      "text/plain": [
       "3-element MaybeHotVector{Missing,Int64,Missing}:\n",
       " missing\n",
       " missing\n",
       " missing"
      ]
     },
     "execution_count": 27,
     "metadata": {},
     "output_type": "execute_result"
    }
   ],
   "source": [
    "mh2 = Mill.maybehot(missing, 1:3)\n",
    "mh2::AbstractVector{Missing}"
   ]
  },
  {
   "cell_type": "code",
   "execution_count": 28,
   "metadata": {},
   "outputs": [
    {
     "data": {
      "text/plain": [
       "3×2 Flux.OneHotMatrix{Array{Flux.OneHotVector,1}}:\n",
       " 1  0\n",
       " 0  0\n",
       " 0  1"
      ]
     },
     "execution_count": 28,
     "metadata": {},
     "output_type": "execute_result"
    }
   ],
   "source": [
    "ohb1 = Flux.onehotbatch([1, 3], 1:3)"
   ]
  },
  {
   "cell_type": "code",
   "execution_count": 29,
   "metadata": {},
   "outputs": [
    {
     "data": {
      "text/plain": [
       "3×2 MaybeHotMatrix{Int64,Array{Int64,1},Int64,Bool}:\n",
       " 1  0\n",
       " 0  0\n",
       " 0  1"
      ]
     },
     "execution_count": 29,
     "metadata": {},
     "output_type": "execute_result"
    }
   ],
   "source": [
    "mhb1 = Mill.maybehotbatch([1, 3], 1:3)\n",
    "mhb1::AbstractMatrix{Bool}"
   ]
  },
  {
   "cell_type": "code",
   "execution_count": 30,
   "metadata": {},
   "outputs": [
    {
     "data": {
      "text/plain": [
       "3×2 Flux.OneHotMatrix{Array{Flux.OneHotVector,1}}:\n",
       " 1  0\n",
       " 0  0\n",
       " 0  1"
      ]
     },
     "execution_count": 30,
     "metadata": {},
     "output_type": "execute_result"
    }
   ],
   "source": [
    "Flux.onehotbatch(mhb1)"
   ]
  },
  {
   "cell_type": "code",
   "execution_count": 31,
   "metadata": {},
   "outputs": [
    {
     "data": {
      "text/plain": [
       "3×3 MaybeHotMatrix{Union{Missing, Int64},Array{Union{Missing, Int64},1},Int64,Union{Missing, Bool}}:\n",
       "  true  missing  false\n",
       " false  missing  false\n",
       " false  missing   true"
      ]
     },
     "execution_count": 31,
     "metadata": {},
     "output_type": "execute_result"
    }
   ],
   "source": [
    "mhb2 = Mill.maybehotbatch([1, missing, 3], 1:3)\n",
    "mhb2::AbstractMatrix{Union{Bool, Missing}}"
   ]
  },
  {
   "cell_type": "code",
   "execution_count": 32,
   "metadata": {},
   "outputs": [
    {
     "data": {
      "text/plain": [
       "3×3 Array{Float64,2}:\n",
       " 0.659976  0.249149   0.340554\n",
       " 0.188916  0.0600629  0.707417\n",
       " 0.796855  0.366108   0.873953"
      ]
     },
     "execution_count": 32,
     "metadata": {},
     "output_type": "execute_result"
    }
   ],
   "source": [
    "x = rand(3,3)"
   ]
  },
  {
   "cell_type": "code",
   "execution_count": 33,
   "metadata": {},
   "outputs": [
    {
     "data": {
      "text/plain": [
       "3-element Array{Float64,1}:\n",
       " 0.6599758842988541\n",
       " 0.18891628920034576\n",
       " 0.7968547948247389"
      ]
     },
     "execution_count": 33,
     "metadata": {},
     "output_type": "execute_result"
    }
   ],
   "source": [
    "x * oh1"
   ]
  },
  {
   "cell_type": "code",
   "execution_count": 34,
   "metadata": {},
   "outputs": [
    {
     "data": {
      "text/plain": [
       "3-element Array{Float64,1}:\n",
       " 0.6599758842988541\n",
       " 0.18891628920034576\n",
       " 0.7968547948247389"
      ]
     },
     "execution_count": 34,
     "metadata": {},
     "output_type": "execute_result"
    }
   ],
   "source": [
    "x * mh1"
   ]
  },
  {
   "cell_type": "code",
   "execution_count": 35,
   "metadata": {},
   "outputs": [
    {
     "data": {
      "text/plain": [
       "3-element Array{Missing,1}:\n",
       " missing\n",
       " missing\n",
       " missing"
      ]
     },
     "execution_count": 35,
     "metadata": {},
     "output_type": "execute_result"
    }
   ],
   "source": [
    "x * mh2"
   ]
  },
  {
   "cell_type": "code",
   "execution_count": 36,
   "metadata": {},
   "outputs": [
    {
     "data": {
      "text/plain": [
       "3×2 Array{Float64,2}:\n",
       " 0.659976  0.340554\n",
       " 0.188916  0.707417\n",
       " 0.796855  0.873953"
      ]
     },
     "execution_count": 36,
     "metadata": {},
     "output_type": "execute_result"
    }
   ],
   "source": [
    "x * ohb1"
   ]
  },
  {
   "cell_type": "code",
   "execution_count": 37,
   "metadata": {},
   "outputs": [
    {
     "data": {
      "text/plain": [
       "3×2 Array{Float64,2}:\n",
       " 0.659976  0.340554\n",
       " 0.188916  0.707417\n",
       " 0.796855  0.873953"
      ]
     },
     "execution_count": 37,
     "metadata": {},
     "output_type": "execute_result"
    }
   ],
   "source": [
    "x * mhb1"
   ]
  },
  {
   "cell_type": "code",
   "execution_count": 38,
   "metadata": {},
   "outputs": [
    {
     "data": {
      "text/plain": [
       "3×3 Array{Union{Missing, Float64},2}:\n",
       " 0.659976  missing  0.340554\n",
       " 0.188916  missing  0.707417\n",
       " 0.796855  missing  0.873953"
      ]
     },
     "execution_count": 38,
     "metadata": {},
     "output_type": "execute_result"
    }
   ],
   "source": [
    "x * mhb2"
   ]
  },
  {
   "cell_type": "code",
   "execution_count": 39,
   "metadata": {},
   "outputs": [
    {
     "data": {
      "text/plain": [
       "([1.0 0.0 0.0; 1.0 0.0 0.0; 1.0 0.0 0.0], nothing)"
      ]
     },
     "execution_count": 39,
     "metadata": {},
     "output_type": "execute_result"
    }
   ],
   "source": [
    "gradient((x, y) -> x * y |> sum, x, mh1)"
   ]
  },
  {
   "cell_type": "code",
   "execution_count": 40,
   "metadata": {},
   "outputs": [
    {
     "ename": "LoadError",
     "evalue": "Output should be scalar; gradients are not defined for output missing",
     "output_type": "error",
     "traceback": [
      "Output should be scalar; gradients are not defined for output missing",
      "",
      "Stacktrace:",
      " [1] error(::String) at ./error.jl:33",
      " [2] sensitivity(::Missing) at /Users/simon.mandlik/.julia/packages/Zygote/c0awc/src/compiler/interface.jl:50",
      " [3] gradient(::Function, ::Array{Float64,2}, ::Vararg{Any,N} where N) at /Users/simon.mandlik/.julia/packages/Zygote/c0awc/src/compiler/interface.jl:54",
      " [4] top-level scope at In[40]:1",
      " [5] include_string(::Function, ::Module, ::String, ::String) at ./loading.jl:1091",
      " [6] execute_code(::String, ::String) at /Users/simon.mandlik/.julia/packages/IJulia/rWZ9e/src/execute_request.jl:27",
      " [7] execute_request(::ZMQ.Socket, ::IJulia.Msg) at /Users/simon.mandlik/.julia/packages/IJulia/rWZ9e/src/execute_request.jl:86",
      " [8] #invokelatest#1 at ./essentials.jl:710 [inlined]",
      " [9] invokelatest at ./essentials.jl:709 [inlined]",
      " [10] eventloop(::ZMQ.Socket) at /Users/simon.mandlik/.julia/packages/IJulia/rWZ9e/src/eventloop.jl:8",
      " [11] (::IJulia.var\"#15#18\")() at ./task.jl:356"
     ]
    }
   ],
   "source": [
    "gradient((x, y) -> x * y |> sum, x, mh2)"
   ]
  },
  {
   "cell_type": "code",
   "execution_count": 41,
   "metadata": {},
   "outputs": [
    {
     "data": {
      "text/plain": [
       "([1.0 0.0 1.0; 1.0 0.0 1.0; 1.0 0.0 1.0], nothing)"
      ]
     },
     "execution_count": 41,
     "metadata": {},
     "output_type": "execute_result"
    }
   ],
   "source": [
    "gradient((x, y) -> x * y |> sum, x, mhb1)"
   ]
  },
  {
   "cell_type": "code",
   "execution_count": 42,
   "metadata": {},
   "outputs": [
    {
     "ename": "LoadError",
     "evalue": "Output should be scalar; gradients are not defined for output missing",
     "output_type": "error",
     "traceback": [
      "Output should be scalar; gradients are not defined for output missing",
      "",
      "Stacktrace:",
      " [1] error(::String) at ./error.jl:33",
      " [2] sensitivity(::Missing) at /Users/simon.mandlik/.julia/packages/Zygote/c0awc/src/compiler/interface.jl:50",
      " [3] gradient(::Function, ::Array{Float64,2}, ::Vararg{Any,N} where N) at /Users/simon.mandlik/.julia/packages/Zygote/c0awc/src/compiler/interface.jl:54",
      " [4] top-level scope at In[42]:1",
      " [5] include_string(::Function, ::Module, ::String, ::String) at ./loading.jl:1091",
      " [6] execute_code(::String, ::String) at /Users/simon.mandlik/.julia/packages/IJulia/rWZ9e/src/execute_request.jl:27",
      " [7] execute_request(::ZMQ.Socket, ::IJulia.Msg) at /Users/simon.mandlik/.julia/packages/IJulia/rWZ9e/src/execute_request.jl:86",
      " [8] #invokelatest#1 at ./essentials.jl:710 [inlined]",
      " [9] invokelatest at ./essentials.jl:709 [inlined]",
      " [10] eventloop(::ZMQ.Socket) at /Users/simon.mandlik/.julia/packages/IJulia/rWZ9e/src/eventloop.jl:8",
      " [11] (::IJulia.var\"#15#18\")() at ./task.jl:356"
     ]
    }
   ],
   "source": [
    "gradient((x, y) -> x * y |> sum, x, mhb2)"
   ]
  },
  {
   "cell_type": "markdown",
   "metadata": {},
   "source": [
    "## NGramMatrix with Missing"
   ]
  },
  {
   "cell_type": "code",
   "execution_count": 43,
   "metadata": {},
   "outputs": [
    {
     "data": {
      "text/plain": [
       "6-element Array{Any,1}:\n",
       "   3\n",
       "  32\n",
       " 321\n",
       " 321\n",
       "  21\n",
       "   1"
      ]
     },
     "execution_count": 43,
     "metadata": {},
     "output_type": "execute_result"
    }
   ],
   "source": [
    "NGramIterator([3,2,1] |> collect, 4, 10) |> collect"
   ]
  },
  {
   "cell_type": "code",
   "execution_count": 44,
   "metadata": {},
   "outputs": [
    {
     "data": {
      "text/plain": [
       "2053×2 NGramMatrix{String,Array{String,1},Int64}:\n",
       " \"hello\"\n",
       " \"world\""
      ]
     },
     "execution_count": 44,
     "metadata": {},
     "output_type": "execute_result"
    }
   ],
   "source": [
    "Y1 = NGramMatrix([\"hello\", \"world\"])"
   ]
  },
  {
   "cell_type": "code",
   "execution_count": 45,
   "metadata": {},
   "outputs": [
    {
     "data": {
      "text/plain": [
       "2053×2 SparseMatrixCSC{Float32,UInt64} with 14 stored entries:\n",
       "  [37  , 1]  =  1.0\n",
       "  [105 , 1]  =  1.0\n",
       "  [112 , 1]  =  1.0\n",
       "  [215 , 1]  =  1.0\n",
       "  [1071, 1]  =  1.0\n",
       "  [1113, 1]  =  1.0\n",
       "  [1332, 1]  =  1.0\n",
       "  [101 , 2]  =  1.0\n",
       "  [120 , 2]  =  1.0\n",
       "  [1060, 2]  =  1.0\n",
       "  [1268, 2]  =  1.0\n",
       "  [1279, 2]  =  1.0\n",
       "  [1297, 2]  =  1.0\n",
       "  [1834, 2]  =  1.0"
      ]
     },
     "execution_count": 45,
     "metadata": {},
     "output_type": "execute_result"
    }
   ],
   "source": [
    "Y1S = SparseMatrixCSC(Y1)"
   ]
  },
  {
   "cell_type": "code",
   "execution_count": 46,
   "metadata": {},
   "outputs": [
    {
     "data": {
      "text/plain": [
       "10×2 Array{Float64,2}:\n",
       " 6.7429    4.89728\n",
       " 0.802493  1.2574\n",
       " 5.50749   5.05097\n",
       " 6.3558    6.35945\n",
       " 2.24496   2.18578\n",
       " 6.03901   5.82321\n",
       " 4.33471   4.04752\n",
       " 0.96762   2.32251\n",
       " 5.86388   4.25235\n",
       " 0.120321  1.14825"
      ]
     },
     "execution_count": 46,
     "metadata": {},
     "output_type": "execute_result"
    }
   ],
   "source": [
    "A1 = rand(10, 2053);\n",
    "A1 * Y1"
   ]
  },
  {
   "cell_type": "code",
   "execution_count": 47,
   "metadata": {},
   "outputs": [
    {
     "data": {
      "text/plain": [
       "([0.0 0.0 … 0.0 0.0; 0.0 0.0 … 0.0 0.0; … ; 0.0 0.0 … 0.0 0.0; 0.0 0.0 … 0.0 0.0], nothing)"
      ]
     },
     "execution_count": 47,
     "metadata": {},
     "output_type": "execute_result"
    }
   ],
   "source": [
    "gradient((x, y) -> x * y |> sum, A1, Y1)"
   ]
  },
  {
   "cell_type": "code",
   "execution_count": 48,
   "metadata": {},
   "outputs": [
    {
     "data": {
      "text/plain": [
       "2053×2 NGramMatrix{Missing,Array{Missing,1},Missing}:\n",
       " missing\n",
       " missing"
      ]
     },
     "execution_count": 48,
     "metadata": {},
     "output_type": "execute_result"
    }
   ],
   "source": [
    "Y2 = NGramMatrix([missing, missing])\n",
    "Y2::AbstractMatrix{Missing}"
   ]
  },
  {
   "cell_type": "code",
   "execution_count": 49,
   "metadata": {},
   "outputs": [
    {
     "data": {
      "text/plain": [
       "2053×2 NGramMatrix{Array{Int64,1},Array{Array{Int64,1},1},Int64}:\n",
       " [1, 2, 3]\n",
       " [4, 5, 6]"
      ]
     },
     "execution_count": 49,
     "metadata": {},
     "output_type": "execute_result"
    }
   ],
   "source": [
    "Y3 = NGramMatrix([[1,2,3], [4,5,6]])\n",
    "Y3::AbstractMatrix{Int}"
   ]
  },
  {
   "cell_type": "code",
   "execution_count": 50,
   "metadata": {},
   "outputs": [
    {
     "data": {
      "text/plain": [
       "2053×2 NGramMatrix{Union{Missing, String},Array{Union{Missing, String},1},Union{Missing, Int64}}:\n",
       " missing\n",
       " \"a\""
      ]
     },
     "execution_count": 50,
     "metadata": {},
     "output_type": "execute_result"
    }
   ],
   "source": [
    "Y4 = NGramMatrix([missing, \"a\"])\n",
    "Y4::AbstractMatrix{Union{Missing,Int}}"
   ]
  },
  {
   "cell_type": "code",
   "execution_count": 51,
   "metadata": {},
   "outputs": [
    {
     "data": {
      "text/plain": [
       "Union{AbstractString, Base.CodeUnits, AbstractArray{var\"#s49\",1} where var\"#s49\"<:Integer}"
      ]
     },
     "execution_count": 51,
     "metadata": {},
     "output_type": "execute_result"
    }
   ],
   "source": [
    "Mill.Sequence"
   ]
  },
  {
   "cell_type": "code",
   "execution_count": 52,
   "metadata": {},
   "outputs": [
    {
     "data": {
      "text/plain": [
       "10×2053 PostImputingMatrix{Float64,Array{Float64,1},Array{Float64,2}}:\n",
       "W:\n",
       " 0.963272   0.0404606  0.390423   0.373278   …  0.44633    0.779017  0.372863\n",
       " 0.114642   0.342094   0.148009   0.652059      0.189425   0.234137  0.921334\n",
       " 0.786784   0.558523   0.441413   0.431616      0.0529169  0.941059  0.03051\n",
       " 0.907972   0.909793   0.758402   0.305525      0.956063   0.332242  0.488133\n",
       " 0.320709   0.291119   0.910328   0.484522      0.0268798  0.33306   0.71015\n",
       " 0.862715   0.754819   0.613018   0.977915   …  0.565116   0.77766   0.376214\n",
       " 0.619245   0.47565    0.0211459  0.124565      0.0512021  0.209234  0.985623\n",
       " 0.138231   0.815674   0.792538   0.0188099     0.0257565  0.35159   0.283921\n",
       " 0.837698   0.0319319  0.999336   0.209678      0.966193   0.168612  0.285202\n",
       " 0.0171888  0.531155   0.649938   0.967179      0.0472571  0.100991  0.479984\n",
       "\n",
       "ψ:\n",
       " 0.0\n",
       " 0.0\n",
       " 0.0\n",
       " 0.0\n",
       " 0.0\n",
       " 0.0\n",
       " 0.0\n",
       " 0.0\n",
       " 0.0\n",
       " 0.0"
      ]
     },
     "execution_count": 52,
     "metadata": {},
     "output_type": "execute_result"
    }
   ],
   "source": [
    "A2 = PostImputingMatrix(A1)"
   ]
  },
  {
   "cell_type": "code",
   "execution_count": 53,
   "metadata": {},
   "outputs": [
    {
     "data": {
      "text/plain": [
       "((W = [0.0 0.0 … 0.0 0.0; 0.0 0.0 … 0.0 0.0; … ; 0.0 0.0 … 0.0 0.0; 0.0 0.0 … 0.0 0.0], ψ = nothing), nothing)"
      ]
     },
     "execution_count": 53,
     "metadata": {},
     "output_type": "execute_result"
    }
   ],
   "source": [
    "gradient((x, y) -> x * y |> sum, A2, Y1)"
   ]
  },
  {
   "cell_type": "code",
   "execution_count": 54,
   "metadata": {},
   "outputs": [
    {
     "data": {
      "text/plain": [
       "((W = nothing, ψ = [2.0, 2.0, 2.0, 2.0, 2.0, 2.0, 2.0, 2.0, 2.0, 2.0]), nothing)"
      ]
     },
     "execution_count": 54,
     "metadata": {},
     "output_type": "execute_result"
    }
   ],
   "source": [
    "gradient((x, y) -> x * y |> sum, A2, Y2)"
   ]
  },
  {
   "cell_type": "code",
   "execution_count": 55,
   "metadata": {},
   "outputs": [
    {
     "data": {
      "text/plain": [
       "((W = [0.0 1.0 … 0.0 0.0; 0.0 1.0 … 0.0 0.0; … ; 0.0 1.0 … 0.0 0.0; 0.0 1.0 … 0.0 0.0], ψ = nothing), nothing)"
      ]
     },
     "execution_count": 55,
     "metadata": {},
     "output_type": "execute_result"
    }
   ],
   "source": [
    "gradient((x, y) -> x * y |> sum, A2, Y3)"
   ]
  },
  {
   "cell_type": "code",
   "execution_count": 56,
   "metadata": {},
   "outputs": [
    {
     "data": {
      "text/plain": [
       "((W = [0.0 0.0 … 0.0 0.0; 0.0 0.0 … 0.0 0.0; … ; 0.0 0.0 … 0.0 0.0; 0.0 0.0 … 0.0 0.0], ψ = [1.0; 1.0; … ; 1.0; 1.0]), nothing)"
      ]
     },
     "execution_count": 56,
     "metadata": {},
     "output_type": "execute_result"
    }
   ],
   "source": [
    "gradient((x, y) -> x * y |> sum, A2, Y4)"
   ]
  },
  {
   "cell_type": "markdown",
   "metadata": {},
   "source": [
    "## Post (column) imputing"
   ]
  },
  {
   "cell_type": "code",
   "execution_count": 57,
   "metadata": {},
   "outputs": [
    {
     "data": {
      "text/plain": [
       "3×3 PostImputingMatrix{Float64,Array{Float64,1},Array{Float64,2}}:\n",
       "W:\n",
       " 0.326253  0.0580193   0.386594\n",
       " 0.58196   0.268532    0.139718\n",
       " 0.510112  0.00101466  0.397212\n",
       "\n",
       "ψ:\n",
       " 0.0\n",
       " 0.0\n",
       " 0.0"
      ]
     },
     "execution_count": 57,
     "metadata": {},
     "output_type": "execute_result"
    }
   ],
   "source": [
    "A = PostImputingMatrix(rand(3,3))\n",
    "A::AbstractMatrix{Float64}"
   ]
  },
  {
   "cell_type": "code",
   "execution_count": 58,
   "metadata": {},
   "outputs": [
    {
     "data": {
      "text/plain": [
       "3-element Array{Float64,1}:\n",
       " 0.6185220343693185\n",
       " 0.27575829359651394\n",
       " 0.6233332923556927"
      ]
     },
     "execution_count": 58,
     "metadata": {},
     "output_type": "execute_result"
    }
   ],
   "source": [
    "X = rand(3)"
   ]
  },
  {
   "cell_type": "code",
   "execution_count": 59,
   "metadata": {},
   "outputs": [
    {
     "data": {
      "text/plain": [
       "3-element Array{Float64,1}:\n",
       " 0.4587711954120451\n",
       " 0.5210961391508726\n",
       " 0.5633903832329112"
      ]
     },
     "execution_count": 59,
     "metadata": {},
     "output_type": "execute_result"
    }
   ],
   "source": [
    "A * X"
   ]
  },
  {
   "cell_type": "code",
   "execution_count": 60,
   "metadata": {},
   "outputs": [
    {
     "data": {
      "text/plain": [
       "3×3 MaybeHotMatrix{Union{Missing, Int64},Array{Union{Missing, Int64},1},Int64,Union{Missing, Bool}}:\n",
       "  true  missing  false\n",
       " false  missing  false\n",
       " false  missing   true"
      ]
     },
     "execution_count": 60,
     "metadata": {},
     "output_type": "execute_result"
    }
   ],
   "source": [
    "Y = maybehotbatch([1, missing, 3], 1:3)"
   ]
  },
  {
   "cell_type": "code",
   "execution_count": 61,
   "metadata": {},
   "outputs": [
    {
     "data": {
      "text/plain": [
       "3×3 Array{Float64,2}:\n",
       " 0.326253  0.0  0.386594\n",
       " 0.58196   0.0  0.139718\n",
       " 0.510112  0.0  0.397212"
      ]
     },
     "execution_count": 61,
     "metadata": {},
     "output_type": "execute_result"
    }
   ],
   "source": [
    "A * Y"
   ]
  },
  {
   "cell_type": "code",
   "execution_count": 62,
   "metadata": {},
   "outputs": [
    {
     "data": {
      "text/plain": [
       "3-element MaybeHotVector{Int64,Int64,Bool}:\n",
       " 1\n",
       " 0\n",
       " 0"
      ]
     },
     "execution_count": 62,
     "metadata": {},
     "output_type": "execute_result"
    }
   ],
   "source": [
    "Z = maybehot(1, 1:3)"
   ]
  },
  {
   "cell_type": "code",
   "execution_count": 63,
   "metadata": {},
   "outputs": [
    {
     "data": {
      "text/plain": [
       "3-element Array{Float64,1}:\n",
       " 0.3262534742448131\n",
       " 0.5819604255407069\n",
       " 0.510111637214435"
      ]
     },
     "execution_count": 63,
     "metadata": {},
     "output_type": "execute_result"
    }
   ],
   "source": [
    "A * Z"
   ]
  },
  {
   "cell_type": "code",
   "execution_count": 64,
   "metadata": {},
   "outputs": [
    {
     "data": {
      "text/plain": [
       "((W = [0.6185220343693185 0.27575829359651394 0.6233332923556927; 0.6185220343693185 0.27575829359651394 0.6233332923556927; 0.6185220343693185 0.27575829359651394 0.6233332923556927], ψ = nothing), [1.418325536999955, 0.3275656686722288, 0.9235238651272217])"
      ]
     },
     "execution_count": 64,
     "metadata": {},
     "output_type": "execute_result"
    }
   ],
   "source": [
    "gradient((x, y) -> x * y |> sum, A, X)"
   ]
  },
  {
   "cell_type": "code",
   "execution_count": 65,
   "metadata": {},
   "outputs": [
    {
     "data": {
      "text/plain": [
       "((W = [1.0 0.0 1.0; 1.0 0.0 1.0; 1.0 0.0 1.0], ψ = [1.0; 1.0; 1.0]), nothing)"
      ]
     },
     "execution_count": 65,
     "metadata": {},
     "output_type": "execute_result"
    }
   ],
   "source": [
    "gradient((x, y) -> x * y |> sum, A, Y)"
   ]
  },
  {
   "cell_type": "code",
   "execution_count": 66,
   "metadata": {},
   "outputs": [
    {
     "data": {
      "text/plain": [
       "((W = [1.0 0.0 0.0; 1.0 0.0 0.0; 1.0 0.0 0.0], ψ = nothing), nothing)"
      ]
     },
     "execution_count": 66,
     "metadata": {},
     "output_type": "execute_result"
    }
   ],
   "source": [
    "gradient((x, y) -> x * y |> sum, A, Z)"
   ]
  },
  {
   "cell_type": "markdown",
   "metadata": {},
   "source": [
    "## Reflect in model and integration\n",
    "\n",
    "- better IO for all types and trees\n",
    "- single_key_identity\n",
    "- single_scalar_identity"
   ]
  },
  {
   "cell_type": "code",
   "execution_count": 67,
   "metadata": {},
   "outputs": [
    {
     "data": {
      "text/plain": [
       "PreImputingDense(5, 5)"
      ]
     },
     "execution_count": 67,
     "metadata": {},
     "output_type": "execute_result"
    }
   ],
   "source": [
    "m = PreImputingDense(5, 5)"
   ]
  },
  {
   "cell_type": "code",
   "execution_count": 68,
   "metadata": {},
   "outputs": [
    {
     "data": {
      "text/plain": [
       "Dense{typeof(identity),PreImputingMatrix{Float32,Array{Float32,1},Array{Float32,2}},Array{Float32,1}}"
      ]
     },
     "execution_count": 68,
     "metadata": {},
     "output_type": "execute_result"
    }
   ],
   "source": [
    "typeof(m)"
   ]
  },
  {
   "cell_type": "code",
   "execution_count": 69,
   "metadata": {},
   "outputs": [
    {
     "data": {
      "text/plain": [
       "5×5 PreImputingMatrix{Float32,Array{Float32,1},Array{Float32,2}}:\n",
       "W:\n",
       "  0.090362   0.113137    0.59918   -0.23468    -0.516138\n",
       " -0.22188   -0.399462   -0.755334   0.714779   -0.342677\n",
       "  0.502931  -0.0837839   0.14204   -0.621753    0.677199\n",
       " -0.400684   0.400101    0.614787  -0.406998    0.501981\n",
       " -0.449089   0.460327    0.729261  -0.0588182  -0.552794\n",
       "\n",
       "ψ:\n",
       " 0.0  0.0  0.0  0.0  0.0"
      ]
     },
     "execution_count": 69,
     "metadata": {},
     "output_type": "execute_result"
    }
   ],
   "source": [
    "m.W"
   ]
  },
  {
   "cell_type": "code",
   "execution_count": 70,
   "metadata": {},
   "outputs": [
    {
     "data": {
      "text/plain": [
       "5-element Array{Float32,1}:\n",
       " 0.0\n",
       " 0.0\n",
       " 0.0\n",
       " 0.0\n",
       " 0.0"
      ]
     },
     "execution_count": 70,
     "metadata": {},
     "output_type": "execute_result"
    }
   ],
   "source": [
    "m.b"
   ]
  },
  {
   "cell_type": "code",
   "execution_count": 71,
   "metadata": {},
   "outputs": [
    {
     "data": {
      "text/plain": [
       "identity (generic function with 1 method)"
      ]
     },
     "execution_count": 71,
     "metadata": {},
     "output_type": "execute_result"
    }
   ],
   "source": [
    "m.σ"
   ]
  },
  {
   "cell_type": "code",
   "execution_count": 72,
   "metadata": {},
   "outputs": [
    {
     "data": {
      "text/plain": [
       "PostImputingDense(5, 5)"
      ]
     },
     "execution_count": 72,
     "metadata": {},
     "output_type": "execute_result"
    }
   ],
   "source": [
    "m = PostImputingDense(5, 5)"
   ]
  },
  {
   "cell_type": "code",
   "execution_count": 73,
   "metadata": {},
   "outputs": [
    {
     "data": {
      "text/plain": [
       "Dense{typeof(identity),PostImputingMatrix{Float32,Array{Float32,1},Array{Float32,2}},Array{Float32,1}}"
      ]
     },
     "execution_count": 73,
     "metadata": {},
     "output_type": "execute_result"
    }
   ],
   "source": [
    "typeof(m)"
   ]
  },
  {
   "cell_type": "code",
   "execution_count": 74,
   "metadata": {},
   "outputs": [
    {
     "data": {
      "text/plain": [
       "5×5 PostImputingMatrix{Float32,Array{Float32,1},Array{Float32,2}}:\n",
       "W:\n",
       " -0.656622   0.312365   0.44091   -0.0537639  -0.680408\n",
       "  0.111318  -0.585882  -0.762487  -0.152752    0.312368\n",
       " -0.148554   0.400867  -0.415371   0.290294    0.239165\n",
       " -0.271938   0.380027  -0.273672  -0.297351    0.714995\n",
       " -0.628056   0.450633  -0.468083  -0.291115   -0.398236\n",
       "\n",
       "ψ:\n",
       " 0.0\n",
       " 0.0\n",
       " 0.0\n",
       " 0.0\n",
       " 0.0"
      ]
     },
     "execution_count": 74,
     "metadata": {},
     "output_type": "execute_result"
    }
   ],
   "source": [
    "m.W"
   ]
  },
  {
   "cell_type": "code",
   "execution_count": 75,
   "metadata": {},
   "outputs": [
    {
     "data": {
      "text/plain": [
       "5-element Array{Float32,1}:\n",
       " 0.0\n",
       " 0.0\n",
       " 0.0\n",
       " 0.0\n",
       " 0.0"
      ]
     },
     "execution_count": 75,
     "metadata": {},
     "output_type": "execute_result"
    }
   ],
   "source": [
    "m.b"
   ]
  },
  {
   "cell_type": "code",
   "execution_count": 76,
   "metadata": {},
   "outputs": [
    {
     "data": {
      "text/plain": [
       "identity (generic function with 1 method)"
      ]
     },
     "execution_count": 76,
     "metadata": {},
     "output_type": "execute_result"
    }
   ],
   "source": [
    "m.σ"
   ]
  },
  {
   "cell_type": "code",
   "execution_count": 77,
   "metadata": {},
   "outputs": [
    {
     "name": "stdout",
     "output_type": "stream",
     "text": [
      "\u001b[34mProductNode with 4 obs\u001b[39m\n",
      "\u001b[34m  ├── a: \u001b[39m\u001b[31mProductNode with 4 obs\u001b[39m\n",
      "\u001b[34m  │      \u001b[39m\u001b[31m  └── aa: \u001b[39m\u001b[32mBagNode with 4 obs\u001b[39m\n",
      "\u001b[34m  │      \u001b[39m\u001b[31m          \u001b[39m\u001b[32m  └── \u001b[39m\u001b[37mArrayNode(1x10 Array, Union{Missing, Int64}) with 10 obs\u001b[39m\n",
      "\u001b[34m  ├── b: \u001b[39m\u001b[31mProductNode with 4 obs\u001b[39m\n",
      "\u001b[34m  │      \u001b[39m\u001b[31m  ├── ba: \u001b[39m\u001b[37mArrayNode(2053x4 NGramMatrix, Union{Missing, Int64}) with 4 obs\u001b[39m\n",
      "\u001b[34m  │      \u001b[39m\u001b[31m  └── bb: \u001b[39m\u001b[37mArrayNode(2053x4 NGramMatrix, Int64) with 4 obs\u001b[39m\n",
      "\u001b[34m  └── c: \u001b[39m\u001b[31mProductNode with 4 obs\u001b[39m\n",
      "\u001b[34m         \u001b[39m\u001b[31m  ├── ca: \u001b[39m\u001b[37mArrayNode(10x4 MaybeHotMatrix, Union{Missing, Bool}) with 4 obs\u001b[39m\n",
      "\u001b[34m         \u001b[39m\u001b[31m  └── cb: \u001b[39m\u001b[37mArrayNode(10x4 MaybeHotMatrix, Bool) with 4 obs\u001b[39m"
     ]
    }
   ],
   "source": [
    "x1 = reshape([i%3 == 0 ? missing : i for i in 1:10], 1, 10) |> collect\n",
    "aa = BagNode(ArrayNode(x1), bags([1:2, 3:7, 0:-1, 8:10]))\n",
    "a = ProductNode((; aa))\n",
    "\n",
    "ba = ArrayNode(NGramMatrix([\"a\", missing, missing, \"b\"]))\n",
    "bb = ArrayNode(NGramMatrix([[1,2], [3,4], [5], [6, 7, 8]]))\n",
    "b = ProductNode((; ba, bb))\n",
    "\n",
    "ca = ArrayNode(maybehotbatch([1,missing,9,missing], 1:10))\n",
    "cb = ArrayNode(maybehotbatch([1,2,3,4], 1:10))\n",
    "c = ProductNode((; ca, cb))\n",
    "\n",
    "ds = ProductNode((; a, b, c))\n",
    "printtree(ds)"
   ]
  },
  {
   "cell_type": "code",
   "execution_count": 78,
   "metadata": {},
   "outputs": [
    {
     "name": "stdout",
     "output_type": "stream",
     "text": [
      "\u001b[34mProductModel ↦ ArrayModel(Dense(21, 10)) [\"\"]\u001b[39m\n",
      "\u001b[34m  ├── a: \u001b[39m\u001b[31mProductModel ↦ ArrayModel(identity) [\"E\"]\u001b[39m\n",
      "\u001b[34m  │      \u001b[39m\u001b[31m  └── aa: \u001b[39m\u001b[32mBagModel ↦ ⟨SegmentedMean(1)⟩ ↦ ArrayModel(identity) [\"M\"]\u001b[39m\n",
      "\u001b[34m  │      \u001b[39m\u001b[31m          \u001b[39m\u001b[32m  └── \u001b[39m\u001b[37mArrayModel(PreImputingDense(1, 1)) [\"Q\"]\u001b[39m\n",
      "\u001b[34m  ├── b: \u001b[39m\u001b[31mProductModel ↦ ArrayModel(Dense(20, 10)) [\"U\"]\u001b[39m\n",
      "\u001b[34m  │      \u001b[39m\u001b[31m  ├── ba: \u001b[39m\u001b[37mArrayModel(PostImputingDense(2053, 10)) [\"Y\"]\u001b[39m\n",
      "\u001b[34m  │      \u001b[39m\u001b[31m  └── bb: \u001b[39m\u001b[37mArrayModel(Dense(2053, 10)) [\"c\"]\u001b[39m\n",
      "\u001b[34m  └── c: \u001b[39m\u001b[31mProductModel ↦ ArrayModel(Dense(20, 10)) [\"k\"]\u001b[39m\n",
      "\u001b[34m         \u001b[39m\u001b[31m  ├── ca: \u001b[39m\u001b[37mArrayModel(PostImputingDense(10, 10)) [\"o\"]\u001b[39m\n",
      "\u001b[34m         \u001b[39m\u001b[31m  └── cb: \u001b[39m\u001b[37mArrayModel(Dense(10, 10)) [\"s\"]\u001b[39m"
     ]
    }
   ],
   "source": [
    "m = reflectinmodel(ds)\n",
    "printtree(m; trav=true)"
   ]
  },
  {
   "cell_type": "code",
   "execution_count": 79,
   "metadata": {},
   "outputs": [
    {
     "data": {
      "text/plain": [
       "\u001b[37mArrayModel(identity)\u001b[39m"
      ]
     },
     "execution_count": 79,
     "metadata": {},
     "output_type": "execute_result"
    }
   ],
   "source": [
    "m[\"E\"].m"
   ]
  },
  {
   "cell_type": "code",
   "execution_count": 80,
   "metadata": {},
   "outputs": [
    {
     "data": {
      "text/plain": [
       "1×1 PreImputingMatrix{Float32,Array{Float32,1},Array{Float32,2}}:\n",
       "W:\n",
       " 1.0\n",
       "\n",
       "ψ:\n",
       " 0.0"
      ]
     },
     "execution_count": 80,
     "metadata": {},
     "output_type": "execute_result"
    }
   ],
   "source": [
    "m[\"Q\"].m.W"
   ]
  },
  {
   "cell_type": "code",
   "execution_count": 81,
   "metadata": {},
   "outputs": [
    {
     "name": "stdout",
     "output_type": "stream",
     "text": [
      "\u001b[34mProductModel ↦ ArrayModel(Dense(30, 10))\u001b[39m\n",
      "\u001b[34m  ├── a: \u001b[39m\u001b[31mProductModel ↦ ArrayModel(Dense(10, 10))\u001b[39m\n",
      "\u001b[34m  │      \u001b[39m\u001b[31m  └── aa: \u001b[39m\u001b[32mBagModel ↦ ⟨SegmentedMean(10)⟩ ↦ ArrayModel(Dense(10, 10))\u001b[39m\n",
      "\u001b[34m  │      \u001b[39m\u001b[31m          \u001b[39m\u001b[32m  └── \u001b[39m\u001b[37mArrayModel(PreImputingDense(1, 10))\u001b[39m\n",
      "\u001b[34m  ├── b: \u001b[39m\u001b[31mProductModel ↦ ArrayModel(Dense(20, 10))\u001b[39m\n",
      "\u001b[34m  │      \u001b[39m\u001b[31m  ├── ba: \u001b[39m\u001b[37mArrayModel(PostImputingDense(2053, 10))\u001b[39m\n",
      "\u001b[34m  │      \u001b[39m\u001b[31m  └── bb: \u001b[39m\u001b[37mArrayModel(Dense(2053, 10))\u001b[39m\n",
      "\u001b[34m  └── c: \u001b[39m\u001b[31mProductModel ↦ ArrayModel(Dense(20, 10))\u001b[39m\n",
      "\u001b[34m         \u001b[39m\u001b[31m  ├── ca: \u001b[39m\u001b[37mArrayModel(PostImputingDense(10, 10))\u001b[39m\n",
      "\u001b[34m         \u001b[39m\u001b[31m  └── cb: \u001b[39m\u001b[37mArrayModel(Dense(10, 10))\u001b[39m"
     ]
    }
   ],
   "source": [
    "m = reflectinmodel(ds; single_key_identity=false, single_scalar_identity=false)\n",
    "printtree(m)"
   ]
  },
  {
   "cell_type": "code",
   "execution_count": 82,
   "metadata": {},
   "outputs": [
    {
     "data": {
      "text/plain": [
       "ArrayNode{Array{Float32,2},Nothing}:\n",
       " -0.6906526f0   -1.5865679f0   -0.0047252662f0  -2.7836263f0\n",
       "  1.459733f0     2.668045f0    -0.036307476f0    5.152928f0\n",
       "  1.7881393f-7   0.27434653f0  -0.21518002f0     0.42916465f0\n",
       "  0.2371651f0    0.80481863f0  -0.0021744743f0   0.8122953f0\n",
       "  0.7773101f0    1.1419597f0   -0.3208381f0      2.0551722f0\n",
       " -1.6020952f0   -3.4314964f0   -0.16650856f0    -6.8887873f0\n",
       " -0.97207224f0  -2.1263258f0    0.7065586f0     -3.518024f0\n",
       " -0.98224175f0  -2.0711553f0   -0.12955739f0    -3.7919593f0\n",
       "  0.46770677f0   0.77656f0     -0.39608592f0     1.1985433f0\n",
       " -0.14452562f0  -0.1414824f0   -0.16099665f0    -0.42402506f0"
      ]
     },
     "execution_count": 82,
     "metadata": {},
     "output_type": "execute_result"
    }
   ],
   "source": [
    "m(ds)"
   ]
  },
  {
   "cell_type": "code",
   "execution_count": 83,
   "metadata": {},
   "outputs": [
    {
     "data": {
      "text/plain": [
       "((ms = (a = (ms = (aa = (im = (m = (W = (W = Float32[7.246476; 2.9262583; … ; 12.581346; -8.315677], ψ = Float32[-0.9903941]), b = Float32[2.0317223, 0.8204463, -2.1628757, -2.4787538, -3.0932555, 2.4060163, 0.3597223, 1.4212981, 3.5274801, -2.3314981], σ = nothing),), a = (fs = ((ψ = Float32[0.6772408, 0.27348208, -0.72095853, -0.82625127, -1.0310851, 0.8020054, 0.11990744, 0.47376606, 1.1758267, -0.77716607],),),), bm = (m = (W = Float32[0.6928727 -1.6442821 … -1.4455364 0.7557327; -0.9883072 2.345389 … 2.0619 -1.0779701; … ; 2.2793193 -5.409138 … -4.755331 2.4861078; -0.5148125 1.2217209 … 1.0740505 -0.5615183], b = Float32[1.1737905, -1.6742839, -2.4035165, -1.7210643, -0.5549123, -4.620958, 2.9776359, -1.8292284, 3.861378, -0.8721401], σ = nothing),)),), m = (m = (W = Float32[-0.45558468 1.6156411 … -1.2320051 0.24427187; 0.53019345 -1.8802263 … 1.4337642 -0.28427503; … ; -1.9729818 6.9967904 … -5.335394 1.0578582; 0.61080927 -2.1661143 … 1.6517678 -0.32749897], b = Float32[0.7137412, -0.83062685, 0.2914256, 1.6324792, 1.0250981, -4.9196396, 1.3671468, -3.3070006, 3.0909696, -0.95692354], σ = nothing),)), b = (ms = (ba = (m = (W = (W = Float32[0.0 0.0 … 0.0 0.0; 0.0 0.0 … 0.0 0.0; … ; 0.0 0.0 … 0.0 0.0; 0.0 0.0 … 0.0 0.0], ψ = Float32[-0.97098374; -0.7036183; … ; 0.95415986; 0.6931702]), b = Float32[-1.9419675, -1.4072366, 2.1155415, 0.5970014, 1.710385, 0.95213014, -1.7926228, 3.5772727, 1.9083197, 1.3863404], σ = nothing),), bb = (m = (W = Float32[0.0 -0.7273281 … 0.0 0.0; 0.0 0.1566287 … 0.0 0.0; … ; 0.0 -0.15376344 … 0.0 0.0; 0.0 0.36514184 … 0.0 0.0], b = Float32[-2.9093125, 0.6265148, 2.529054, -0.38323528, 0.6032979, 1.7008134, 3.1557145, -1.3316451, -0.6150538, 1.4605674], σ = nothing),)), m = (m = (W = Float32[0.1343984 0.1428532 … 0.38956773 -0.3274962; -0.12954952 -0.13769929 … -0.37551278 0.31568065; … ; 0.08256436 0.08775836 … 0.2393214 -0.20118925; 0.1735961 0.18451677 … 0.50318635 -0.42301148], b = Float32[-2.7158146, 2.6178324, -0.21799695, -3.1097574, 3.2499723, -3.3641744, 1.1699293, -5.1552086, -1.6683941, -3.5078902], σ = nothing),)), c = (ms = (ca = (m = (W = (W = Float32[-0.60443246 0.0 … -0.60443246 0.0; 0.6788298 0.0 … 0.6788298 0.0; … ; -0.20234971 0.0 … -0.20234971 0.0; -0.72315246 0.0 … -0.72315246 0.0], ψ = Float32[-1.2088649; 1.3576596; … ; -0.40469941; -1.4463049]), b = Float32[-2.4177299, 2.7153192, 2.0576985, 1.9495587, 1.7060014, -1.500776, -0.95013344, -0.5670173, -0.80939883, -2.8926098], σ = nothing),), cb = (m = (W = Float32[-0.14508088 -0.14508088 … 0.0 0.0; 0.047662765 0.047662765 … 0.0 0.0; … ; 0.7579597 0.7579597 … 0.0 0.0; -0.084867224 -0.084867224 … 0.0 0.0], b = Float32[-0.5803235, 0.19065106, 5.092706, -0.35865802, -0.7427464, 6.550759, 1.4845911, 1.9770349, 3.031839, -0.3394689], σ = nothing),)), m = (m = (W = Float32[-0.24034715 -0.21983266 … -0.121180676 -0.34787905; 0.54522425 0.49868745 … 0.2748967 0.78915894; … ; 0.5913388 0.54086596 … 0.2981472 0.8559053; 0.7999445 0.7316664 … 0.40332416 1.1578417], b = Float32[1.525637, -3.460887, -0.40159976, -1.4277494, 8.379857, 1.8154944, -5.731342, -2.539935, -3.7536056, -5.0777593], σ = nothing),))), m = (m = (W = Float32[7.4128985 7.086751 … -0.79313767 0.614616; 7.4128985 7.086751 … -0.79313767 0.614616; … ; 7.4128985 7.086751 … -0.79313767 0.614616; 7.4128985 7.086751 … -0.79313767 0.614616], b = Float32[4.0, 4.0, 4.0, 4.0, 4.0, 4.0, 4.0, 4.0, 4.0, 4.0], σ = nothing),)),)"
      ]
     },
     "execution_count": 83,
     "metadata": {},
     "output_type": "execute_result"
    }
   ],
   "source": [
    "g = gradient(m -> sum(m(ds).data), m)"
   ]
  },
  {
   "cell_type": "markdown",
   "metadata": {},
   "source": [
    "## Lens utilities\n",
    "- ModelLens\n",
    "- findnonempty\n",
    "- findin\n",
    "- replacein"
   ]
  },
  {
   "cell_type": "code",
   "execution_count": 84,
   "metadata": {},
   "outputs": [
    {
     "name": "stdout",
     "output_type": "stream",
     "text": [
      "\u001b[34mProductNode with 4 obs [\"\"]\u001b[39m\n",
      "\u001b[34m  ├── a: \u001b[39m\u001b[31mProductNode with 4 obs [\"E\"]\u001b[39m\n",
      "\u001b[34m  │      \u001b[39m\u001b[31m  └── aa: \u001b[39m\u001b[32mBagNode with 4 obs [\"M\"]\u001b[39m\n",
      "\u001b[34m  │      \u001b[39m\u001b[31m          \u001b[39m\u001b[32m  └── \u001b[39m\u001b[37mArrayNode(1x10 Array, Union{Missing, Int64}) with 10 obs [\"Q\"]\u001b[39m\n",
      "\u001b[34m  ├── b: \u001b[39m\u001b[31mProductNode with 4 obs [\"U\"]\u001b[39m\n",
      "\u001b[34m  │      \u001b[39m\u001b[31m  ├── ba: \u001b[39m\u001b[37mArrayNode(2053x4 NGramMatrix, Union{Missing, Int64}) with 4 obs [\"Y\"]\u001b[39m\n",
      "\u001b[34m  │      \u001b[39m\u001b[31m  └── bb: \u001b[39m\u001b[37mArrayNode(2053x4 NGramMatrix, Int64) with 4 obs [\"c\"]\u001b[39m\n",
      "\u001b[34m  └── c: \u001b[39m\u001b[31mProductNode with 4 obs [\"k\"]\u001b[39m\n",
      "\u001b[34m         \u001b[39m\u001b[31m  ├── ca: \u001b[39m\u001b[37mArrayNode(10x4 MaybeHotMatrix, Union{Missing, Bool}) with 4 obs [\"o\"]\u001b[39m\n",
      "\u001b[34m         \u001b[39m\u001b[31m  └── cb: \u001b[39m\u001b[37mArrayNode(10x4 MaybeHotMatrix, Bool) with 4 obs [\"s\"]\u001b[39m"
     ]
    }
   ],
   "source": [
    "printtree(ds; trav=true)"
   ]
  },
  {
   "cell_type": "code",
   "execution_count": 85,
   "metadata": {},
   "outputs": [
    {
     "name": "stdout",
     "output_type": "stream",
     "text": [
      "\u001b[34mProductModel ↦ ArrayModel(Dense(30, 10)) [\"\"]\u001b[39m\n",
      "\u001b[34m  ├── a: \u001b[39m\u001b[31mProductModel ↦ ArrayModel(Dense(10, 10)) [\"E\"]\u001b[39m\n",
      "\u001b[34m  │      \u001b[39m\u001b[31m  └── aa: \u001b[39m\u001b[32mBagModel ↦ ⟨SegmentedMean(10)⟩ ↦ ArrayModel(Dense(10, 10)) [\"M\"]\u001b[39m\n",
      "\u001b[34m  │      \u001b[39m\u001b[31m          \u001b[39m\u001b[32m  └── \u001b[39m\u001b[37mArrayModel(PreImputingDense(1, 10)) [\"Q\"]\u001b[39m\n",
      "\u001b[34m  ├── b: \u001b[39m\u001b[31mProductModel ↦ ArrayModel(Dense(20, 10)) [\"U\"]\u001b[39m\n",
      "\u001b[34m  │      \u001b[39m\u001b[31m  ├── ba: \u001b[39m\u001b[37mArrayModel(PostImputingDense(2053, 10)) [\"Y\"]\u001b[39m\n",
      "\u001b[34m  │      \u001b[39m\u001b[31m  └── bb: \u001b[39m\u001b[37mArrayModel(Dense(2053, 10)) [\"c\"]\u001b[39m\n",
      "\u001b[34m  └── c: \u001b[39m\u001b[31mProductModel ↦ ArrayModel(Dense(20, 10)) [\"k\"]\u001b[39m\n",
      "\u001b[34m         \u001b[39m\u001b[31m  ├── ca: \u001b[39m\u001b[37mArrayModel(PostImputingDense(10, 10)) [\"o\"]\u001b[39m\n",
      "\u001b[34m         \u001b[39m\u001b[31m  └── cb: \u001b[39m\u001b[37mArrayModel(Dense(10, 10)) [\"s\"]\u001b[39m"
     ]
    }
   ],
   "source": [
    "printtree(m; trav=true)"
   ]
  },
  {
   "cell_type": "code",
   "execution_count": 86,
   "metadata": {},
   "outputs": [
    {
     "data": {
      "text/plain": [
       "5-element Array{Setfield.ComposedLens{Setfield.PropertyLens{:data},_A} where _A,1}:\n",
       " (@lens _.data.a.data.aa.data.data)\n",
       " (@lens _.data.b.data.ba.data)\n",
       " (@lens _.data.b.data.bb.data)\n",
       " (@lens _.data.c.data.ca.data)\n",
       " (@lens _.data.c.data.cb.data)"
      ]
     },
     "execution_count": 86,
     "metadata": {},
     "output_type": "execute_result"
    }
   ],
   "source": [
    "lens = findnonempty(ds)"
   ]
  },
  {
   "cell_type": "code",
   "execution_count": 87,
   "metadata": {},
   "outputs": [
    {
     "data": {
      "text/plain": [
       "5-element Array{Setfield.ComposedLens{Setfield.PropertyLens{:ms},LI} where LI,1}:\n",
       " (@lens _.ms.a.ms.aa.im.m)\n",
       " (@lens _.ms.b.ms.ba.m)\n",
       " (@lens _.ms.b.ms.bb.m)\n",
       " (@lens _.ms.c.ms.ca.m)\n",
       " (@lens _.ms.c.ms.cb.m)"
      ]
     },
     "execution_count": 87,
     "metadata": {},
     "output_type": "execute_result"
    }
   ],
   "source": [
    "[ModelLens(m, l) for l in lens]"
   ]
  },
  {
   "cell_type": "code",
   "execution_count": 88,
   "metadata": {},
   "outputs": [
    {
     "name": "stdout",
     "output_type": "stream",
     "text": [
      "\u001b[34mProductNode with 4 obs\u001b[39m\n",
      "\u001b[34m  ├── a: \u001b[39m\u001b[31mProductNode with 4 obs\u001b[39m\n",
      "\u001b[34m  │      \u001b[39m\u001b[31m  └── aa: \u001b[39m\u001b[32mBagNode with 4 obs\u001b[39m\n",
      "\u001b[34m  │      \u001b[39m\u001b[31m          \u001b[39m\u001b[32m  └── \u001b[39m\u001b[37mArrayNode(1x10 Array, Float64) with 10 obs\u001b[39m\n",
      "\u001b[34m  ├── b: \u001b[39m\u001b[31mProductNode with 4 obs\u001b[39m\n",
      "\u001b[34m  │      \u001b[39m\u001b[31m  ├── ba: \u001b[39m\u001b[37mArrayNode(2053x4 NGramMatrix, Union{Missing, Int64}) with 4 obs\u001b[39m\n",
      "\u001b[34m  │      \u001b[39m\u001b[31m  └── bb: \u001b[39m\u001b[37mArrayNode(2053x4 NGramMatrix, Int64) with 4 obs\u001b[39m\n",
      "\u001b[34m  └── c: \u001b[39m\u001b[31mProductNode with 4 obs\u001b[39m\n",
      "\u001b[34m         \u001b[39m\u001b[31m  ├── ca: \u001b[39m\u001b[37mArrayNode(10x4 MaybeHotMatrix, Union{Missing, Bool}) with 4 obs\u001b[39m\n",
      "\u001b[34m         \u001b[39m\u001b[31m  └── cb: \u001b[39m\u001b[37mArrayNode(10x4 MaybeHotMatrix, Bool) with 4 obs\u001b[39m"
     ]
    }
   ],
   "source": [
    "n = ArrayNode(rand(1, 10))\n",
    "ds2 = replacein(ds, ds[\"Q\"], n)\n",
    "printtree(ds2)"
   ]
  },
  {
   "cell_type": "code",
   "execution_count": 89,
   "metadata": {},
   "outputs": [],
   "source": [
    "findin(ds, n)"
   ]
  },
  {
   "cell_type": "code",
   "execution_count": 90,
   "metadata": {},
   "outputs": [
    {
     "data": {
      "text/plain": [
       "(@lens _.data.a.data.aa.data)"
      ]
     },
     "execution_count": 90,
     "metadata": {},
     "output_type": "execute_result"
    }
   ],
   "source": [
    "findin(ds2, n)"
   ]
  },
  {
   "cell_type": "markdown",
   "metadata": {},
   "source": [
    "## Error checks"
   ]
  },
  {
   "cell_type": "code",
   "execution_count": 91,
   "metadata": {},
   "outputs": [
    {
     "ename": "LoadError",
     "evalue": "ArgumentError: It doesn't make sense to vcat PreImputingMatrices",
     "output_type": "error",
     "traceback": [
      "ArgumentError: It doesn't make sense to vcat PreImputingMatrices",
      "",
      "Stacktrace:",
      " [1] |>(::ArgumentError, ::typeof(throw)) at ./operators.jl:834",
      " [2] vcat(::PreImputingMatrix{Float64,Array{Float64,1},Array{Float64,2}}, ::PreImputingMatrix{Float64,Array{Float64,1},Array{Float64,2}}) at /Users/simon.mandlik/.julia/dev/Mill/src/matrices/pre_imputing_matrix.jl:14",
      " [3] top-level scope at In[91]:1",
      " [4] include_string(::Function, ::Module, ::String, ::String) at ./loading.jl:1091",
      " [5] execute_code(::String, ::String) at /Users/simon.mandlik/.julia/packages/IJulia/rWZ9e/src/execute_request.jl:27",
      " [6] execute_request(::ZMQ.Socket, ::IJulia.Msg) at /Users/simon.mandlik/.julia/packages/IJulia/rWZ9e/src/execute_request.jl:86",
      " [7] #invokelatest#1 at ./essentials.jl:710 [inlined]",
      " [8] invokelatest at ./essentials.jl:709 [inlined]",
      " [9] eventloop(::ZMQ.Socket) at /Users/simon.mandlik/.julia/packages/IJulia/rWZ9e/src/eventloop.jl:8",
      " [10] (::IJulia.var\"#15#18\")() at ./task.jl:356"
     ]
    }
   ],
   "source": [
    "vcat(PreImputingMatrix(rand(2,2)),\n",
    "     PreImputingMatrix(rand(2,2))\n",
    ")"
   ]
  },
  {
   "cell_type": "code",
   "execution_count": 92,
   "metadata": {},
   "outputs": [
    {
     "ename": "LoadError",
     "evalue": "ArgumentError: It doesn't make sense to hcat PostImputingMatrices",
     "output_type": "error",
     "traceback": [
      "ArgumentError: It doesn't make sense to hcat PostImputingMatrices",
      "",
      "Stacktrace:",
      " [1] |>(::ArgumentError, ::typeof(throw)) at ./operators.jl:834",
      " [2] hcat(::PostImputingMatrix{Float64,Array{Float64,1},Array{Float64,2}}, ::PostImputingMatrix{Float64,Array{Float64,1},Array{Float64,2}}) at /Users/simon.mandlik/.julia/dev/Mill/src/matrices/post_imputing_matrix.jl:14",
      " [3] top-level scope at In[92]:1",
      " [4] include_string(::Function, ::Module, ::String, ::String) at ./loading.jl:1091",
      " [5] execute_code(::String, ::String) at /Users/simon.mandlik/.julia/packages/IJulia/rWZ9e/src/execute_request.jl:27",
      " [6] execute_request(::ZMQ.Socket, ::IJulia.Msg) at /Users/simon.mandlik/.julia/packages/IJulia/rWZ9e/src/execute_request.jl:86",
      " [7] #invokelatest#1 at ./essentials.jl:710 [inlined]",
      " [8] invokelatest at ./essentials.jl:709 [inlined]",
      " [9] eventloop(::ZMQ.Socket) at /Users/simon.mandlik/.julia/packages/IJulia/rWZ9e/src/eventloop.jl:8",
      " [10] (::IJulia.var\"#15#18\")() at ./task.jl:356"
     ]
    }
   ],
   "source": [
    "hcat(PostImputingMatrix(rand(2,2)),\n",
    "     PostImputingMatrix(rand(2,2))\n",
    ")"
   ]
  },
  {
   "cell_type": "code",
   "execution_count": 93,
   "metadata": {},
   "outputs": [
    {
     "ename": "LoadError",
     "evalue": "DimensionMismatch(\"Number of columns of A (2) must correspond with number of rows of B (3)\")",
     "output_type": "error",
     "traceback": [
      "DimensionMismatch(\"Number of columns of A (2) must correspond with number of rows of B (3)\")",
      "",
      "Stacktrace:",
      " [1] |>(::DimensionMismatch, ::typeof(throw)) at ./operators.jl:834",
      " [2] _check_mul at /Users/simon.mandlik/.julia/dev/Mill/src/matrices/matrix.jl:14 [inlined]",
      " [3] *(::PreImputingMatrix{Float64,Array{Float64,1},Array{Float64,2}}, ::Array{Float64,2}) at /Users/simon.mandlik/.julia/dev/Mill/src/matrices/pre_imputing_matrix.jl:19",
      " [4] top-level scope at In[93]:1",
      " [5] include_string(::Function, ::Module, ::String, ::String) at ./loading.jl:1091",
      " [6] execute_code(::String, ::String) at /Users/simon.mandlik/.julia/packages/IJulia/rWZ9e/src/execute_request.jl:27",
      " [7] execute_request(::ZMQ.Socket, ::IJulia.Msg) at /Users/simon.mandlik/.julia/packages/IJulia/rWZ9e/src/execute_request.jl:86",
      " [8] #invokelatest#1 at ./essentials.jl:710 [inlined]",
      " [9] invokelatest at ./essentials.jl:709 [inlined]",
      " [10] eventloop(::ZMQ.Socket) at /Users/simon.mandlik/.julia/packages/IJulia/rWZ9e/src/eventloop.jl:8",
      " [11] (::IJulia.var\"#15#18\")() at ./task.jl:356"
     ]
    }
   ],
   "source": [
    "PreImputingMatrix(rand(2,2)) * rand(3,3)"
   ]
  },
  {
   "cell_type": "code",
   "execution_count": 94,
   "metadata": {},
   "outputs": [
    {
     "ename": "LoadError",
     "evalue": "DimensionMismatch(\"Number of columns of A (2) must correspond with length of b (4)\")",
     "output_type": "error",
     "traceback": [
      "DimensionMismatch(\"Number of columns of A (2) must correspond with length of b (4)\")",
      "",
      "Stacktrace:",
      " [1] |>(::DimensionMismatch, ::typeof(throw)) at ./operators.jl:834",
      " [2] _check_mul at /Users/simon.mandlik/.julia/dev/Mill/src/matrices/matrix.jl:6 [inlined]",
      " [3] *(::PostImputingMatrix{Float64,Array{Float64,1},Array{Float64,2}}, ::MaybeHotVector{Int64,Int64,Bool}) at /Users/simon.mandlik/.julia/dev/Mill/src/matrices/post_imputing_matrix.jl:21",
      " [4] top-level scope at In[94]:1",
      " [5] include_string(::Function, ::Module, ::String, ::String) at ./loading.jl:1091",
      " [6] execute_code(::String, ::String) at /Users/simon.mandlik/.julia/packages/IJulia/rWZ9e/src/execute_request.jl:27",
      " [7] execute_request(::ZMQ.Socket, ::IJulia.Msg) at /Users/simon.mandlik/.julia/packages/IJulia/rWZ9e/src/execute_request.jl:86",
      " [8] #invokelatest#1 at ./essentials.jl:710 [inlined]",
      " [9] invokelatest at ./essentials.jl:709 [inlined]",
      " [10] eventloop(::ZMQ.Socket) at /Users/simon.mandlik/.julia/packages/IJulia/rWZ9e/src/eventloop.jl:8",
      " [11] (::IJulia.var\"#15#18\")() at ./task.jl:356"
     ]
    }
   ],
   "source": [
    "PostImputingMatrix(rand(2,2)) * maybehot(1, 1:4)"
   ]
  },
  {
   "cell_type": "code",
   "execution_count": 95,
   "metadata": {},
   "outputs": [
    {
     "ename": "LoadError",
     "evalue": "BoundsError: attempt to access 4-element MaybeHotVector{Int64,Int64,Bool} at index [5]",
     "output_type": "error",
     "traceback": [
      "BoundsError: attempt to access 4-element MaybeHotVector{Int64,Int64,Bool} at index [5]",
      "",
      "Stacktrace:",
      " [1] throw_boundserror(::MaybeHotVector{Int64,Int64,Bool}, ::Tuple{Int64}) at ./abstractarray.jl:541",
      " [2] checkbounds at ./abstractarray.jl:506 [inlined]",
      " [3] getindex(::MaybeHotVector{Int64,Int64,Bool}, ::Int64) at /Users/simon.mandlik/.julia/dev/Mill/src/matrices/maybe_hot_vector.jl:11",
      " [4] top-level scope at In[95]:1",
      " [5] include_string(::Function, ::Module, ::String, ::String) at ./loading.jl:1091",
      " [6] execute_code(::String, ::String) at /Users/simon.mandlik/.julia/packages/IJulia/rWZ9e/src/execute_request.jl:27",
      " [7] execute_request(::ZMQ.Socket, ::IJulia.Msg) at /Users/simon.mandlik/.julia/packages/IJulia/rWZ9e/src/execute_request.jl:86",
      " [8] #invokelatest#1 at ./essentials.jl:710 [inlined]",
      " [9] invokelatest at ./essentials.jl:709 [inlined]",
      " [10] eventloop(::ZMQ.Socket) at /Users/simon.mandlik/.julia/packages/IJulia/rWZ9e/src/eventloop.jl:8",
      " [11] (::IJulia.var\"#15#18\")() at ./task.jl:356"
     ]
    }
   ],
   "source": [
    "maybehot(1, 1:4)[5]"
   ]
  },
  {
   "cell_type": "code",
   "execution_count": 96,
   "metadata": {},
   "outputs": [
    {
     "ename": "LoadError",
     "evalue": "BoundsError: attempt to access 2053×2 NGramMatrix{String,Array{String,1},Int64} at index [:, 3]",
     "output_type": "error",
     "traceback": [
      "BoundsError: attempt to access 2053×2 NGramMatrix{String,Array{String,1},Int64} at index [:, 3]",
      "",
      "Stacktrace:",
      " [1] throw_boundserror(::NGramMatrix{String,Array{String,1},Int64}, ::Tuple{Colon,Int64}) at ./abstractarray.jl:541",
      " [2] checkbounds(::NGramMatrix{String,Array{String,1},Int64}, ::Function, ::Int64) at ./abstractarray.jl:506",
      " [3] getindex(::NGramMatrix{String,Array{String,1},Int64}, ::Function, ::Int64) at /Users/simon.mandlik/.julia/dev/Mill/src/matrices/ngram_matrix.jl:184",
      " [4] top-level scope at In[96]:1",
      " [5] include_string(::Function, ::Module, ::String, ::String) at ./loading.jl:1091",
      " [6] execute_code(::String, ::String) at /Users/simon.mandlik/.julia/packages/IJulia/rWZ9e/src/execute_request.jl:27",
      " [7] execute_request(::ZMQ.Socket, ::IJulia.Msg) at /Users/simon.mandlik/.julia/packages/IJulia/rWZ9e/src/execute_request.jl:86",
      " [8] #invokelatest#1 at ./essentials.jl:710 [inlined]",
      " [9] invokelatest at ./essentials.jl:709 [inlined]",
      " [10] eventloop(::ZMQ.Socket) at /Users/simon.mandlik/.julia/packages/IJulia/rWZ9e/src/eventloop.jl:8",
      " [11] (::IJulia.var\"#15#18\")() at ./task.jl:356"
     ]
    }
   ],
   "source": [
    "NGramMatrix([\"a\", \"b\"])[:, 3]"
   ]
  },
  {
   "cell_type": "markdown",
   "metadata": {},
   "source": [
    "## Other changes\n",
    "\n",
    "- renamed default params everywhere to `ψ` for consistency\n",
    "- `terseprint` is gone and will be available from a standalone package\n",
    "- `!` versions of functions for global flags\n",
    "- `ChainRulesCore.rrule` instead of `Zygote.@adjoint` where possible\n",
    "- `Nothing{T}` and `Maybe{T}` union types\n",
    "- `ImputingMatrix`, `Sequence`\n",
    "- `IdentityModel` changed to `ArrayMode{::typeof(identity)}`\n",
    "- `3x` more tests than before\n",
    "- more efficient aggregation operators\n",
    "- at least `julia-1.5` required from now on\n",
    "- `nobs` from `LearnBase` gone and replaced by `StatsBase` version\n",
    "- `Macrotools` as a dependency used from `Flux`\n",
    "- reworked and simplified gradient checking tests"
   ]
  },
  {
   "cell_type": "markdown",
   "metadata": {},
   "source": [
    "# Still TODO:\n",
    "- better alphabet (reduced, wildcards, start/end of word characters `\\‘`, `\\'`)\n",
    "- profiling and benchmarking performance\n",
    "- documentation\n",
    "- merge to master and release"
   ]
  }
 ],
 "metadata": {
  "kernelspec": {
   "display_name": "Julia 1.5.0",
   "language": "julia",
   "name": "julia-1.5"
  },
  "language_info": {
   "file_extension": ".jl",
   "mimetype": "application/julia",
   "name": "julia",
   "version": "1.5.0"
  }
 },
 "nbformat": 4,
 "nbformat_minor": 4
}

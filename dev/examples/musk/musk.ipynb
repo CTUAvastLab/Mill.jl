{
 "cells": [
  {
   "cell_type": "markdown",
   "source": [
    "# Musk"
   ],
   "metadata": {}
  },
  {
   "cell_type": "markdown",
   "source": [
    "[`Musk dataset`](https://archive.ics.uci.edu/ml/datasets/Musk+\\(Version+2\\)) is a classic MIL problem of the field, introduced in [Thomas G. Dietterich, Richard H. Lathrop, Tomás Lozano-Pérez (1997)](http://www.sciencedirect.com/science/article/pii/S0004370296000343). Below we demonstrate how to solve this problem using [`Mill.jl`](https://github.com/CTUAvastLab/Mill.jl).\n",
    "The full environment and the script is accessible [here](https://github.com/CTUAvastLab/Mill.jl/tree/master/docs/src/examples/musk)."
   ],
   "metadata": {}
  },
  {
   "cell_type": "markdown",
   "source": [
    "We start by activating the environment and installing required packages"
   ],
   "metadata": {}
  },
  {
   "outputs": [
    {
     "name": "stdout",
     "output_type": "stream",
     "text": [
      "  Activating project at `~/work/Mill.jl/Mill.jl/docs/src/examples/musk`\n",
      "Status `~/work/Mill.jl/Mill.jl/docs/src/examples/musk/Project.toml`\n",
      "  [5789e2e9] FileIO v1.16.0\n",
      "  [587475ba] Flux v0.13.14\n",
      "  [033835bb] JLD2 v0.4.31\n",
      "  [1d0525e4] Mill v2.8.3 `../../../..`\n",
      "  [e88e6eb3] Zygote v0.6.59\n",
      "  [10745b16] Statistics\n"
     ]
    }
   ],
   "cell_type": "code",
   "source": [
    "using Pkg\n",
    "Pkg.activate(pwd())\n",
    "Pkg.instantiate()\n",
    "Pkg.status()"
   ],
   "metadata": {},
   "execution_count": 1
  },
  {
   "cell_type": "markdown",
   "source": [
    "We load all dependencies and fix the seed:"
   ],
   "metadata": {}
  },
  {
   "outputs": [],
   "cell_type": "code",
   "source": [
    "using FileIO, JLD2, Statistics, Mill, Flux\n",
    "using Flux: throttle, @epochs\n",
    "using Mill: reflectinmodel\n",
    "using Base.Iterators: repeated\n",
    "\n",
    "using Random; Random.seed!(42);"
   ],
   "metadata": {},
   "execution_count": 2
  },
  {
   "cell_type": "markdown",
   "source": [
    "Then we load the dataset and transform it into a `Mill` structure. The `musk.jld2` file contains...\n",
    "* a matrix with features, each column is one instance:"
   ],
   "metadata": {}
  },
  {
   "outputs": [
    {
     "output_type": "execute_result",
     "data": {
      "text/plain": "166×476 Matrix{Float32}:\n   42.0    42.0    42.0    42.0    42.0  …    38.0    43.0    39.0    52.0\n -198.0  -191.0  -191.0  -198.0  -198.0     -123.0  -102.0   -58.0  -121.0\n -109.0  -142.0  -142.0  -110.0  -102.0     -139.0   -20.0    27.0   -24.0\n  -75.0   -65.0   -75.0   -65.0   -75.0       30.0  -101.0    31.0  -104.0\n -117.0  -117.0  -117.0  -117.0  -117.0     -117.0  -116.0  -117.0  -116.0\n   11.0    55.0    11.0    55.0    10.0  …   -88.0   200.0   -92.0   195.0\n   23.0    49.0    49.0    23.0    24.0      214.0  -166.0    85.0  -162.0\n  -88.0  -170.0  -161.0   -95.0   -87.0      -13.0    66.0    21.0    76.0\n  -28.0   -45.0   -45.0   -28.0   -28.0      -74.0  -222.0   -73.0  -226.0\n  -27.0     5.0   -28.0     5.0   -28.0     -129.0   -49.0   -68.0   -56.0\n    ⋮                                    ⋱                             ⋮\n  -74.0  -302.0   -73.0  -302.0   -73.0     -226.0    32.0  -232.0    34.0\n -129.0    60.0  -127.0    60.0  -127.0     -210.0   136.0  -206.0   133.0\n -120.0  -120.0  -120.0  -120.0    51.0       20.0   -15.0    13.0   -20.0\n  -38.0   -39.0   -38.0   -39.0   128.0  …    55.0   143.0    45.0   -46.0\n   30.0    31.0    30.0    30.0   144.0      119.0   121.0   116.0    95.0\n   48.0    48.0    48.0    48.0    43.0       79.0    55.0    79.0    98.0\n  -37.0   -37.0   -37.0   -37.0   -30.0      -28.0   -37.0   -28.0   -14.0\n    6.0     5.0     5.0     6.0    14.0        4.0   -19.0     3.0    12.0\n   30.0    30.0    31.0    30.0    26.0  …    74.0   -36.0    74.0    96.0"
     },
     "metadata": {},
     "execution_count": 3
    }
   ],
   "cell_type": "code",
   "source": [
    "fMat = load(\"musk.jld2\", \"fMat\")"
   ],
   "metadata": {},
   "execution_count": 3
  },
  {
   "cell_type": "markdown",
   "source": [
    "* the ids of samples (*bags* in MIL terminology) specifying to which each instance (column in `fMat`) belongs to:"
   ],
   "metadata": {}
  },
  {
   "outputs": [
    {
     "output_type": "execute_result",
     "data": {
      "text/plain": "476-element Vector{Int64}:\n  1\n  1\n  1\n  1\n  2\n  2\n  2\n  2\n  3\n  3\n  ⋮\n 91\n 92\n 92\n 92\n 92\n 92\n 92\n 92\n 92"
     },
     "metadata": {},
     "execution_count": 4
    }
   ],
   "cell_type": "code",
   "source": [
    "bagids = load(\"musk.jld2\", \"bagids\")"
   ],
   "metadata": {},
   "execution_count": 4
  },
  {
   "cell_type": "markdown",
   "source": [
    "* and labels defined on the level of instances:"
   ],
   "metadata": {}
  },
  {
   "outputs": [
    {
     "output_type": "execute_result",
     "data": {
      "text/plain": "476-element Vector{Int64}:\n 1\n 1\n 1\n 1\n 1\n 1\n 1\n 1\n 1\n 1\n ⋮\n 0\n 0\n 0\n 0\n 0\n 0\n 0\n 0\n 0"
     },
     "metadata": {},
     "execution_count": 5
    }
   ],
   "cell_type": "code",
   "source": [
    "y = load(\"musk.jld2\", \"y\")"
   ],
   "metadata": {},
   "execution_count": 5
  },
  {
   "cell_type": "markdown",
   "source": [
    "We create a `BagNode` structure which holds:\n",
    "1. feature matrix and\n",
    "2. ranges identifying which columns in the feature matrix each bag spans."
   ],
   "metadata": {}
  },
  {
   "outputs": [
    {
     "output_type": "execute_result",
     "data": {
      "text/plain": "\u001b[34mBagNode\u001b[39m\u001b[90m  # 92 obs, 1.500 KiB\u001b[39m\n\u001b[34m  ╰── \u001b[39m\u001b[39mArrayNode(166×476 Array with Float32 elements)\u001b[90m  # 476 obs, 308.703 KiB\u001b[39m"
     },
     "metadata": {},
     "execution_count": 6
    }
   ],
   "cell_type": "code",
   "source": [
    "ds = BagNode(ArrayNode(fMat), bagids)"
   ],
   "metadata": {},
   "execution_count": 6
  },
  {
   "cell_type": "markdown",
   "source": [
    "This representation ensures that feed-forward networks do not need to deal with bag boundaries and always process full continuous matrices:"
   ],
   "metadata": {}
  },
  {
   "cell_type": "markdown",
   "source": [
    "We also compute labels on the level of bags. In the `Musk` problem, bag label is defined as a maximum of instance labels (i.e. a bag is positive if at least one of its instances is positive):"
   ],
   "metadata": {}
  },
  {
   "outputs": [
    {
     "output_type": "execute_result",
     "data": {
      "text/plain": "2×92 OneHotMatrix(::Vector{UInt32}) with eltype Bool:\n ⋅  ⋅  ⋅  ⋅  ⋅  ⋅  ⋅  ⋅  ⋅  ⋅  ⋅  ⋅  ⋅  …  1  1  1  1  1  1  1  1  1  1  1  1\n 1  1  1  1  1  1  1  1  1  1  1  1  1     ⋅  ⋅  ⋅  ⋅  ⋅  ⋅  ⋅  ⋅  ⋅  ⋅  ⋅  ⋅"
     },
     "metadata": {},
     "execution_count": 7
    }
   ],
   "cell_type": "code",
   "source": [
    "y = map(i -> maximum(y[i]) + 1, ds.bags)\n",
    "y_oh = Flux.onehotbatch(y, 1:2)"
   ],
   "metadata": {},
   "execution_count": 7
  },
  {
   "cell_type": "markdown",
   "source": [
    "Once the data are in `Mill` internal format, we will manually create a model. `BagModel` is designed to implement a basic multi-instance learning model utilizing two feed-forward networks with an aggregaton operator in between:"
   ],
   "metadata": {}
  },
  {
   "outputs": [
    {
     "output_type": "execute_result",
     "data": {
      "text/plain": "\u001b[34mBagModel ↦ BagCount([SegmentedMean(10); SegmentedMax(10)]) ↦ Chain(Dense(21 => \u001b[39m\u001b[90m⋯\u001b[39m\n\u001b[34m  ╰── \u001b[39m\u001b[39mArrayModel(Dense(166 => 10, tanh))\u001b[90m  # 2 arrays, 1_670 params, 6.602 KiB\u001b[39m"
     },
     "metadata": {},
     "execution_count": 8
    }
   ],
   "cell_type": "code",
   "source": [
    "model = BagModel(\n",
    "    Dense(166, 10, Flux.tanh),\n",
    "    BagCount(SegmentedMeanMax(10)),\n",
    "    Chain(Dense(21, 10, Flux.tanh), Dense(10, 2)))"
   ],
   "metadata": {},
   "execution_count": 8
  },
  {
   "cell_type": "markdown",
   "source": [
    "Instances are first passed through a single layer with 10 neurons (input dimension is 166) with `tanh` non-linearity, then we use `mean` and `max` aggregation functions simultaneously (for some problems, max is better then mean, therefore we use both), and then we use one layer with 10 neurons and `tanh` nonlinearity followed by linear layer with 2 neurons (output dimension). We check that forward pass works"
   ],
   "metadata": {}
  },
  {
   "outputs": [
    {
     "output_type": "execute_result",
     "data": {
      "text/plain": "2×92 Matrix{Float32}:\n 1.00559   0.71191   1.14493   1.19852   …  0.665943  0.016557  0.477948\n 0.800909  0.486771  0.790684  0.714799     0.45441   0.295348  1.42942"
     },
     "metadata": {},
     "execution_count": 9
    }
   ],
   "cell_type": "code",
   "source": [
    "model(ds)"
   ],
   "metadata": {},
   "execution_count": 9
  },
  {
   "cell_type": "markdown",
   "source": [
    "Since `Mill` is entirely compatible with [`Flux.jl`](https://fluxml.ai), we can use its `cross-entropy` loss function:..."
   ],
   "metadata": {}
  },
  {
   "outputs": [
    {
     "output_type": "execute_result",
     "data": {
      "text/plain": "loss (generic function with 1 method)"
     },
     "metadata": {},
     "execution_count": 10
    }
   ],
   "cell_type": "code",
   "source": [
    "loss(ds, y_oh) = Flux.logitcrossentropy(model(ds), y_oh)"
   ],
   "metadata": {},
   "execution_count": 10
  },
  {
   "cell_type": "markdown",
   "source": [
    "...and run simple training procedure using its tooling:"
   ],
   "metadata": {}
  },
  {
   "outputs": [
    {
     "name": "stdout",
     "output_type": "stream",
     "text": [
      "┌ Warning: The macro `@epochs` will be removed from Flux 0.14.\n",
      "│ As an alternative, you can write a simple `for i in 1:epochs` loop.\n",
      "│   caller = eval at boot.jl:368 [inlined]\n",
      "└ @ Core ./boot.jl:368\n",
      "[ Info: Epoch 1\n",
      "0.018946962\n",
      "[ Info: Epoch 2\n",
      "0.0037844975\n",
      "[ Info: Epoch 3\n",
      "0.0013878477\n",
      "[ Info: Epoch 4\n",
      "0.00063628616\n",
      "[ Info: Epoch 5\n",
      "0.00032373675\n",
      "[ Info: Epoch 6\n",
      "0.00017440894\n",
      "[ Info: Epoch 7\n",
      "9.721945e-5\n",
      "[ Info: Epoch 8\n",
      "5.539199e-5\n",
      "[ Info: Epoch 9\n",
      "3.2017975e-5\n",
      "[ Info: Epoch 10\n",
      "1.8711045e-5\n"
     ]
    }
   ],
   "cell_type": "code",
   "source": [
    "opt = Flux.ADAM()\n",
    "@epochs 10 begin\n",
    "    Flux.train!(loss, Flux.params(model), repeated((ds, y_oh), 1000), opt)\n",
    "    println(loss(ds, y_oh))\n",
    "end"
   ],
   "metadata": {},
   "execution_count": 11
  },
  {
   "cell_type": "markdown",
   "source": [
    "Finally, we calculate the (training) error:"
   ],
   "metadata": {}
  },
  {
   "outputs": [
    {
     "output_type": "execute_result",
     "data": {
      "text/plain": "0.0"
     },
     "metadata": {},
     "execution_count": 12
    }
   ],
   "cell_type": "code",
   "source": [
    "mean(mapslices(argmax, model(ds), dims = 1)' .≠ y)"
   ],
   "metadata": {},
   "execution_count": 12
  },
  {
   "cell_type": "markdown",
   "source": [
    "---\n",
    "\n",
    "*This notebook was generated using [Literate.jl](https://github.com/fredrikekre/Literate.jl).*"
   ],
   "metadata": {}
  }
 ],
 "nbformat_minor": 3,
 "metadata": {
  "language_info": {
   "file_extension": ".jl",
   "mimetype": "application/julia",
   "name": "julia",
   "version": "1.8.5"
  },
  "kernelspec": {
   "name": "julia-1.8",
   "display_name": "Julia 1.8.5",
   "language": "julia"
  }
 },
 "nbformat": 4
}
